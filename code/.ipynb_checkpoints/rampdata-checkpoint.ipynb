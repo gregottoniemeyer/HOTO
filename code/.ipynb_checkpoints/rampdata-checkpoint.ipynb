{
 "cells": [
  {
   "cell_type": "code",
   "execution_count": null,
   "id": "7416f946-e10a-4c0d-b532-1699103206ae",
   "metadata": {},
   "outputs": [],
   "source": [
    "# Load the CSV file provided by the user and follow the steps as per their request.\n",
    "import pandas as pd\n",
    "import time\n",
    "import matplotlib.pyplot as plt\n",
    "import random\n",
    "import matplotlib.colors as mcolors\n",
    "\n",
    "path = \"../data/Health Journey Timeline Raw.csv\"\n",
    "df = pd.read_csv(path)"
   ]
  },
  {
   "cell_type": "code",
   "execution_count": null,
   "id": "158c668f-68be-420b-972b-dadd3814db1d",
   "metadata": {},
   "outputs": [],
   "source": [
    "# Step 2: Convert the 'Date' column to Unix time and create a new column 'UNIX_Time'\n",
    "df['UNIX_Time'] = pd.to_datetime(df['Date']).apply(lambda x: int(time.mktime(x.timetuple())))\n",
    "\n",
    "# Step 3: Subtract the first row's Unix time from all rows to get the elapsed time\n",
    "df['Elapsed'] = df['UNIX_Time'] - df['UNIX_Time'].iloc[0]\n",
    "\n",
    "# Step 4: Normalize the 'Elapsed' data\n",
    "df['Elapsed_Normalized'] = df['Elapsed'] / df['Elapsed'].max()\n",
    "\n",
    "# Step 5: Compute the 'Duration' by taking the difference between consecutive 'UNIX_Time' values\n",
    "df['Duration'] = df['UNIX_Time'].diff().fillna(0)\n"
   ]
  },
  {
   "cell_type": "code",
   "execution_count": null,
   "id": "34852e82-85f2-41b7-81da-759d60ca157b",
   "metadata": {},
   "outputs": [],
   "source": [
    "df.head()"
   ]
  },
  {
   "cell_type": "code",
   "execution_count": null,
   "id": "cf80bd1d-56e6-46ed-96b9-e9238cd05651",
   "metadata": {},
   "outputs": [],
   "source": [
    "df.to_csv(\"../data/rampdata.csv\")"
   ]
  },
  {
   "cell_type": "code",
   "execution_count": null,
   "id": "acc6ca16-f971-48b6-8539-25e2cf27b604",
   "metadata": {},
   "outputs": [],
   "source": []
  }
 ],
 "metadata": {
  "kernelspec": {
   "display_name": "Python 3 (ipykernel)",
   "language": "python",
   "name": "python3"
  },
  "language_info": {
   "codemirror_mode": {
    "name": "ipython",
    "version": 3
   },
   "file_extension": ".py",
   "mimetype": "text/x-python",
   "name": "python",
   "nbconvert_exporter": "python",
   "pygments_lexer": "ipython3",
   "version": "3.12.2"
  }
 },
 "nbformat": 4,
 "nbformat_minor": 5
}
