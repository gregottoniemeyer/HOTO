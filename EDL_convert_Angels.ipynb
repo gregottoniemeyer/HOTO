{
 "cells": [
  {
   "cell_type": "code",
   "execution_count": 3,
   "id": "ce7a2f2a-1914-4f10-acd3-127386ed16d0",
   "metadata": {},
   "outputs": [],
   "source": [
    "import pandas as pd\n",
    "import numpy as np\n",
    "import matplotlib.pyplot as plt\n",
    "\n",
    "# Load the CSV file\n",
    "#file_path = './data/creatures_EDL.csv'\n",
    "file_path = './data/angels_EDL.csv'\n",
    "df = pd.read_csv(file_path, sep='\\t')\n",
    "df.columns = ['CHANNEL', 'EVENT', 'CLIP NAME', 'START TIME', 'END TIME', 'DURATION', 'STATE']"
   ]
  },
  {
   "cell_type": "code",
   "execution_count": 4,
   "id": "f5e19a3e-70b5-4f7a-a8fc-beea63776036",
   "metadata": {},
   "outputs": [
    {
     "data": {
      "text/html": [
       "<div>\n",
       "<style scoped>\n",
       "    .dataframe tbody tr th:only-of-type {\n",
       "        vertical-align: middle;\n",
       "    }\n",
       "\n",
       "    .dataframe tbody tr th {\n",
       "        vertical-align: top;\n",
       "    }\n",
       "\n",
       "    .dataframe thead th {\n",
       "        text-align: right;\n",
       "    }\n",
       "</style>\n",
       "<table border=\"1\" class=\"dataframe\">\n",
       "  <thead>\n",
       "    <tr style=\"text-align: right;\">\n",
       "      <th></th>\n",
       "      <th>CHANNEL</th>\n",
       "      <th>EVENT</th>\n",
       "      <th>CLIP NAME</th>\n",
       "      <th>START TIME</th>\n",
       "      <th>END TIME</th>\n",
       "      <th>DURATION</th>\n",
       "      <th>STATE</th>\n",
       "    </tr>\n",
       "  </thead>\n",
       "  <tbody>\n",
       "    <tr>\n",
       "      <th>0</th>\n",
       "      <td>1</td>\n",
       "      <td>1</td>\n",
       "      <td>Hoto2</td>\n",
       "      <td>00:08:31:28</td>\n",
       "      <td>00:09:10:29</td>\n",
       "      <td>00:00:39:01</td>\n",
       "      <td>Unmuted</td>\n",
       "    </tr>\n",
       "    <tr>\n",
       "      <th>1</th>\n",
       "      <td>1</td>\n",
       "      <td>2</td>\n",
       "      <td>Morgan Vocal Pads 2</td>\n",
       "      <td>00:09:17:29</td>\n",
       "      <td>00:09:35:07</td>\n",
       "      <td>00:00:17:07</td>\n",
       "      <td>Unmuted</td>\n",
       "    </tr>\n",
       "  </tbody>\n",
       "</table>\n",
       "</div>"
      ],
      "text/plain": [
       "   CHANNEL  EVENT            CLIP NAME      START TIME        END TIME  \\\n",
       "0        1      1                Hoto2     00:08:31:28     00:09:10:29   \n",
       "1        1      2  Morgan Vocal Pads 2     00:09:17:29     00:09:35:07   \n",
       "\n",
       "         DURATION    STATE  \n",
       "0     00:00:39:01  Unmuted  \n",
       "1     00:00:17:07  Unmuted  "
      ]
     },
     "execution_count": 4,
     "metadata": {},
     "output_type": "execute_result"
    }
   ],
   "source": [
    "df.head()"
   ]
  },
  {
   "cell_type": "code",
   "execution_count": 5,
   "id": "8cf4fd8d-7ed0-4075-a2eb-ae0dfc475ce4",
   "metadata": {},
   "outputs": [
    {
     "data": {
      "text/plain": [
       "(2, 7)"
      ]
     },
     "execution_count": 5,
     "metadata": {},
     "output_type": "execute_result"
    }
   ],
   "source": [
    "df.shape"
   ]
  },
  {
   "cell_type": "code",
   "execution_count": 6,
   "id": "20351ca0-0fba-42ea-8585-044518e815eb",
   "metadata": {},
   "outputs": [],
   "source": [
    "df['DURATION'] = df['DURATION'].str.strip()\n",
    "df['START TIME'] = df['START TIME'].str.strip()\n",
    "df['END TIME'] = df['END TIME'].str.strip()"
   ]
  },
  {
   "cell_type": "code",
   "execution_count": 7,
   "id": "03d8f216-6799-48cf-89f1-364a610b3b3e",
   "metadata": {},
   "outputs": [
    {
     "name": "stdout",
     "output_type": "stream",
     "text": [
      "   CHANNEL  EVENT            CLIP NAME   START TIME     END TIME     DURATION  \\\n",
      "0        1      1                Hoto2  00:08:31:28  00:09:10:29  00:00:39:01   \n",
      "1        1      2  Morgan Vocal Pads 2  00:09:17:29  00:09:35:07  00:00:17:07   \n",
      "\n",
      "     STATE  \n",
      "0  Unmuted  \n",
      "1  Unmuted  \n"
     ]
    }
   ],
   "source": [
    "#clean data\n",
    "df_cleaned = df[df['DURATION'] != \"00:00:00:00\"]\n",
    "\n",
    "# Reindex the DataFrame\n",
    "df_cleaned.reset_index(drop=True, inplace=True)\n",
    "\n",
    "# Display the cleaned DataFrame\n",
    "print(df_cleaned)"
   ]
  },
  {
   "cell_type": "code",
   "execution_count": 8,
   "id": "5f01e3d4-2f6a-4f23-836f-f1ec9ae7fdfd",
   "metadata": {},
   "outputs": [
    {
     "data": {
      "text/plain": [
       "CHANNEL        int64\n",
       "EVENT          int64\n",
       "CLIP NAME     object\n",
       "START TIME    object\n",
       "END TIME      object\n",
       "DURATION      object\n",
       "STATE         object\n",
       "dtype: object"
      ]
     },
     "execution_count": 8,
     "metadata": {},
     "output_type": "execute_result"
    }
   ],
   "source": [
    "df_cleaned.dtypes"
   ]
  },
  {
   "cell_type": "code",
   "execution_count": 9,
   "id": "26db01f5-831c-45b2-8538-e7c7a7520dff",
   "metadata": {},
   "outputs": [
    {
     "data": {
      "text/html": [
       "<div>\n",
       "<style scoped>\n",
       "    .dataframe tbody tr th:only-of-type {\n",
       "        vertical-align: middle;\n",
       "    }\n",
       "\n",
       "    .dataframe tbody tr th {\n",
       "        vertical-align: top;\n",
       "    }\n",
       "\n",
       "    .dataframe thead th {\n",
       "        text-align: right;\n",
       "    }\n",
       "</style>\n",
       "<table border=\"1\" class=\"dataframe\">\n",
       "  <thead>\n",
       "    <tr style=\"text-align: right;\">\n",
       "      <th></th>\n",
       "      <th>CHANNEL</th>\n",
       "      <th>EVENT</th>\n",
       "      <th>CLIP NAME</th>\n",
       "      <th>START TIME</th>\n",
       "      <th>END TIME</th>\n",
       "      <th>DURATION</th>\n",
       "      <th>STATE</th>\n",
       "    </tr>\n",
       "  </thead>\n",
       "  <tbody>\n",
       "    <tr>\n",
       "      <th>0</th>\n",
       "      <td>1</td>\n",
       "      <td>1</td>\n",
       "      <td>Hoto2</td>\n",
       "      <td>00:08:31:28</td>\n",
       "      <td>00:09:10:29</td>\n",
       "      <td>00:00:39:01</td>\n",
       "      <td>Unmuted</td>\n",
       "    </tr>\n",
       "    <tr>\n",
       "      <th>1</th>\n",
       "      <td>1</td>\n",
       "      <td>2</td>\n",
       "      <td>Morgan Vocal Pads 2</td>\n",
       "      <td>00:09:17:29</td>\n",
       "      <td>00:09:35:07</td>\n",
       "      <td>00:00:17:07</td>\n",
       "      <td>Unmuted</td>\n",
       "    </tr>\n",
       "  </tbody>\n",
       "</table>\n",
       "</div>"
      ],
      "text/plain": [
       "   CHANNEL  EVENT            CLIP NAME   START TIME     END TIME     DURATION  \\\n",
       "0        1      1                Hoto2  00:08:31:28  00:09:10:29  00:00:39:01   \n",
       "1        1      2  Morgan Vocal Pads 2  00:09:17:29  00:09:35:07  00:00:17:07   \n",
       "\n",
       "     STATE  \n",
       "0  Unmuted  \n",
       "1  Unmuted  "
      ]
     },
     "execution_count": 9,
     "metadata": {},
     "output_type": "execute_result"
    }
   ],
   "source": [
    "df_cleaned.head()"
   ]
  },
  {
   "cell_type": "code",
   "execution_count": 10,
   "id": "22ae7f10-a39d-4469-99cc-404561ef103c",
   "metadata": {},
   "outputs": [
    {
     "data": {
      "text/html": [
       "<div>\n",
       "<style scoped>\n",
       "    .dataframe tbody tr th:only-of-type {\n",
       "        vertical-align: middle;\n",
       "    }\n",
       "\n",
       "    .dataframe tbody tr th {\n",
       "        vertical-align: top;\n",
       "    }\n",
       "\n",
       "    .dataframe thead th {\n",
       "        text-align: right;\n",
       "    }\n",
       "</style>\n",
       "<table border=\"1\" class=\"dataframe\">\n",
       "  <thead>\n",
       "    <tr style=\"text-align: right;\">\n",
       "      <th></th>\n",
       "      <th>CHANNEL</th>\n",
       "      <th>EVENT</th>\n",
       "      <th>CLIP NAME</th>\n",
       "      <th>START TIME</th>\n",
       "      <th>END TIME</th>\n",
       "      <th>DURATION</th>\n",
       "      <th>STATE</th>\n",
       "      <th>Frames</th>\n",
       "      <th>Runtime</th>\n",
       "      <th>Beats</th>\n",
       "    </tr>\n",
       "  </thead>\n",
       "  <tbody>\n",
       "    <tr>\n",
       "      <th>0</th>\n",
       "      <td>1</td>\n",
       "      <td>1</td>\n",
       "      <td>Hoto2</td>\n",
       "      <td>00:08:31:28</td>\n",
       "      <td>00:09:10:29</td>\n",
       "      <td>00:00:39:01</td>\n",
       "      <td>Unmuted</td>\n",
       "      <td>15358</td>\n",
       "      <td>1171</td>\n",
       "      <td>1</td>\n",
       "    </tr>\n",
       "    <tr>\n",
       "      <th>1</th>\n",
       "      <td>1</td>\n",
       "      <td>2</td>\n",
       "      <td>Morgan Vocal Pads 2</td>\n",
       "      <td>00:09:17:29</td>\n",
       "      <td>00:09:35:07</td>\n",
       "      <td>00:00:17:07</td>\n",
       "      <td>Unmuted</td>\n",
       "      <td>16739</td>\n",
       "      <td>517</td>\n",
       "      <td>0</td>\n",
       "    </tr>\n",
       "  </tbody>\n",
       "</table>\n",
       "</div>"
      ],
      "text/plain": [
       "   CHANNEL  EVENT            CLIP NAME   START TIME     END TIME     DURATION  \\\n",
       "0        1      1                Hoto2  00:08:31:28  00:09:10:29  00:00:39:01   \n",
       "1        1      2  Morgan Vocal Pads 2  00:09:17:29  00:09:35:07  00:00:17:07   \n",
       "\n",
       "     STATE  Frames  Runtime  Beats  \n",
       "0  Unmuted   15358     1171      1  \n",
       "1  Unmuted   16739      517      0  "
      ]
     },
     "execution_count": 10,
     "metadata": {},
     "output_type": "execute_result"
    }
   ],
   "source": [
    "df_cleaned['START TIME'] = df_cleaned['START TIME'].astype(str)\n",
    "\n",
    "def timecode_to_frames(timecode):\n",
    "    try:\n",
    "        hours, minutes, seconds, frames = map(int, timecode.split(':'))\n",
    "        total_frames = ((hours * 3600) + (minutes * 60) + seconds) * 30 + frames\n",
    "        return total_frames\n",
    "    except ValueError:\n",
    "        return None  # Return None for invalid timecodes\n",
    "\n",
    "# Apply the function to the 'START TIME' column\n",
    "df_cleaned['Frames'] = df_cleaned['START TIME'].apply(timecode_to_frames)\n",
    "df_cleaned['Runtime'] = df_cleaned['DURATION'].apply(timecode_to_frames)\n",
    "df_cleaned['Beats'] = df_cleaned['EVENT'] % 2\n",
    "df_cleaned.head()"
   ]
  },
  {
   "cell_type": "code",
   "execution_count": 11,
   "id": "9a20f576-bfd7-44b8-a546-fbeb31a62d76",
   "metadata": {},
   "outputs": [
    {
     "data": {
      "text/html": [
       "<div>\n",
       "<style scoped>\n",
       "    .dataframe tbody tr th:only-of-type {\n",
       "        vertical-align: middle;\n",
       "    }\n",
       "\n",
       "    .dataframe tbody tr th {\n",
       "        vertical-align: top;\n",
       "    }\n",
       "\n",
       "    .dataframe thead th {\n",
       "        text-align: right;\n",
       "    }\n",
       "</style>\n",
       "<table border=\"1\" class=\"dataframe\">\n",
       "  <thead>\n",
       "    <tr style=\"text-align: right;\">\n",
       "      <th></th>\n",
       "      <th>CHANNEL</th>\n",
       "      <th>EVENT</th>\n",
       "      <th>CLIP NAME</th>\n",
       "      <th>START TIME</th>\n",
       "      <th>END TIME</th>\n",
       "      <th>DURATION</th>\n",
       "      <th>STATE</th>\n",
       "      <th>Frames</th>\n",
       "      <th>Runtime</th>\n",
       "      <th>Beats</th>\n",
       "    </tr>\n",
       "  </thead>\n",
       "  <tbody>\n",
       "    <tr>\n",
       "      <th>0</th>\n",
       "      <td>1</td>\n",
       "      <td>1</td>\n",
       "      <td>Hoto2</td>\n",
       "      <td>00:08:31:28</td>\n",
       "      <td>00:09:10:29</td>\n",
       "      <td>00:00:39:01</td>\n",
       "      <td>Unmuted</td>\n",
       "      <td>15358</td>\n",
       "      <td>1171</td>\n",
       "      <td>1</td>\n",
       "    </tr>\n",
       "    <tr>\n",
       "      <th>1</th>\n",
       "      <td>1</td>\n",
       "      <td>2</td>\n",
       "      <td>Morgan Vocal Pads 2</td>\n",
       "      <td>00:09:17:29</td>\n",
       "      <td>00:09:35:07</td>\n",
       "      <td>00:00:17:07</td>\n",
       "      <td>Unmuted</td>\n",
       "      <td>16739</td>\n",
       "      <td>517</td>\n",
       "      <td>0</td>\n",
       "    </tr>\n",
       "  </tbody>\n",
       "</table>\n",
       "</div>"
      ],
      "text/plain": [
       "   CHANNEL  EVENT            CLIP NAME   START TIME     END TIME     DURATION  \\\n",
       "0        1      1                Hoto2  00:08:31:28  00:09:10:29  00:00:39:01   \n",
       "1        1      2  Morgan Vocal Pads 2  00:09:17:29  00:09:35:07  00:00:17:07   \n",
       "\n",
       "     STATE  Frames  Runtime  Beats  \n",
       "0  Unmuted   15358     1171      1  \n",
       "1  Unmuted   16739      517      0  "
      ]
     },
     "execution_count": 11,
     "metadata": {},
     "output_type": "execute_result"
    }
   ],
   "source": [
    "# Convert 'Frames' to integer\n",
    "df_cleaned['Frames'] = df_cleaned['Frames'].fillna(0)\n",
    "df_cleaned['Frames'] = df_cleaned['Frames'].astype(int)\n",
    "\n",
    "# Sort by 'Frames' column in ascending order and reset the index\n",
    "df_cleaned = df_cleaned.sort_values(by='Frames').reset_index(drop=True)\n",
    "df_cleaned.tail()"
   ]
  },
  {
   "cell_type": "code",
   "execution_count": 12,
   "id": "55ef8a6e-8e80-4a81-b273-49b749fa5f06",
   "metadata": {},
   "outputs": [],
   "source": [
    "# Save the new DataFrame as a CSV file\n",
    "output_path = './data/angels_01.csv'\n",
    "df_cleaned.to_csv(output_path, index=False)"
   ]
  },
  {
   "cell_type": "code",
   "execution_count": null,
   "id": "b02638b2-1efb-4331-84d3-81631fa4b41d",
   "metadata": {},
   "outputs": [],
   "source": []
  }
 ],
 "metadata": {
  "kernelspec": {
   "display_name": "Python 3 (ipykernel)",
   "language": "python",
   "name": "python3"
  },
  "language_info": {
   "codemirror_mode": {
    "name": "ipython",
    "version": 3
   },
   "file_extension": ".py",
   "mimetype": "text/x-python",
   "name": "python",
   "nbconvert_exporter": "python",
   "pygments_lexer": "ipython3",
   "version": "3.12.2"
  }
 },
 "nbformat": 4,
 "nbformat_minor": 5
}
