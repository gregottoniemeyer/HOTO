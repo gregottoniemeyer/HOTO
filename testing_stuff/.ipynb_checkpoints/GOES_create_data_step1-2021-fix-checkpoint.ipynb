{
 "cells": [
  {
   "cell_type": "markdown",
   "id": "f78cf289-6bc9-43ed-b225-3f7f1c7299eb",
   "metadata": {},
   "source": [
    "# Step 1 to create GOES data timeseries\n",
    "\n",
    "- Creates files with lists of all GOES files in 1 day\n",
    "\n",
    "- Run this before creating GOES timeseries data\n",
    "\n",
    "- Set start date\n",
    "\n",
    "- Set number of days to increment through (does 1 day at a time)\n",
    "\n",
    "This primarily supports creating the historical GOES data. This has to access 288 files per day, and with all those requests, there is risk of failure. Having a static list of filenames to go through was a quick solution to be able to make sure we started again at the same place we ended when the program died.\n",
    "\n",
    "You can check what data is available here: [https://noaa-goes16.s3.amazonaws.com/index.html#ABI-L2-MCMIPC/]()\n",
    "\n"
   ]
  },
  {
   "cell_type": "code",
   "execution_count": 2,
   "id": "ba243286-f7eb-430f-9ca9-694bc9f8e805",
   "metadata": {},
   "outputs": [],
   "source": [
    "#create goes data\n",
    "from goes2go import GOES\n",
    "import xarray as xr\n",
    "import numpy as np\n",
    "import pandas as pd\n",
    "from datetime import datetime, timedelta\n",
    "import warnings\n",
    "warnings.filterwarnings('ignore')\n",
    "\n",
    "#import configuration location and filepath\n",
    "from myconfig import *\n",
    "output_path = output_path_goes_fname\n",
    "\n",
    "def get_start_end_time(fname):\n",
    "    #goes filenames structure https://geonetcast.wordpress.com/2017/04/27/goes-16-file-naming-convention/\n",
    "    #use filename to find start/end times for data\n",
    "    tem = str(fname).split('/')\n",
    "    tem2,i = tem[5],25\n",
    "    dt_start = datetime.strptime(tem2[i:i+13], '%Y%j%h%M%S')\n",
    "    tem2,i = tem[5],41\n",
    "    dt_end = datetime.strptime(tem2[i:i+13], '%Y%j%h%M%S')\n",
    "    return dt_start,dt_end\n"
   ]
  },
  {
   "cell_type": "code",
   "execution_count": 7,
   "id": "c56c7a08-6c60-4399-8f02-ecf855352cc3",
   "metadata": {},
   "outputs": [
    {
     "name": "stdout",
     "output_type": "stream",
     "text": [
      "2024 10 24 16\n"
     ]
    }
   ],
   "source": [
    "now = datetime.now()\n",
    "start_year = int(now.strftime(\"%Y\"))\n",
    "start_month = int(now.strftime(\"%m\"))\n",
    "start_day = int(now.strftime(\"%d\"))\n",
    "start_hour = int(now.strftime(\"%H\"))\n",
    "print(start_year, start_month, start_day,start_hour)"
   ]
  },
  {
   "cell_type": "code",
   "execution_count": 10,
   "id": "52ee808b-da28-457c-bfd5-06806668ae39",
   "metadata": {},
   "outputs": [
    {
     "name": "stdout",
     "output_type": "stream",
     "text": [
      "20241024 20241024 16:30\n",
      "198 noaa-goes16/ABI-L2-MCMIPC/2024/298/00/OR_ABI-L2-MCMIPC-M6_G16_s20242980001174_e20242980003547_c20242980004062.nc\n",
      "20241023 20241024 00:00\n",
      "287 noaa-goes16/ABI-L2-MCMIPC/2024/297/00/OR_ABI-L2-MCMIPC-M6_G16_s20242970001174_e20242970003547_c20242970004059.nc\n",
      "20241022 20241023 00:00\n",
      "288 noaa-goes16/ABI-L2-MCMIPC/2024/296/00/OR_ABI-L2-MCMIPC-M6_G16_s20242960001173_e20242960003559_c20242960004069.nc\n",
      "20241021 20241022 00:00\n",
      "288 noaa-goes16/ABI-L2-MCMIPC/2024/295/00/OR_ABI-L2-MCMIPC-M6_G16_s20242950001173_e20242950003559_c20242950004062.nc\n",
      "20241020 20241021 00:00\n",
      "288 noaa-goes16/ABI-L2-MCMIPC/2024/294/00/OR_ABI-L2-MCMIPC-M6_G16_s20242940001172_e20242940003551_c20242940004074.nc\n",
      "20241019 20241020 00:00\n",
      "288 noaa-goes16/ABI-L2-MCMIPC/2024/293/00/OR_ABI-L2-MCMIPC-M6_G16_s20242930001172_e20242930003545_c20242930004068.nc\n",
      "20241018 20241019 00:00\n",
      "288 noaa-goes16/ABI-L2-MCMIPC/2024/292/00/OR_ABI-L2-MCMIPC-M6_G16_s20242920001171_e20242920003550_c20242920004066.nc\n",
      "20241017 20241018 00:00\n",
      "288 noaa-goes16/ABI-L2-MCMIPC/2024/291/00/OR_ABI-L2-MCMIPC-M6_G16_s20242910001171_e20242910003556_c20242910004066.nc\n",
      "20241016 20241017 00:00\n",
      "288 noaa-goes16/ABI-L2-MCMIPC/2024/290/00/OR_ABI-L2-MCMIPC-M6_G16_s20242900001170_e20242900003555_c20242900004065.nc\n"
     ]
    }
   ],
   "source": [
    "# Open the GOES-R image\n",
    "G = GOES(satellite=16, product=\"ABI-L2-MCMIPC\", domain='C')  #ABI-L2-DMWVC ABI-L2-DMWC not at all points #\n",
    "for incr in range(0,number_days_to_process):\n",
    "\n",
    "    date_start = datetime(start_year, start_month, start_day) - timedelta(days=incr)\n",
    "    if incr == 0:\n",
    "        date_end = now #date_start + timedelta(days=1)  \n",
    "    else:\n",
    "        date_end = date_start + timedelta(days=1)  \n",
    "    start_time = date_start.strftime(\"%Y%m%d\")\n",
    "    end_time = date_end.strftime(\"%Y%m%d %H:%M\")\n",
    "    \n",
    "    print(start_time,end_time)\n",
    "    # Produce a pandas DataFrame of the available files in a time range\n",
    "    df = G.df(start=start_time, end=end_time)\n",
    "    print(len(df), df.file[0])\n",
    "    # Save DataFrame to a CSV file\n",
    "    files_fname = output_path+'goes_filenames_test_'+start_time+'-'+end_time+'.csv'\n",
    "    df.to_csv(files_fname)\n"
   ]
  },
  {
   "cell_type": "markdown",
   "id": "de144df9-9463-4b4d-8773-5977ccafda22",
   "metadata": {},
   "source": [
    "# ONLY RUN CODE BELOW HERE FOR 2021\n",
    "FIX FOR 2021 where day 243 hour 16 is missing on cloud"
   ]
  },
  {
   "cell_type": "code",
   "execution_count": null,
   "id": "76904a99-0c48-46c4-82c7-88756e74cd44",
   "metadata": {},
   "outputs": [],
   "source": [
    "#FIX FOR 2021 where day 243 hour 16 is missing on cloud\n",
    "\n",
    "date_start = datetime(start_year, start_month, start_day) + timedelta(days=incr)\n",
    "date_end = date_start + timedelta(hours=15)  \n",
    "start_time = date_start.strftime(\"%Y%m%d %H:00\")\n",
    "end_time = date_end.strftime(\"%Y%m%d %H:59\")\n",
    "    \n",
    "print(start_time,end_time)\n",
    "    \n",
    "    # Open the GOES-R image\n",
    "G = GOES(satellite=16, product=\"ABI-L2-MCMIPC\", domain='C')  #ABI-L2-DMWVC ABI-L2-DMWC not at all points #\n",
    "    # Produce a pandas DataFrame of the available files in a time range\n",
    "df = G.df(start=start_time, end=end_time)\n",
    "\n",
    "date_start = datetime(start_year, start_month, start_day) + timedelta(days=incr) \n",
    "date_start = date_start + timedelta(hours=17)  \n",
    "date_start2 = datetime(start_year, start_month, start_day) + timedelta(days=incr)\n",
    "date_end = date_start2 + timedelta(days=1)\n",
    "start_time = date_start.strftime(\"%Y%m%d %H:00\")\n",
    "end_time = date_end.strftime(\"%Y%m%d %H:00\")\n",
    "    \n",
    "print(start_time,end_time)\n",
    "    \n",
    "    # Open the GOES-R image\n",
    "G = GOES(satellite=16, product=\"ABI-L2-MCMIPC\", domain='C')  #ABI-L2-DMWVC ABI-L2-DMWC not at all points #\n",
    "    # Produce a pandas DataFrame of the available files in a time range\n",
    "df2 = G.df(start=start_time, end=end_time)\n",
    "df3 = pd.concat([df, df2], ignore_index=True)\n",
    "\n",
    "date_start = datetime(start_year, start_month, start_day) + timedelta(days=incr)\n",
    "date_end = date_start + timedelta(days=1)  \n",
    "start_time = date_start.strftime(\"%Y%m%d\")\n",
    "end_time = date_end.strftime(\"%Y%m%d\")\n",
    "\n",
    "files_fname = output_path+'goes_filenames_test_'+start_time+'-'+end_time+'.csv'\n",
    "df3.to_csv(files_fname)\n"
   ]
  },
  {
   "cell_type": "code",
   "execution_count": null,
   "id": "88da997e-c988-4276-9ee1-aa2204bb464b",
   "metadata": {},
   "outputs": [],
   "source": []
  }
 ],
 "metadata": {
  "kernelspec": {
   "display_name": "user-env:(heart)",
   "language": "python",
   "name": "heart"
  },
  "language_info": {
   "codemirror_mode": {
    "name": "ipython",
    "version": 3
   },
   "file_extension": ".py",
   "mimetype": "text/x-python",
   "name": "python",
   "nbconvert_exporter": "python",
   "pygments_lexer": "ipython3",
   "version": "3.12.7"
  }
 },
 "nbformat": 4,
 "nbformat_minor": 5
}
