{
 "cells": [
  {
   "cell_type": "code",
   "execution_count": 1,
   "id": "a176d3c9-fc8e-47b5-a93a-e884a438661c",
   "metadata": {},
   "outputs": [
    {
     "ename": "ModuleNotFoundError",
     "evalue": "No module named 'myconfig'",
     "output_type": "error",
     "traceback": [
      "\u001b[1;31m---------------------------------------------------------------------------\u001b[0m",
      "\u001b[1;31mModuleNotFoundError\u001b[0m                       Traceback (most recent call last)",
      "Cell \u001b[1;32mIn[1], line 2\u001b[0m\n\u001b[0;32m      1\u001b[0m \u001b[38;5;28;01mimport\u001b[39;00m \u001b[38;5;21;01mpandas\u001b[39;00m \u001b[38;5;28;01mas\u001b[39;00m \u001b[38;5;21;01mpd\u001b[39;00m\n\u001b[1;32m----> 2\u001b[0m \u001b[38;5;28;01mfrom\u001b[39;00m \u001b[38;5;21;01mmyconfig\u001b[39;00m \u001b[38;5;28;01mimport\u001b[39;00m \u001b[38;5;241m*\u001b[39m\n\u001b[0;32m      3\u001b[0m output_path \u001b[38;5;241m=\u001b[39m output_path_data\n",
      "\u001b[1;31mModuleNotFoundError\u001b[0m: No module named 'myconfig'"
     ]
    }
   ],
   "source": [
    "import pandas as pd\n",
    "from myconfig import *\n",
    "output_path = output_path_data\n"
   ]
  },
  {
   "cell_type": "code",
   "execution_count": null,
   "id": "565180af-eda8-41c3-b779-cfa19aca6a0e",
   "metadata": {},
   "outputs": [],
   "source": [
    "fname = output_path_buoy_data + 'buoy_nrt.csv'\n",
    "df_buoy = pd.read_csv(fname)\n",
    "fname = output_path_rain_data + 'nrt_raining.csv'\n",
    "df_rain = pd.read_csv(fname)"
   ]
  },
  {
   "cell_type": "code",
   "execution_count": null,
   "id": "45b67daf-6bb4-4c39-9482-e3f61a5e785f",
   "metadata": {},
   "outputs": [],
   "source": []
  }
 ],
 "metadata": {
  "kernelspec": {
   "display_name": "Python 3 (ipykernel)",
   "language": "python",
   "name": "python3"
  },
  "language_info": {
   "codemirror_mode": {
    "name": "ipython",
    "version": 3
   },
   "file_extension": ".py",
   "mimetype": "text/x-python",
   "name": "python",
   "nbconvert_exporter": "python",
   "pygments_lexer": "ipython3",
   "version": "3.12.7"
  }
 },
 "nbformat": 4,
 "nbformat_minor": 5
}
