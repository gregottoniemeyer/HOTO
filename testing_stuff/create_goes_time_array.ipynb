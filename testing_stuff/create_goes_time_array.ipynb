{
 "cells": [
  {
   "cell_type": "code",
   "execution_count": 16,
   "id": "137236ee-c164-4645-892b-27d66e2d18bc",
   "metadata": {},
   "outputs": [],
   "source": [
    "from datetime import datetime, timedelta\n",
    "import warnings\n",
    "import numpy as np\n",
    "import xarray as xr\n",
    "import pandas as pd\n",
    "\n",
    "#Create a time dataset so we know what we have already ready or not\n",
    "# this initalizes a file from 2023-2025 with 0\n",
    "# when goes data is read, value is set to 1 using\n",
    "# Set the values to 1 between the start and stop time using conditional indexing\n",
    "#dataset[\"values\"] = xr.where((dataset.time >= start_time) & (dataset.time <= end_time), 1, dataset[\"values\"])\n",
    "\n",
    "# Define the start and end datetime\n",
    "start_time = pd.to_datetime(\"2023-12-01 00:00:00\")\n",
    "end_time = pd.to_datetime(\"2025-01-01 00:00:00\")  # 1 minute later\n",
    "# Generate a time array with 1-second resolution\n",
    "time_array = pd.date_range(start=start_time, end=end_time, freq='min')\n",
    "# Create a values array initialized with zeros and int*8\n",
    "values = np.zeros(len(time_array))\n",
    "values = values.astype(np.int8)\n",
    "# Combine the time and values into a DataFrame (optional for viewing)\n",
    "goes_time = xr.DataArray(values, coords=[time_array], dims=[\"time\"], name=\"read_value\")\n",
    "goes_time.to_netcdf(\"./data/goes_data_time.nc\")"
   ]
  },
  {
   "cell_type": "code",
   "execution_count": null,
   "id": "a061e4e6-6a3d-4b20-b5ad-9d15547e1a62",
   "metadata": {},
   "outputs": [],
   "source": []
  }
 ],
 "metadata": {
  "kernelspec": {
   "display_name": "Python 3 (ipykernel)",
   "language": "python",
   "name": "python3"
  },
  "language_info": {
   "codemirror_mode": {
    "name": "ipython",
    "version": 3
   },
   "file_extension": ".py",
   "mimetype": "text/x-python",
   "name": "python",
   "nbconvert_exporter": "python",
   "pygments_lexer": "ipython3",
   "version": "3.12.5"
  }
 },
 "nbformat": 4,
 "nbformat_minor": 5
}
