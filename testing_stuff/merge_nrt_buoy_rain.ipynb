{
 "cells": [
  {
   "cell_type": "code",
   "execution_count": null,
   "id": "a176d3c9-fc8e-47b5-a93a-e884a438661c",
   "metadata": {},
   "outputs": [],
   "source": [
    "import pandas as pd\n",
    "from myconfig import *\n"
   ]
  },
  {
   "cell_type": "code",
   "execution_count": null,
   "id": "565180af-eda8-41c3-b779-cfa19aca6a0e",
   "metadata": {},
   "outputs": [],
   "source": [
    "fname = output_path_buoy_data + 'buoy_nrt.csv'\n",
    "df_buoy = pd.read_csv(fname)\n",
    "fname = output_path_rain_data + 'nrt_raining.csv'\n",
    "df_rain = pd.read_csv(fname)"
   ]
  },
  {
   "cell_type": "code",
   "execution_count": null,
   "id": "468e77d1-ca4c-41cd-b72a-1aa0f2264346",
   "metadata": {},
   "outputs": [],
   "source": []
  },
  {
   "cell_type": "code",
   "execution_count": null,
   "id": "45b67daf-6bb4-4c39-9482-e3f61a5e785f",
   "metadata": {},
   "outputs": [],
   "source": [
    "fname = output_path_nrt + 'all_nrt.csv'\n",
    "df_all.to_csv(fname, index = False)"
   ]
  }
 ],
 "metadata": {
  "kernelspec": {
   "display_name": "Python 3 (ipykernel)",
   "language": "python",
   "name": "python3"
  },
  "language_info": {
   "codemirror_mode": {
    "name": "ipython",
    "version": 3
   },
   "file_extension": ".py",
   "mimetype": "text/x-python",
   "name": "python",
   "nbconvert_exporter": "python",
   "pygments_lexer": "ipython3",
   "version": "3.12.7"
  }
 },
 "nbformat": 4,
 "nbformat_minor": 5
}
