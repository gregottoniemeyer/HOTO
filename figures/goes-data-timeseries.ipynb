{
 "cells": [
  {
   "cell_type": "markdown",
   "id": "280195e0-1dda-45cf-bd89-1842964d50dc",
   "metadata": {},
   "source": [
    "# Creating timeseries of the GOES data for 8 speakers\n",
    "\n",
    "- 8 channels (need 8 timeseries)\n",
    "- 12 minute piece, GOES samples every 5-minutes\n",
    "\n",
    "The artist wanted a viewer to feel like weather was moving through the room. \n",
    "\n",
    "This means we must think about time and space.\n",
    "\n",
    "Space:\n",
    "So, the 8 speakers should correspond to 8 different locations around the viewer. The spatial scale of the data variablity will need to be explored so we can determine the right distance these locations should be. Maybe if they are only 1 km apart, there isn't enough of a 'difference' for the sound to feel immersive.  But if the locations are too far apart, then they won't be correlated to eachother and may just sound like 8 unconnected sounds.\n",
    "\n",
    "Time: \n",
    "GOES CONUS data has 5-minute sampling. \n",
    "The piece is 12 minutes long - so if we went with realtime data, we would have 2 data points that could be interpolated together,\n",
    "but basically two gradient tones during 12 minutes is not very dynamic, \n",
    "but that might be okay? The other issues is that I think this surface data is meant to be dominate during only the first 3 minutes,\n",
    "so maybe we are only really looking at 3 minutes of gradients. If that is the case, in order to get a sense of weather, \n",
    "it might be necessary to create a compressed timeseries of data over the last hour or so.\n",
    "\n",
    "GOES:\n",
    "\n",
    "GOES has full disk, CONUS, mesoscale options as well as many different products.\n",
    "I'm using CONUS below as it has high spatial resolution, 5-minute sampling.\n",
    "\n",
    "## Steps in code below:\n",
    "- The code looks at two different GOES datasets. We don't really want one with cloud masks (missing data). \n",
    "- Georeference the coordinate system so we can look up data around a latitude and longitude\n",
    "- Calculate 8 points near a reference location (Miami)\n",
    "- Create timeseries of data at those points "
   ]
  },
  {
   "cell_type": "code",
   "execution_count": null,
   "id": "c1ac0e35-0ac3-4544-aa9b-ab69969a458f",
   "metadata": {},
   "outputs": [],
   "source": [
    "from goes2go import GOES\n",
    "import matplotlib.pyplot as plt\n",
    "from datetime import datetime, timedelta\n",
    "import warnings\n",
    "import numpy as np\n",
    "warnings.filterwarnings('ignore')\n",
    "import cartopy.crs as ccrs\n",
    "import cartopy.feature as cfeature\n",
    "\n",
    "\n",
    "#list of GOES products https://github.com/blaylockbk/goes2go/blob/main/goes2go/product_table.txt\n",
    "\n",
    "# Calculate latitude and longitude from GOES ABI fixed grid projection data\n",
    "#GOES ABI fixed grid projection is a map projection relative to the GOES satellite  \n",
    "#Units: latitude in °N (°S < 0), longitude in °E (°W < 0)  \n",
    "#See GOES-R Product User Guide (PUG) Volume 5 (L2 products) Section 4.2.8 for details & example of calculations  \n",
    "#\"file_id\" is an ABI L1b or L2 .nc file opened using the netCDF4 library  \n",
    "#code from https://www.star.nesdis.noaa.gov/atmospheric-composition-training/python_abi_lat_lon.php  \n",
    "#Acknowledgement:  NOAA/NESDIS/STAR Aerosols and Atmospheric Composition Science Team  \n",
    "#Their code is written for numpy arrays not xarray, so I updated it to work with xarray datasets  \n",
    "\n",
    "# Target latitude and longitude MIAMI\n",
    "target_lat = 25.76  # Example: Latitude of Miami\n",
    "target_lon = -80.19  # Example: Longitude of Miami\n",
    "\n",
    "def calculate_degrees(file_id):\n",
    "    \n",
    "    # Read in GOES ABI fixed grid projection variables and constants\n",
    "    x_coordinate_1d = file_id.variables['x'][:]  # E/W scanning angle in radians\n",
    "    y_coordinate_1d = file_id.variables['y'][:]  # N/S elevation angle in radians\n",
    "    projection_info = file_id.variables['goes_imager_projection']\n",
    "    lon_origin = projection_info.attrs.get('longitude_of_projection_origin')\n",
    "    H = projection_info.attrs.get('perspective_point_height')+projection_info.attrs.get('semi_major_axis')\n",
    "    r_eq = projection_info.attrs.get('semi_major_axis')\n",
    "    r_pol = projection_info.attrs.get('semi_minor_axis')\n",
    "    \n",
    "    # Create 2D coordinate matrices from 1D coordinate vectors\n",
    "    x_coordinate_2d, y_coordinate_2d = np.meshgrid(x_coordinate_1d, y_coordinate_1d)\n",
    "    \n",
    "    # Equations to calculate latitude and longitude\n",
    "    lambda_0 = (lon_origin*np.pi)/180.0  \n",
    "    a_var = np.power(np.sin(x_coordinate_2d),2.0) + (np.power(np.cos(x_coordinate_2d),2.0)*(np.power(np.cos(y_coordinate_2d),2.0)+(((r_eq*r_eq)/(r_pol*r_pol))*np.power(np.sin(y_coordinate_2d),2.0))))\n",
    "    b_var = -2.0*H*np.cos(x_coordinate_2d)*np.cos(y_coordinate_2d)\n",
    "    c_var = (H**2.0)-(r_eq**2.0)\n",
    "    r_s = (-1.0*b_var - np.sqrt((b_var**2)-(4.0*a_var*c_var)))/(2.0*a_var)\n",
    "    s_x = r_s*np.cos(x_coordinate_2d)*np.cos(y_coordinate_2d)\n",
    "    s_y = - r_s*np.sin(x_coordinate_2d)\n",
    "    s_z = r_s*np.cos(x_coordinate_2d)*np.sin(y_coordinate_2d)\n",
    "    \n",
    "    # Ignore numpy errors for sqrt of negative number; occurs for GOES-16 ABI CONUS sector data\n",
    "    np.seterr(all='ignore')\n",
    "    \n",
    "    abi_lat = (180.0/np.pi)*(np.arctan(((r_eq*r_eq)/(r_pol*r_pol))*((s_z/np.sqrt(((H-s_x)*(H-s_x))+(s_y*s_y))))))\n",
    "    abi_lon = (lambda_0 - np.arctan(s_y/(H-s_x)))*(180.0/np.pi)\n",
    "    \n",
    "    return abi_lat, abi_lon\n",
    "\n",
    "def forward_fill_2d(arr):\n",
    "    # Loop through each column\n",
    "    for i in range(arr.shape[1]):\n",
    "        mask = np.isnan(arr[:, i])\n",
    "        # Forward fill NaN values\n",
    "        arr[mask, i] = np.interp(np.flatnonzero(mask), np.flatnonzero(~mask), arr[~mask, i])\n",
    "    return arr\n",
    "\n",
    "def find_nearest_indices(lat_arr, lon_arr, target_lat, target_lon):\n",
    "    # Find the nearest latitude index\n",
    "    lat_idx = (np.abs(lat_arr - target_lat)).argmin()\n",
    "    # Find the nearest longitude index\n",
    "    lon_idx = (np.abs(lon_arr - target_lon)).argmin()\n",
    "    return lat_idx, lon_idx\n",
    "\n",
    "def calculate_points(istep):\n",
    "    #how big do we want to have the box?\n",
    "    #istep is how many grid points away from the center that we want to go\n",
    "    \n",
    "    istep = 1\n",
    "    \n",
    "    # List of points you want to subset around point x\n",
    "    #   *  *  *\n",
    "    #   *  x  *\n",
    "    #   *  *  *\n",
    "    #north_point = [lat_idx+istep,lon_idx]\n",
    "    #east_point = [lat_idx,lon_idx+istep]\n",
    "    #south_point = [lat_idx-istep,lon_idx]\n",
    "    #west_point = [lat_idx,lon_idx-istep]\n",
    "    #northeast_point = [lat_idx+istep,lon_idx+istep]\n",
    "    #northwest_point = [lat_idx+istep,lon_idx-istep]\n",
    "    #southeast_point = [lat_idx-istep,lon_idx+istep]\n",
    "    #southwest_point = [lat_idx-istep,lon_idx-istep]\n",
    "    points = [\n",
    "        {\"i\": int(lon_idx)+istep, \"j\": int(lat_idx)+istep, \"name\": 'NE'},\n",
    "        {\"i\": int(lon_idx)+istep, \"j\": int(lat_idx), \"name\": 'East'},\n",
    "        {\"i\": int(lon_idx)+istep, \"j\": int(lat_idx)-istep, \"name\": 'SW'},\n",
    "        {\"i\": int(lon_idx), \"j\": int(lat_idx)+istep, \"name\": 'N'},\n",
    "        {\"i\": int(lon_idx), \"j\": int(lat_idx)-istep, \"name\": 'S'},\n",
    "        {\"i\": int(lon_idx)-istep, \"j\": int(lat_idx)+istep, \"name\": 'NW'},\n",
    "        {\"i\": int(lon_idx)-istep, \"j\": int(lat_idx), \"name\": 'W'},\n",
    "        {\"i\": int(lon_idx)-istep, \"j\": int(lat_idx)-istep, \"name\": 'SW'},\n",
    "    ]\n",
    "    return points\n"
   ]
  },
  {
   "cell_type": "markdown",
   "id": "ff170381-3a04-4a98-b5f0-2440ec35e36d",
   "metadata": {},
   "source": [
    "# lets look at GOES TPWC data and see what it looks like"
   ]
  },
  {
   "cell_type": "code",
   "execution_count": null,
   "id": "9bbd2440-f4fb-4c6b-a662-78f4fb465945",
   "metadata": {
    "scrolled": true
   },
   "outputs": [],
   "source": [
    "G = GOES(satellite=16, product=\"ABI-L2-TPWC\", domain='C')\n",
    "# Download and read the data as an xarray Dataset nearest a specific time\n",
    "ds = G.nearesttime('2024-06-29')\n",
    "abi_lat, abi_lon = calculate_degrees(ds)\n",
    "abi_lat = forward_fill_2d(abi_lat.copy())\n",
    "abi_lon = forward_fill_2d(abi_lon.copy())"
   ]
  },
  {
   "cell_type": "code",
   "execution_count": null,
   "id": "cabadc5d-837d-43b4-ad46-130052a8ad39",
   "metadata": {},
   "outputs": [],
   "source": [
    "# Create a plot using pcolormesh\n",
    "fig, ax = plt.subplots(subplot_kw={'projection': ccrs.PlateCarree()})\n",
    "mesh = ax.pcolormesh(abi_lon,abi_lat, ds.TPW, transform=ccrs.PlateCarree(), cmap='turbo')\n",
    "\n",
    "# Add the coastlines or continents\n",
    "ax.coastlines()\n",
    "ax.add_feature(cfeature.BORDERS)\n",
    "ax.add_feature(cfeature.LAND, edgecolor='black')"
   ]
  },
  {
   "cell_type": "markdown",
   "id": "a9a79506-fa56-4122-853d-75112d588475",
   "metadata": {},
   "source": [
    "# Look at other data\n",
    "\n",
    "That has missing data and would be hard to sonify the missing data\n",
    "\n",
    "Let's look at the cloud and moisture data"
   ]
  },
  {
   "cell_type": "code",
   "execution_count": null,
   "id": "6d03ad6f-34ca-4719-86e9-a7f6cb6b170a",
   "metadata": {},
   "outputs": [],
   "source": [
    "# Open the GOES-R image\n",
    "G = GOES(satellite=16, product=\"ABI-L2-MCMIPC\", domain='C')\n",
    "# Download and read the latest data as an xarray Dataset\n",
    "ds = G.latest()\n",
    "abi_lat, abi_lon = calculate_degrees(ds)\n",
    "abi_lat = forward_fill_2d(abi_lat.copy())\n",
    "abi_lon = forward_fill_2d(abi_lon.copy())\n",
    "\n",
    "# Create a plot using pcolormesh\n",
    "fig, ax = plt.subplots(subplot_kw={'projection': ccrs.PlateCarree()})\n",
    "mesh = ax.pcolormesh(abi_lon,abi_lat, ds.CMI_C01, transform=ccrs.PlateCarree(), cmap='turbo')\n",
    "\n",
    "# Add the coastlines or continents\n",
    "ax.coastlines()\n",
    "ax.add_feature(cfeature.BORDERS)\n",
    "ax.add_feature(cfeature.LAND, edgecolor='black')"
   ]
  },
  {
   "cell_type": "markdown",
   "id": "87ffe725-f84d-4937-bcb3-f5876c4ba0a1",
   "metadata": {},
   "source": [
    "# Georeference the GOES coordinates"
   ]
  },
  {
   "cell_type": "code",
   "execution_count": null,
   "id": "b8772d95-1b23-4007-8920-a2de2fbf35e3",
   "metadata": {},
   "outputs": [],
   "source": [
    "#note this isn't going to be perfect because used 1d so run one time, then again with closer values\n",
    "# Find nearest indices\n",
    "lat_idx, lon_idx = find_nearest_indices(abi_lat[:,0], abi_lon[0,:], target_lat, target_lon)\n",
    "print('first guess i,j',lat_idx,lon_idx)\n",
    "lat_idx, lon_idx = find_nearest_indices(abi_lat[:,lon_idx], abi_lon[lat_idx,:], target_lat, target_lon)\n",
    "print('closer guess i,j',lat_idx,lon_idx)\n",
    "print(abi_lat[lat_idx,lon_idx],abi_lon[lat_idx,lon_idx])"
   ]
  },
  {
   "cell_type": "code",
   "execution_count": null,
   "id": "1ff3536d-54e2-4117-9f97-e97c375da71e",
   "metadata": {},
   "outputs": [],
   "source": [
    "#test out different distances for the 8 points we will feed to different channels\n",
    "istep = 1 \n",
    "value = 111*np.abs(abi_lat[lat_idx,lon_idx]-abi_lat[lat_idx+istep,lon_idx])*np.sin(25.78*np.pi/180.)\n",
    "print('spatial difference between points (lat):', f\"{value:.1f}\", 'km')\n",
    "value = 111*np.abs(abi_lon[lat_idx,lon_idx]-abi_lon[lat_idx,lon_idx+istep])*np.sin(25.78*np.pi/180.)\n",
    "print('spatial difference between points (lon):', f\"{value:.1f}\", 'km')\n",
    "north_point = [lat_idx+istep,lon_idx]\n",
    "east_point = [lat_idx,lon_idx+istep]\n",
    "south_point = [lat_idx-istep,lon_idx]\n",
    "west_point = [lat_idx,lon_idx-istep]\n",
    "northeast_point = [lat_idx+istep,lon_idx+istep]\n",
    "northwest_point = [lat_idx+istep,lon_idx-istep]\n",
    "southeast_point = [lat_idx-istep,lon_idx+istep]\n",
    "southwest_point = [lat_idx-istep,lon_idx-istep]\n",
    "data_points = [north_point,east_point,south_point,west_point,northeast_point,northwest_point,southeast_point,southwest_point]"
   ]
  },
  {
   "cell_type": "markdown",
   "id": "75486994-e496-4ad6-9904-2581c223ad1a",
   "metadata": {},
   "source": [
    "# now we have some data points, we need to create a timeseries of data\n",
    "\n",
    "goes2go downloads the data before reading it  \n",
    "since we are looking at timeseries and there are like 288 files each day (5 min data)  \n",
    "i don't want to download all that data  \n",
    "so i'm trying to figure out if I can lazy load it  \n"
   ]
  },
  {
   "cell_type": "code",
   "execution_count": null,
   "id": "6de582dd-e9e9-4fbc-8022-c808eac69a3e",
   "metadata": {},
   "outputs": [],
   "source": [
    "now = datetime.now()\n",
    "now_string = now.strftime(\"%Y-%m-%d %H:%M\")\n",
    "yesterday = now - timedelta(hours=1)\n",
    "yesterday_string = yesterday.strftime(\"%Y-%m-%d %H:%M\")\n",
    "# Open the GOES-R image\n",
    "G = GOES(satellite=16, product=\"ABI-L2-MCMIPC\", domain='C')\n",
    "# Produce a pandas DataFrame of the available files in a time range\n",
    "df = G.df(start=yesterday_string, end=now_string)\n",
    "df.file[0]"
   ]
  },
  {
   "cell_type": "code",
   "execution_count": null,
   "id": "4816c15c-4305-4fc7-a069-ba9f38e85402",
   "metadata": {},
   "outputs": [],
   "source": [
    "import s3fs\n",
    "import xarray as xr\n",
    "\n",
    "fs = s3fs.S3FileSystem(anon=True) #connect to s3 bucket!\n",
    "  \n",
    "#use glob to list all the files in the directory\n",
    "#file_location,var = fs.glob('s3://noaa-goes16/ABI-L2-SSTF/'+syr+'/'+sjdy+'/*/*.nc'),'SST'\n",
    "file_location=df.file\n",
    "\n",
    "#make a list of links to the file keys\n",
    "#if len(file_location)<1:\n",
    "#    return file_ob\n",
    "file_ob = [fs.open('s3://'+file) for file in file_location]        #open connection to files\n",
    "    \n",
    "#open all the day's data\n",
    "ds = xr.open_mfdataset(file_ob,combine='nested',concat_dim='time') #note file is super messed up formatting\n",
    "ds"
   ]
  },
  {
   "cell_type": "code",
   "execution_count": null,
   "id": "635c43e9-2541-41d1-a716-37173ab8710b",
   "metadata": {},
   "outputs": [],
   "source": [
    "ds2 = ds.isel(time=0)\n",
    "abi_lat, abi_lon = calculate_degrees(ds2)\n",
    "abi_lat = forward_fill_2d(abi_lat.copy())\n",
    "abi_lon = forward_fill_2d(abi_lon.copy())\n",
    "\n",
    "# Create a plot using pcolormesh\n",
    "fig, ax = plt.subplots(subplot_kw={'projection': ccrs.PlateCarree()})\n",
    "mesh = ax.pcolormesh(abi_lon,abi_lat, ds2.CMI_C01, transform=ccrs.PlateCarree(), cmap='turbo')\n",
    "\n",
    "# Add the coastlines or continents\n",
    "ax.coastlines()\n",
    "ax.add_feature(cfeature.BORDERS)\n",
    "ax.add_feature(cfeature.LAND, edgecolor='black')"
   ]
  },
  {
   "cell_type": "code",
   "execution_count": null,
   "id": "5821fdc0-580e-4f82-b9ad-74af5e2aceb0",
   "metadata": {},
   "outputs": [],
   "source": [
    "points = calculate_points(1)"
   ]
  },
  {
   "cell_type": "code",
   "execution_count": null,
   "id": "e27e4868-4a8a-47a7-a782-72a0f916df7f",
   "metadata": {},
   "outputs": [],
   "source": [
    "# Subsetting the dataset to the points\n",
    "#print(points[0].get('j'),points[0].get('i'))\n",
    "combined_data=ds.isel(y=points[0].get('j'), x=points[0].get('i')) #, method=\"nearest\")\n",
    "for p in range(len(points)):\n",
    "    if p>0:\n",
    "        #print(points[p].get('j'),points[p].get('i'))\n",
    "        tem=ds.isel(y=points[p].get('j'), x=points[p].get('i')) #, method=\"nearest\")\n",
    "        combined_data = xr.concat([combined_data, tem], dim=\"points_index\")\n",
    "subset=combined_data.load() #now load the little baby dataset"
   ]
  },
  {
   "cell_type": "code",
   "execution_count": null,
   "id": "42d5d68b-b7a6-4d6f-bb4c-725310169b16",
   "metadata": {},
   "outputs": [],
   "source": [
    "fig, ax = plt.subplots()\n",
    "for i in range(8):\n",
    "    (subset.CMI_C01[i,:]-subset.CMI_C01[0,:]).plot(ax=ax, label=points[i].get('name'))\n",
    "ax.legend()"
   ]
  },
  {
   "cell_type": "code",
   "execution_count": null,
   "id": "7d16c748-052e-44e6-9d2a-662d69a32309",
   "metadata": {},
   "outputs": [],
   "source": []
  },
  {
   "cell_type": "code",
   "execution_count": null,
   "id": "76191c85-517f-4a50-9c68-54f4c4b6a42e",
   "metadata": {},
   "outputs": [],
   "source": []
  }
 ],
 "metadata": {
  "kernelspec": {
   "display_name": "Python 3 (ipykernel)",
   "language": "python",
   "name": "python3"
  },
  "language_info": {
   "codemirror_mode": {
    "name": "ipython",
    "version": 3
   },
   "file_extension": ".py",
   "mimetype": "text/x-python",
   "name": "python",
   "nbconvert_exporter": "python",
   "pygments_lexer": "ipython3",
   "version": "3.12.5"
  }
 },
 "nbformat": 4,
 "nbformat_minor": 5
}
