{
 "cells": [
  {
   "cell_type": "code",
   "execution_count": null,
   "id": "be3428f9-8c2c-459a-9cc7-df655cc84866",
   "metadata": {},
   "outputs": [],
   "source": [
    "# calculate lat and lon from points\n",
    "\n",
    "#create map of lat/lon\n",
    "\n",
    "step = np.arange(1,20)  # 2 steps\n",
    "point = np.arange(0,8)  # 3 points\n",
    "lat_data = np.zeros((19,8))\n",
    "lon_data = np.zeros((19,8))\n",
    "# Create the xarray dataset\n",
    "ds_loc = xr.Dataset({\"lat\": ((\"step\", \"point\"), lat_data),\"lon\": ((\"step\", \"point\"),lon_data),}, coords={  \"step\": step,  \"point\": point    })\n",
    "\n",
    "abi_lat_tem = abi_lat[(lat_idx-25):(lat_idx+25),(lon_idx-25):(lon_idx+25)]\n",
    "abi_lon_tem = abi_lon[(lat_idx-25):(lat_idx+25),(lon_idx-25):(lon_idx+25)]\n",
    "for istep in range(1,20):\n",
    "    points = calculate_points(istep,25,25) #lon_idx,lat_idx)\n",
    "    for p in range(len(points)):\n",
    "        ds_loc[\"lat\"].loc[{\"step\": istep, \"point\": p}] = abi_lat_tem[points[p].get('j'),points[p].get('i')]\n",
    "        ds_loc[\"lon\"].loc[{\"step\": istep, \"point\": p}] = abi_lon_tem[points[p].get('j'),points[p].get('i')]\n",
    "\n",
    "nc_fname = './../goes_timeseries_point_latlon.nc'\n",
    "csv_fname = './../goes_timeseries_points_latlon.csv'\n",
    "ds_loc.to_netcdf(nc_fname) \n",
    "df = ds_loc.to_dataframe()\n",
    "df.to_csv(csv_fname)\n",
    "\n"
   ]
  }
 ],
 "metadata": {
  "kernelspec": {
   "display_name": "Python 3 (ipykernel)",
   "language": "python",
   "name": "python3"
  },
  "language_info": {
   "codemirror_mode": {
    "name": "ipython",
    "version": 3
   },
   "file_extension": ".py",
   "mimetype": "text/x-python",
   "name": "python",
   "nbconvert_exporter": "python",
   "pygments_lexer": "ipython3",
   "version": "3.12.2"
  }
 },
 "nbformat": 4,
 "nbformat_minor": 5
}
