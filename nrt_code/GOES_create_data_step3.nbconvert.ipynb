{
 "cells": [
  {
   "cell_type": "code",
   "execution_count": 1,
   "id": "c1ac0e35-0ac3-4544-aa9b-ab69969a458f",
   "metadata": {
    "execution": {
     "iopub.execute_input": "2024-10-26T00:03:10.274020Z",
     "iopub.status.busy": "2024-10-26T00:03:10.272145Z",
     "iopub.status.idle": "2024-10-26T00:03:11.053416Z",
     "shell.execute_reply": "2024-10-26T00:03:11.052038Z"
    }
   },
   "outputs": [],
   "source": [
    "from datetime import datetime, timedelta\n",
    "import warnings\n",
    "import numpy as np\n",
    "warnings.filterwarnings('ignore')\n",
    "import pandas as pd\n",
    "import xarray as xr\n",
    "import os\n",
    "\n",
    "#import configuration location and filepath\n",
    "from myconfig import *\n",
    "output_path = output_path_goes_data"
   ]
  },
  {
   "cell_type": "code",
   "execution_count": 2,
   "id": "85dbc3e6-a2e0-4663-bb9a-fc59b9f23a76",
   "metadata": {
    "execution": {
     "iopub.execute_input": "2024-10-26T00:03:11.060724Z",
     "iopub.status.busy": "2024-10-26T00:03:11.058459Z",
     "iopub.status.idle": "2024-10-26T00:03:13.741946Z",
     "shell.execute_reply": "2024-10-26T00:03:13.740791Z"
    }
   },
   "outputs": [
    {
     "name": "stdout",
     "output_type": "stream",
     "text": [
      "reading ./../data/goes/data/goes_timeseries_MilwaukeeTrench_time_20241020-20241021.nc\n"
     ]
    },
    {
     "name": "stdout",
     "output_type": "stream",
     "text": [
      "reading ./../data/goes/data/goes_timeseries_MilwaukeeTrench_time_20241021-20241022.nc\n",
      "reading ./../data/goes/data/goes_timeseries_MilwaukeeTrench_time_20241022-20241023.nc\n",
      "reading ./../data/goes/data/goes_timeseries_MilwaukeeTrench_time_20241023-20241024.nc\n",
      "reading ./../data/goes/data/goes_timeseries_MilwaukeeTrench_time_20241024-20241025.nc\n",
      "reading ./../data/goes/data/goes_timeseries_MilwaukeeTrench_time_20241025-20241026.nc\n",
      "NOTreading ./../data/goes/data/goes_timeseries_MilwaukeeTrench_time_20241026-20241027.nc\n"
     ]
    }
   ],
   "source": [
    "\n",
    "#testing\n",
    "date_today = now = datetime.now() #datetime(2023, 12, 12) \n",
    "\n",
    "# Get today's date\n",
    "#date_today = datetime.today()\n",
    "lyr,imon,idym = str(date_today.year), str(date_today.month), str(date_today.day)\n",
    "\n",
    "init = 0\n",
    "for incr in range(-6,1):\n",
    "    date_proc = date_today + timedelta(days=incr)\n",
    "    date_str1 = date_proc.strftime(\"%Y%m%d\")\n",
    "    date_proc = date_today + timedelta(days=incr+1)\n",
    "    date_str2 = date_proc.strftime(\"%Y%m%d\")\n",
    "    nc_fname = output_path_goes_data+'goes_timeseries_'+target_name+'_time_'+date_str1+'-'+date_str2+'.nc'\n",
    "    if not(os.path.exists(nc_fname)):\n",
    "        print('NOTreading',nc_fname)\n",
    "        continue\n",
    "    print('reading',nc_fname)\n",
    "    with xr.open_dataset(nc_fname) as ds:\n",
    "        ds = ds.drop_vars({'y_image','x_image','y','x'})#.rename({'t':'time'})\n",
    "        if init==1:\n",
    "            all_data = xr.concat([all_data,ds], dim=\"time\")\n",
    "        else:\n",
    "            all_data = ds\n",
    "            init = 1"
   ]
  },
  {
   "cell_type": "code",
   "execution_count": 3,
   "id": "5bb3c869-1fd0-4d0a-94ae-75976600e0c6",
   "metadata": {
    "execution": {
     "iopub.execute_input": "2024-10-26T00:03:13.749394Z",
     "iopub.status.busy": "2024-10-26T00:03:13.748556Z",
     "iopub.status.idle": "2024-10-26T00:03:14.494500Z",
     "shell.execute_reply": "2024-10-26T00:03:14.489319Z"
    }
   },
   "outputs": [
    {
     "name": "stdout",
     "output_type": "stream",
     "text": [
      "done\n"
     ]
    }
   ],
   "source": [
    "all_data['time']=all_data.t\n",
    "subset = all_data.sel(step=18)\n",
    "ds_norm = subset.CMI_C10-subset.CMI_C10.min()\n",
    "ds_norm = ds_norm/ds_norm.max()\n",
    "\n",
    "ds = ds_norm\n",
    "\n",
    "start_time = pd.to_datetime(ds.t[0].data).strftime('%Y-%m-%dT%H:%M:%S')\n",
    "end_time = pd.to_datetime(ds.t[-1].data).strftime('%Y-%m-%dT%H:%M:%S')\n",
    "new_time = pd.date_range(start=start_time, end=end_time, periods=7200).to_numpy()\n",
    "ds_interp = ds.interp(time=new_time)\n",
    "\n",
    "ds = ds_interp\n",
    "ds[0,:]=ds[1,:]\n",
    "fname = output_path_goes_data+'/goes_timeseries_nrt.nc'\n",
    "ds.to_netcdf(fname)\n",
    "df = pd.DataFrame({'time':ds.time.data,\n",
    "                   'N':ds[:,0].data,'NE':ds[:,1].data,\n",
    "                   'E':ds[:,2].data,'SE':ds[:,3].data,\n",
    "                   'S':ds[:,4].data,'SW':ds[:,5].data,\n",
    "                   'W':ds[:,6].data,'NW':ds[:,7].data})\n",
    "fname = output_path_nrt+'/goes_timeseries_nrt.csv'\n",
    "df.to_csv(fname,index=False)\n",
    "print('done')"
   ]
  },
  {
   "cell_type": "code",
   "execution_count": 4,
   "id": "5692728e-eafc-4bda-bed7-5d265fc97c9d",
   "metadata": {
    "execution": {
     "iopub.execute_input": "2024-10-26T00:03:14.501413Z",
     "iopub.status.busy": "2024-10-26T00:03:14.498391Z",
     "iopub.status.idle": "2024-10-26T00:03:14.510387Z",
     "shell.execute_reply": "2024-10-26T00:03:14.509561Z"
    }
   },
   "outputs": [],
   "source": [
    "#subset = all_data.sel(step=12)\n",
    "#norm_subset = subset.CMI_C10-subset.CMI_C10.min()\n",
    "#norm_subset = norm_subset/norm_subset.max()\n",
    "#norm_subset.plot()"
   ]
  },
  {
   "cell_type": "code",
   "execution_count": null,
   "id": "7c1b15dd",
   "metadata": {},
   "outputs": [],
   "source": []
  }
 ],
 "metadata": {
  "kernelspec": {
   "display_name": "user-env:(heart)",
   "language": "python",
   "name": "heart"
  },
  "language_info": {
   "codemirror_mode": {
    "name": "ipython",
    "version": 3
   },
   "file_extension": ".py",
   "mimetype": "text/x-python",
   "name": "python",
   "nbconvert_exporter": "python",
   "pygments_lexer": "ipython3",
   "version": "3.12.7"
  }
 },
 "nbformat": 4,
 "nbformat_minor": 5
}
