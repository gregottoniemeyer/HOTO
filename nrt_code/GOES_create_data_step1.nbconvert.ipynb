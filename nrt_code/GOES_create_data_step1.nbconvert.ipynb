{
 "cells": [
  {
   "cell_type": "markdown",
   "id": "f78cf289-6bc9-43ed-b225-3f7f1c7299eb",
   "metadata": {},
   "source": [
    "# Step 1 to create GOES data timeseries\n",
    "\n",
    "- Creates files with lists of all GOES files in 1 day\n",
    "\n",
    "- Run this before creating GOES timeseries data\n",
    "\n",
    "- Set start date\n",
    "\n",
    "- Set number of days to increment through (does 1 day at a time)\n",
    "\n",
    "This primarily supports creating the historical GOES data. This has to access 288 files per day, and with all those requests, there is risk of failure. Having a static list of filenames to go through was a quick solution to be able to make sure we started again at the same place we ended when the program died.\n",
    "\n",
    "You can check what data is available here: [https://noaa-goes16.s3.amazonaws.com/index.html#ABI-L2-MCMIPC/]()\n",
    "\n"
   ]
  },
  {
   "cell_type": "code",
   "execution_count": 1,
   "id": "ba243286-f7eb-430f-9ca9-694bc9f8e805",
   "metadata": {
    "execution": {
     "iopub.execute_input": "2024-10-25T23:58:59.171324Z",
     "iopub.status.busy": "2024-10-25T23:58:59.171004Z",
     "iopub.status.idle": "2024-10-25T23:59:03.046106Z",
     "shell.execute_reply": "2024-10-25T23:59:03.042569Z"
    }
   },
   "outputs": [
    {
     "name": "stderr",
     "output_type": "stream",
     "text": [
      "/home/sagemaker-user/.conda/envs/heart/lib/python3.12/site-packages/goes2go/data.py:665: FutureWarning: 'H' is deprecated and will be removed in a future version. Please use 'h' instead of 'H'.\n",
      "  within=pd.to_timedelta(config[\"nearesttime\"].get(\"within\", \"1h\")),\n",
      "/home/sagemaker-user/.conda/envs/heart/lib/python3.12/site-packages/goes2go/NEW.py:188: FutureWarning: 'H' is deprecated and will be removed in a future version. Please use 'h' instead of 'H'.\n",
      "  within=pd.to_timedelta(config[\"nearesttime\"].get(\"within\", \"1h\")),\n"
     ]
    }
   ],
   "source": [
    "#create goes data\n",
    "from goes2go import GOES\n",
    "import xarray as xr\n",
    "import numpy as np\n",
    "import pandas as pd\n",
    "from datetime import datetime, timedelta\n",
    "import warnings\n",
    "warnings.filterwarnings('ignore')\n",
    "\n",
    "#import configuration location and filepath\n",
    "from myconfig import *\n",
    "output_path = output_path_goes_fname"
   ]
  },
  {
   "cell_type": "code",
   "execution_count": 2,
   "id": "c56c7a08-6c60-4399-8f02-ecf855352cc3",
   "metadata": {
    "execution": {
     "iopub.execute_input": "2024-10-25T23:59:03.056607Z",
     "iopub.status.busy": "2024-10-25T23:59:03.054035Z",
     "iopub.status.idle": "2024-10-25T23:59:03.088140Z",
     "shell.execute_reply": "2024-10-25T23:59:03.082586Z"
    }
   },
   "outputs": [
    {
     "name": "stdout",
     "output_type": "stream",
     "text": [
      "2024 10 25 23\n"
     ]
    }
   ],
   "source": [
    "now = datetime.now()\n",
    "start_year = int(now.strftime(\"%Y\"))\n",
    "start_month = int(now.strftime(\"%m\"))\n",
    "start_day = int(now.strftime(\"%d\"))\n",
    "start_hour = int(now.strftime(\"%H\"))\n",
    "print(start_year, start_month, start_day,start_hour)"
   ]
  },
  {
   "cell_type": "code",
   "execution_count": 3,
   "id": "52ee808b-da28-457c-bfd5-06806668ae39",
   "metadata": {
    "execution": {
     "iopub.execute_input": "2024-10-25T23:59:03.098738Z",
     "iopub.status.busy": "2024-10-25T23:59:03.097840Z",
     "iopub.status.idle": "2024-10-25T23:59:11.080507Z",
     "shell.execute_reply": "2024-10-25T23:59:11.079777Z"
    }
   },
   "outputs": [
    {
     "name": "stdout",
     "output_type": "stream",
     "text": [
      "8 20241017 20241018\n"
     ]
    },
    {
     "name": "stdout",
     "output_type": "stream",
     "text": [
      "8 288 noaa-goes16/ABI-L2-MCMIPC/2024/291/00/OR_ABI-L2-MCMIPC-M6_G16_s20242910001171_e20242910003556_c20242910004066.nc\n",
      "out: ./../data/goes/fname/goes_filenames_test_20241017-20241018.csv\n",
      "7 20241018 20241019\n"
     ]
    },
    {
     "name": "stdout",
     "output_type": "stream",
     "text": [
      "7 288 noaa-goes16/ABI-L2-MCMIPC/2024/292/00/OR_ABI-L2-MCMIPC-M6_G16_s20242920001171_e20242920003550_c20242920004066.nc\n",
      "out: ./../data/goes/fname/goes_filenames_test_20241018-20241019.csv\n",
      "6 20241019 20241020\n"
     ]
    },
    {
     "name": "stdout",
     "output_type": "stream",
     "text": [
      "6 288 noaa-goes16/ABI-L2-MCMIPC/2024/293/00/OR_ABI-L2-MCMIPC-M6_G16_s20242930001172_e20242930003545_c20242930004068.nc\n",
      "out: ./../data/goes/fname/goes_filenames_test_20241019-20241020.csv\n",
      "5 20241020 20241021\n"
     ]
    },
    {
     "name": "stdout",
     "output_type": "stream",
     "text": [
      "5 288 noaa-goes16/ABI-L2-MCMIPC/2024/294/00/OR_ABI-L2-MCMIPC-M6_G16_s20242940001172_e20242940003551_c20242940004074.nc\n",
      "out: ./../data/goes/fname/goes_filenames_test_20241020-20241021.csv\n",
      "4 20241021 20241022\n"
     ]
    },
    {
     "name": "stdout",
     "output_type": "stream",
     "text": [
      "4 288 noaa-goes16/ABI-L2-MCMIPC/2024/295/00/OR_ABI-L2-MCMIPC-M6_G16_s20242950001173_e20242950003559_c20242950004062.nc\n",
      "out: ./../data/goes/fname/goes_filenames_test_20241021-20241022.csv\n",
      "3 20241022 20241023\n"
     ]
    },
    {
     "name": "stdout",
     "output_type": "stream",
     "text": [
      "3 288 noaa-goes16/ABI-L2-MCMIPC/2024/296/00/OR_ABI-L2-MCMIPC-M6_G16_s20242960001173_e20242960003559_c20242960004069.nc\n",
      "out: ./../data/goes/fname/goes_filenames_test_20241022-20241023.csv\n",
      "2 20241023 20241024\n"
     ]
    },
    {
     "name": "stdout",
     "output_type": "stream",
     "text": [
      "2 287 noaa-goes16/ABI-L2-MCMIPC/2024/297/00/OR_ABI-L2-MCMIPC-M6_G16_s20242970001174_e20242970003547_c20242970004059.nc\n",
      "out: ./../data/goes/fname/goes_filenames_test_20241023-20241024.csv\n",
      "1 20241024 20241025\n"
     ]
    },
    {
     "name": "stdout",
     "output_type": "stream",
     "text": [
      "1 288 noaa-goes16/ABI-L2-MCMIPC/2024/298/00/OR_ABI-L2-MCMIPC-M6_G16_s20242980001174_e20242980003547_c20242980004062.nc\n",
      "out: ./../data/goes/fname/goes_filenames_test_20241024-20241025.csv\n",
      "0 20241025 20241026\n"
     ]
    },
    {
     "name": "stdout",
     "output_type": "stream",
     "text": [
      "0 287 noaa-goes16/ABI-L2-MCMIPC/2024/299/00/OR_ABI-L2-MCMIPC-M6_G16_s20242990001164_e20242990003548_c20242990004070.nc\n",
      "out: ./../data/goes/fname/goes_filenames_test_20241025-20241026.csv\n"
     ]
    }
   ],
   "source": [
    "# Open the GOES-R image\n",
    "G = GOES(satellite=16, product=\"ABI-L2-MCMIPC\", domain='C')  #ABI-L2-DMWVC ABI-L2-DMWC not at all points #\n",
    "for incr in range(number_days_to_process,-1,-1):\n",
    "    date_start = datetime(start_year, start_month, start_day) - timedelta(days=incr)\n",
    "    start_time = date_start.strftime(\"%Y%m%d\")\n",
    "    if incr == 0:\n",
    "        date_end = now #date_start + timedelta(days=1)  \n",
    "        end_time = (date_start + timedelta(days=1)).strftime(\"%Y%m%d\")\n",
    "    else:\n",
    "        date_end = date_start + timedelta(days=1)  \n",
    "        end_time = date_end.strftime(\"%Y%m%d\")\n",
    "    \n",
    "    print(incr,start_time,end_time)\n",
    "    # Produce a pandas DataFrame of the available files in a time range\n",
    "    df = G.df(start=date_start, end=date_end)\n",
    "    print(incr,len(df), df.file[0])\n",
    "    # Save DataFrame to a CSV file\n",
    "    #end_time = date_end.strftime(\"%Y%m%d\")\n",
    "    files_fname = output_path+'goes_filenames_test_'+start_time+'-'+end_time+'.csv'\n",
    "    print('out:',files_fname)\n",
    "    df.to_csv(files_fname)\n"
   ]
  },
  {
   "cell_type": "code",
   "execution_count": null,
   "id": "f1d9a0cb-d630-4e12-8c39-8d58debfc562",
   "metadata": {},
   "outputs": [],
   "source": []
  }
 ],
 "metadata": {
  "kernelspec": {
   "display_name": "user-env:(heart)",
   "language": "python",
   "name": "heart"
  },
  "language_info": {
   "codemirror_mode": {
    "name": "ipython",
    "version": 3
   },
   "file_extension": ".py",
   "mimetype": "text/x-python",
   "name": "python",
   "nbconvert_exporter": "python",
   "pygments_lexer": "ipython3",
   "version": "3.12.7"
  }
 },
 "nbformat": 4,
 "nbformat_minor": 5
}
