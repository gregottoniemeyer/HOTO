{
 "cells": [
  {
   "cell_type": "code",
   "execution_count": null,
   "id": "1d2bc7cc-cfd5-4fbd-a39d-ec29b21e0f3b",
   "metadata": {},
   "outputs": [],
   "source": [
    "import pandas as pd\n",
    "import warnings\n",
    "import xarray as xr\n",
    "import ephem\n",
    "from datetime import datetime, timedelta\n",
    "import math\n",
    "import numpy as np\n",
    "warnings.filterwarnings('ignore')\n",
    "%matplotlib inline\n",
    "import matplotlib.pyplot as plt\n",
    "\n",
    "from myconfig import *\n",
    "output_path = output_path_buoy_data\n",
    "\n",
    "# Function to calculate sunlight for each timestamp\n",
    "def calculate_sunlight(lat, lon, timestamps):\n",
    "    # Initialize observer\n",
    "    observer = ephem.Observer()\n",
    "    observer.lat = str(lat)\n",
    "    observer.lon = str(lon)\n",
    "\n",
    "    # Initialize the Sun object\n",
    "    sun = ephem.Sun()\n",
    "\n",
    "    # Store results\n",
    "    sunlight_data = []\n",
    "\n",
    "    for timestamp in timestamps:\n",
    "        observer.date = timestamp\n",
    "\n",
    "        # Compute the position of the sun for the observer at the given time\n",
    "        sun.compute(observer)\n",
    "\n",
    "        # Altitude is in degrees (-90 to 90), where 90 is zenith and 0 is on the horizon\n",
    "        altitude = sun.alt\n",
    "\n",
    "        # Normalize sunlight (1 for zenith, 0 for horizon, and negative for below horizon)\n",
    "        normalized_sunlight = max(0, altitude / ephem.degree)\n",
    "\n",
    "        sunlight_data.append(normalized_sunlight)\n",
    "\n",
    "    return pd.DataFrame({'timestamp': timestamps, 'sunlight_fraction': sunlight_data})\n",
    "\n"
   ]
  },
  {
   "cell_type": "code",
   "execution_count": null,
   "id": "c8fe52d1-2e27-4b07-8835-c7df9d3b8ca4",
   "metadata": {},
   "outputs": [],
   "source": [
    "fname = 'https://www.ndbc.noaa.gov/data/realtime2/'+station+'.txt'\n",
    "#more info: https://www.ndbc.noaa.gov/station_page.php?station=41043. 10 min intervals"
   ]
  },
  {
   "cell_type": "code",
   "execution_count": null,
   "id": "d306c390-3421-47ca-b7f0-f84c5f78c32b",
   "metadata": {},
   "outputs": [],
   "source": [
    "df_buoy = pd.read_csv(fname, delim_whitespace=True, header=0, parse_dates=True,na_values='MM')\n",
    "#delete units row\n",
    "df_buoy = df_buoy.drop(index=0)\n",
    "#df_buoy.head()"
   ]
  },
  {
   "cell_type": "code",
   "execution_count": null,
   "id": "ce5bb242-37fa-42c8-9927-6382070bbb8b",
   "metadata": {},
   "outputs": [],
   "source": [
    "# Rename columns to match expected input for to_datetime\n",
    "df_buoy.rename(columns={\"#YY\": \"year\", \"MM\": \"month\", \"DD\": \"day\", \"hh\": \"hour\", \"mm\": \"minute\"}, inplace=True)\n",
    "\n",
    "# Combine the date and time columns into a single timestamp\n",
    "df_buoy['Timestamp'] = pd.to_datetime(df_buoy[['year', 'month', 'day', 'hour', 'minute']])\n",
    "\n",
    "df_clean_buoy = df_buoy.drop(columns=['year', 'month', 'day', 'hour', 'minute', 'DPD', 'MWD', 'PRES', 'DEWP', 'VIS', 'PTDY', 'TIDE']).drop(index=1)\n",
    "#df_clean_buoy.dtypes\n"
   ]
  },
  {
   "cell_type": "code",
   "execution_count": null,
   "id": "a7a495c2-aaca-4ac9-88e8-e86ba19ab579",
   "metadata": {},
   "outputs": [],
   "source": [
    "# Get the current date and calculate the threshold for the last 7 days\n",
    "seven_days_ago = datetime.now() - timedelta(days=7)\n",
    "\n",
    "# Filter the DataFrame to only keep rows from the last 7 days\n",
    "df_last_7_days = df_clean_buoy[df_clean_buoy['Timestamp'] >= seven_days_ago]\n",
    "\n",
    "#df_last_7_days"
   ]
  },
  {
   "cell_type": "code",
   "execution_count": null,
   "id": "57818ac1-e28a-4e79-ad18-6a47c61f0e9a",
   "metadata": {},
   "outputs": [],
   "source": [
    "#reverse the data\n",
    "df_reversed_clean_buoy = df_last_7_days.iloc[::-1].reset_index(drop=True)\n",
    "#df_last_1800 = df_reversed_clean_buoy.tail(1800).copy()\n",
    "\n",
    "columns_to_convert = ['WDIR', 'WSPD', 'GST', 'WVHT', 'APD', 'ATMP', 'WTMP']\n",
    "\n",
    "# Convert specified columns to float, using 'coerce' to handle errors\n",
    "df_reversed_clean_buoy[columns_to_convert] = df_reversed_clean_buoy[columns_to_convert].apply(pd.to_numeric, errors='coerce')\n",
    "\n",
    "df_reversed_clean_buoy = df_reversed_clean_buoy.reset_index(drop=True)\n",
    "df_reversed_clean_buoy = df_reversed_clean_buoy.interpolate(method='linear', limit_direction='both')\n",
    "#df_reversed_clean_buoy.head()"
   ]
  },
  {
   "cell_type": "code",
   "execution_count": null,
   "id": "a8db430b-60a8-4fa1-a829-f042feec1afa",
   "metadata": {},
   "outputs": [],
   "source": [
    "#df_reversed_clean_buoy.shape"
   ]
  },
  {
   "cell_type": "code",
   "execution_count": null,
   "id": "8a525dc1-721c-44e2-8de1-f0974764d935",
   "metadata": {},
   "outputs": [],
   "source": [
    "# Latitude and longitude for the given location\n",
    "#lat, lon =  19.71361111111111, -67.31083333333333\n",
    "\n",
    "timestamps = df_reversed_clean_buoy['Timestamp']\n",
    "\n",
    "# Calculate sunlight fraction for the entire time range\n",
    "sunlight_df = calculate_sunlight(buoy_lat, buoy_lon, timestamps)"
   ]
  },
  {
   "cell_type": "code",
   "execution_count": null,
   "id": "a0ddfdc7-ffd1-49b5-a15c-9b9dee7dedb2",
   "metadata": {},
   "outputs": [],
   "source": [
    "df_reversed_clean_buoy[\"sun_exposure\"] = sunlight_df[\"sunlight_fraction\"]"
   ]
  },
  {
   "cell_type": "code",
   "execution_count": null,
   "id": "64c7fe7f-ea1e-4348-8978-649e5389b4d4",
   "metadata": {},
   "outputs": [],
   "source": [
    "#plt.plot(df_reversed_clean_buoy.sun_exposure)"
   ]
  },
  {
   "cell_type": "code",
   "execution_count": null,
   "id": "4083f72f-b122-4634-8de9-c25a5b597c57",
   "metadata": {},
   "outputs": [],
   "source": [
    "new_index = np.linspace(0, len(df_reversed_clean_buoy) - 1, 7200)\n",
    "\n",
    "df = df_reversed_clean_buoy\n",
    "df_interpolated = pd.DataFrame()\n",
    "for var in df.columns:\n",
    "    if var=='Timestamp':\n",
    "        continue\n",
    "    df_interpolated[var] = np.interp(new_index, np.arange(len(df)), df[var])\n",
    "# Interpolate 'timestamp' column onto the new index (if you want to interpolate timestamps too)\n",
    "df_interpolated['Timestamp'] = pd.to_datetime(np.interp(new_index, np.arange(len(df)), df['Timestamp'].astype(int)))\n",
    "df_interpolated['Timestamp'] = pd.to_datetime(df_interpolated['Timestamp'])\n",
    "#print(df_interpolated.sun_exposure[0:20])"
   ]
  },
  {
   "cell_type": "code",
   "execution_count": null,
   "id": "faea8c96-aab3-4796-9241-585d4d051365",
   "metadata": {},
   "outputs": [],
   "source": [
    "#plt.plot(df_interpolated.sun_exposure)\n",
    "#df_expanded.sun_exposure[60:120]"
   ]
  },
  {
   "cell_type": "code",
   "execution_count": null,
   "id": "817f011c-afcb-4316-8d3c-ad46cca8b509",
   "metadata": {},
   "outputs": [],
   "source": [
    "#normalize and park\n",
    "# Assuming 'df' is already loaded and has the 'Sample' column\n",
    "# Normalize the 'Sample' column using min-max normalization\n",
    "df = df_interpolated\n",
    "vars = ['WDIR','WSPD','GST','WVHT','APD','ATMP','WTMP']\n",
    "df_normalized = df\n",
    "for var in vars:\n",
    "    df_normalized[var] = (df[var] - np.min(df[var])) / (np.max(df[var]) - np.min(df[var]))\n",
    "# Display the resulting DataFrame (showing first and last 10 rows)"
   ]
  },
  {
   "cell_type": "code",
   "execution_count": null,
   "id": "520a97a9-2bfb-4294-a237-2ba418f87ddf",
   "metadata": {},
   "outputs": [],
   "source": [
    "#df_normalized.head(10)"
   ]
  },
  {
   "cell_type": "code",
   "execution_count": null,
   "id": "dd19bb67-5760-4eb9-b90b-b08bdbddb407",
   "metadata": {},
   "outputs": [],
   "source": [
    "new_order = ['Timestamp','WDIR', 'WSPD', 'GST', 'WVHT', 'APD', 'ATMP', 'WTMP', \n",
    "       'sun_exposure']\n",
    "new_df = df_normalized[new_order]\n",
    "fname = output_path_nrt + 'buoy_nrt.csv'\n",
    "new_df.to_csv(fname, index = False)"
   ]
  },
  {
   "cell_type": "code",
   "execution_count": null,
   "id": "ef152045-3822-457f-a464-4b6e33741fce",
   "metadata": {},
   "outputs": [],
   "source": [
    "#new_df.head(10)"
   ]
  },
  {
   "cell_type": "code",
   "execution_count": null,
   "id": "538050b1-b849-44e5-9c13-48f0741040dc",
   "metadata": {},
   "outputs": [],
   "source": []
  }
 ],
 "metadata": {
  "kernelspec": {
   "display_name": "user-env:(heart)",
   "language": "python",
   "name": "heart"
  },
  "language_info": {
   "codemirror_mode": {
    "name": "ipython",
    "version": 3
   },
   "file_extension": ".py",
   "mimetype": "text/x-python",
   "name": "python",
   "nbconvert_exporter": "python",
   "pygments_lexer": "ipython3",
   "version": "3.12.7"
  }
 },
 "nbformat": 4,
 "nbformat_minor": 5
}
