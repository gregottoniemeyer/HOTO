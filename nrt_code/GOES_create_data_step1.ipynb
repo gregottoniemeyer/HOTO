{
 "cells": [
  {
   "cell_type": "markdown",
   "id": "f78cf289-6bc9-43ed-b225-3f7f1c7299eb",
   "metadata": {},
   "source": [
    "# Step 1 to create GOES data timeseries\n",
    "\n",
    "- Creates files with lists of all GOES files in 1 day\n",
    "\n",
    "- Run this before creating GOES timeseries data\n",
    "\n",
    "- Set start date\n",
    "\n",
    "- Set number of days to increment through (does 1 day at a time)\n",
    "\n",
    "This primarily supports creating the historical GOES data. This has to access 288 files per day, and with all those requests, there is risk of failure. Having a static list of filenames to go through was a quick solution to be able to make sure we started again at the same place we ended when the program died.\n",
    "\n",
    "You can check what data is available here: [https://noaa-goes16.s3.amazonaws.com/index.html#ABI-L2-MCMIPC/]()\n",
    "\n"
   ]
  },
  {
   "cell_type": "code",
   "execution_count": null,
   "id": "ba243286-f7eb-430f-9ca9-694bc9f8e805",
   "metadata": {},
   "outputs": [],
   "source": [
    "#create goes data\n",
    "from goes2go import GOES\n",
    "import xarray as xr\n",
    "import numpy as np\n",
    "import pandas as pd\n",
    "from datetime import datetime, timedelta\n",
    "import warnings\n",
    "warnings.filterwarnings('ignore')\n",
    "\n",
    "#import configuration location and filepath\n",
    "from myconfig import *\n",
    "output_path = output_path_goes_fname"
   ]
  },
  {
   "cell_type": "code",
   "execution_count": null,
   "id": "c56c7a08-6c60-4399-8f02-ecf855352cc3",
   "metadata": {},
   "outputs": [],
   "source": [
    "now = datetime.now()\n",
    "start_year = int(now.strftime(\"%Y\"))\n",
    "start_month = int(now.strftime(\"%m\"))\n",
    "start_day = int(now.strftime(\"%d\"))\n",
    "start_hour = int(now.strftime(\"%H\"))\n",
    "print(start_year, start_month, start_day,start_hour)"
   ]
  },
  {
   "cell_type": "code",
   "execution_count": null,
   "id": "52ee808b-da28-457c-bfd5-06806668ae39",
   "metadata": {},
   "outputs": [],
   "source": [
    "# Open the GOES-R image\n",
    "G = GOES(satellite=16, product=\"ABI-L2-MCMIPC\", domain='C')  #ABI-L2-DMWVC ABI-L2-DMWC not at all points #\n",
    "for incr in range(number_days_to_process,-1,-1):\n",
    "    date_start = datetime(start_year, start_month, start_day) - timedelta(days=incr)\n",
    "    start_time = date_start.strftime(\"%Y%m%d\")\n",
    "    if incr == 0:\n",
    "        date_end = now #date_start + timedelta(days=1)  \n",
    "        end_time = (date_start + timedelta(days=1)).strftime(\"%Y%m%d\")\n",
    "    else:\n",
    "        date_end = date_start + timedelta(days=1)  \n",
    "        end_time = date_end.strftime(\"%Y%m%d\")\n",
    "    \n",
    "    print(incr,start_time,end_time)\n",
    "    # Produce a pandas DataFrame of the available files in a time range\n",
    "    df = G.df(start=date_start, end=date_end)\n",
    "    print(incr,len(df), df.file[0])\n",
    "    # Save DataFrame to a CSV file\n",
    "    #end_time = date_end.strftime(\"%Y%m%d\")\n",
    "    files_fname = output_path+'goes_filenames_test_'+start_time+'-'+end_time+'.csv'\n",
    "    print('out:',files_fname)\n",
    "    df.to_csv(files_fname)\n"
   ]
  },
  {
   "cell_type": "code",
   "execution_count": null,
   "id": "f1d9a0cb-d630-4e12-8c39-8d58debfc562",
   "metadata": {},
   "outputs": [],
   "source": []
  }
 ],
 "metadata": {
  "kernelspec": {
   "display_name": "user-env:(heart)",
   "language": "python",
   "name": "heart"
  },
  "language_info": {
   "codemirror_mode": {
    "name": "ipython",
    "version": 3
   },
   "file_extension": ".py",
   "mimetype": "text/x-python",
   "name": "python",
   "nbconvert_exporter": "python",
   "pygments_lexer": "ipython3",
   "version": "3.12.7"
  }
 },
 "nbformat": 4,
 "nbformat_minor": 5
}
