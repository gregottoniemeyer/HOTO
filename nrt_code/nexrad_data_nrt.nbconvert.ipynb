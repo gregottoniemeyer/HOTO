{
 "cells": [
  {
   "cell_type": "markdown",
   "id": "ee054a92-0503-4821-8452-24167bf822c1",
   "metadata": {},
   "source": [
    "# NEXRAD data\n",
    "\n",
    "Is it raining in Miami?\n",
    "\n",
    "The Next Generation Weather Radar (NEXRAD) system is a network of 160 high-resolution S-band Doppler weather radars jointly operated by the National Weather Service (NWS), the Federal Aviation Administration (FAA), and the U.S. Air Force. The NEXRAD system detects precipitation and wind, and its data can be processed to map precipitation patterns and movement. NCEI provides access to archived NEXRAD Level-II data and Level-III products. [source](https://www.ncei.noaa.gov/products/radar/next-generation-weather-radar)\n",
    "\n",
    "The NEXRAD data is freely available on the Amazon cloud at [https://registry.opendata.aws/noaa-nexrad/](https://registry.opendata.aws/noaa-nexrad/).\n",
    "\n",
    "The data can be accessed using the Python ARM Radar Toolkit ([Py-ART](https://arm-doe.github.io/pyart/)), an open source library for working with weather radar data. Py-ART is partly supported by the U.S. Department of Energy as part of the Atmospheric Radiation Measurement (ARM) Climate Research Facility, an Office of Science user facility. Which was developed by JJ Helmus and SM Collis (JORS 2016, doi: 10.5334/jors.119)\n",
    "\n",
    "[PyArt examples](https://projectpythia.org/radar-cookbook/notebooks/foundations/pyart-basics.html)\n",
    "\n",
    "Here we use PyArt to find recent files from the Miami NEXRAD station and look at Miami to see if it is raining.\n",
    "\n",
    "Just in case it is interesting, this will save 7200 rain data. As new rain comes in, old rain will fall off so it will remain a file with 7200 points. The last data point will be the most recent rain rate."
   ]
  },
  {
   "cell_type": "code",
   "execution_count": 1,
   "id": "d34c014e-9336-4b3b-892b-d104d87102a4",
   "metadata": {
    "execution": {
     "iopub.execute_input": "2024-10-26T00:00:54.079176Z",
     "iopub.status.busy": "2024-10-26T00:00:54.078858Z",
     "iopub.status.idle": "2024-10-26T00:00:57.675605Z",
     "shell.execute_reply": "2024-10-26T00:00:57.674861Z"
    }
   },
   "outputs": [
    {
     "name": "stdout",
     "output_type": "stream",
     "text": [
      "\n",
      "## You are using the Python ARM Radar Toolkit (Py-ART), an open source\n",
      "## library for working with weather radar data. Py-ART is partly\n",
      "## supported by the U.S. Department of Energy as part of the Atmospheric\n",
      "## Radiation Measurement (ARM) Climate Research Facility, an Office of\n",
      "## Science user facility.\n",
      "##\n",
      "## If you use this software to prepare a publication, please cite:\n",
      "##\n",
      "##     JJ Helmus and SM Collis, JORS 2016, doi: 10.5334/jors.119\n",
      "\n"
     ]
    }
   ],
   "source": [
    "%matplotlib inline\n",
    "import matplotlib.pyplot as plt\n",
    "import tempfile\n",
    "import pickle\n",
    "import pytz\n",
    "from datetime import datetime\n",
    "import pyart\n",
    "import numpy as np\n",
    "import xarray as xr\n",
    "from datetime import datetime, timedelta\n",
    "import pandas as pd\n",
    "import nexradaws\n",
    "\n",
    "#import configuration location and filepath\n",
    "from myconfig import *\n",
    "\n",
    "output_path = output_path_rain_data\n",
    "templocation = tempfile.mkdtemp()"
   ]
  },
  {
   "cell_type": "code",
   "execution_count": 2,
   "id": "dba12cd1-730f-4f75-8254-04a927e59d0e",
   "metadata": {
    "execution": {
     "iopub.execute_input": "2024-10-26T00:00:57.678956Z",
     "iopub.status.busy": "2024-10-26T00:00:57.678300Z",
     "iopub.status.idle": "2024-10-26T00:00:57.846656Z",
     "shell.execute_reply": "2024-10-26T00:00:57.843575Z"
    }
   },
   "outputs": [],
   "source": [
    "conn = nexradaws.NexradAwsInterface()"
   ]
  },
  {
   "cell_type": "code",
   "execution_count": 3,
   "id": "4047e787-1839-4f6a-8cad-b73775800bd3",
   "metadata": {
    "execution": {
     "iopub.execute_input": "2024-10-26T00:00:57.851821Z",
     "iopub.status.busy": "2024-10-26T00:00:57.850699Z",
     "iopub.status.idle": "2024-10-26T00:00:57.872622Z",
     "shell.execute_reply": "2024-10-26T00:00:57.871742Z"
    }
   },
   "outputs": [],
   "source": [
    "from datetime import datetime, timedelta\n",
    "# Get today's date\n",
    "date_end = datetime.today()\n",
    "date_start = date_end - timedelta(hours=24*7)\n",
    "lyr_end,imon_end,idym_end,ihr_end = str(date_end.year), str(date_end.month), str(date_end.day),str(date_end.hour)"
   ]
  },
  {
   "cell_type": "code",
   "execution_count": 4,
   "id": "d08725c0-57c0-46a8-931e-56ad83d42b0c",
   "metadata": {
    "execution": {
     "iopub.execute_input": "2024-10-26T00:00:57.876544Z",
     "iopub.status.busy": "2024-10-26T00:00:57.876176Z",
     "iopub.status.idle": "2024-10-26T00:00:58.548837Z",
     "shell.execute_reply": "2024-10-26T00:00:58.547972Z"
    }
   },
   "outputs": [
    {
     "name": "stdout",
     "output_type": "stream",
     "text": [
      "opened nc and scan files\n"
     ]
    }
   ],
   "source": [
    "# get previous data\n",
    "#fname = output_path + 'NEXRAD_scans.pkl'\n",
    "#with open(fname, 'rb') as file:\n",
    "#    old_scans = pickle.load(file)\n",
    "fname = output_path + 'NEXRAD_rain.nc'\n",
    "with xr.open_dataset(fname) as ds_all:\n",
    "    print('opened nc and scan files')"
   ]
  },
  {
   "cell_type": "code",
   "execution_count": 5,
   "id": "991bccd3-18c8-4ac4-8681-6337ab1e051f",
   "metadata": {
    "execution": {
     "iopub.execute_input": "2024-10-26T00:00:58.551369Z",
     "iopub.status.busy": "2024-10-26T00:00:58.550880Z",
     "iopub.status.idle": "2024-10-26T00:00:58.843439Z",
     "shell.execute_reply": "2024-10-26T00:00:58.838401Z"
    }
   },
   "outputs": [
    {
     "name": "stdout",
     "output_type": "stream",
     "text": [
      "KAMX\n",
      "2024-10-19 00:00:57.867522-07:00 2024-10-26 00:00:57.867522-07:00\n",
      "There are 336 scans available between 2024-10-19 00:00:57.867522-07:00 and 2024-10-26 00:00:57.867522-07:00\n",
      "\n",
      "KAMX 336\n",
      "9\n"
     ]
    }
   ],
   "source": [
    "west_timezone = pytz.timezone('America/Los_Angeles')\n",
    "start = west_timezone.localize(date_start) #datetime(2013,5,31,17,0))\n",
    "end = west_timezone.localize (date_end) #datetime(2013,5,31,19,0))\n",
    "scans = conn.get_avail_scans(2024,10,22, radar_id)\n",
    "# Remove items containing '_MDM'\n",
    "print(radar_id)\n",
    "print(start,end)\n",
    "#scans = conn.get_avail_scans_in_range(start, end, radar_id)\n",
    "scans = [item for item in scans if '_MDM' not in str(item)]\n",
    "print(\"There are {} scans available between {} and {}\\n\".format(len(scans), start, end))\n",
    "ilen = len(scans)\n",
    "print(radar_id,ilen)\n",
    "if ilen>10:\n",
    "    scans = scans[-10:-1]\n",
    "#print(ilen)\n",
    "#remove any repeat scans that were already downloaded\n",
    "#scans = [item for item in scans if item.key not in [i.key for i in old_scans]]\n",
    "print(len(scans))\n",
    "#scans = scans[-10:-1]"
   ]
  },
  {
   "cell_type": "markdown",
   "id": "240582b6-75b1-4631-b24d-d6d38b067e68",
   "metadata": {},
   "source": [
    "# find rain\n",
    "Where the clutter_filter_power_removed is >20 it is usually rain."
   ]
  },
  {
   "cell_type": "code",
   "execution_count": 6,
   "id": "21011abc-2cd5-45ca-96c5-1195415e138e",
   "metadata": {
    "execution": {
     "iopub.execute_input": "2024-10-26T00:00:58.849236Z",
     "iopub.status.busy": "2024-10-26T00:00:58.847612Z",
     "iopub.status.idle": "2024-10-26T00:01:28.202482Z",
     "shell.execute_reply": "2024-10-26T00:01:28.200762Z"
    }
   },
   "outputs": [
    {
     "name": "stdout",
     "output_type": "stream",
     "text": [
      "Downloaded KAMX20241022_233355_V06\n",
      "Downloaded KAMX20241022_232936_V06\n",
      "Downloaded KAMX20241022_233814_V06\n",
      "Downloaded KAMX20241022_232058_V06\n",
      "Downloaded KAMX20241022_232517_V06\n",
      "Downloaded KAMX20241022_234233_V06\n"
     ]
    },
    {
     "name": "stdout",
     "output_type": "stream",
     "text": [
      "Downloaded KAMX20241022_234652_V06\n",
      "Downloaded KAMX20241022_235530_V06\n"
     ]
    },
    {
     "name": "stdout",
     "output_type": "stream",
     "text": [
      "Downloaded KAMX20241022_235111_V06\n",
      "9 out of 9 files downloaded...0 errors\n"
     ]
    }
   ],
   "source": [
    "results = conn.download(scans, templocation)\n",
    "for i,scan in enumerate(results.iter_success(),start=1):\n",
    "    radar = scan.open_pyart()\n",
    "    ds = pyart.util.columnsect.get_field_location(radar, site_lat, site_lon)\n",
    "    # Apply the conditional operation on var2 based on var1\n",
    "    ds = ds.drop_vars({'spectrum_width','differential_phase',\n",
    "                       'differential_reflectivity','cross_correlation_ratio',\n",
    "                       'time_offset','velocity','reflectivity'})\n",
    "    ds = ds.rename({'base_time':'time'})\n",
    "    ds = ds.set_coords('time')\n",
    "    del ds['time'].attrs['units']\n",
    "    if i==1:\n",
    "        ds_all = ds.isel(height=0)\n",
    "    else:\n",
    "        ds_all = xr.concat([ds_all, ds.isel(height=0)],dim = 'time')"
   ]
  },
  {
   "cell_type": "code",
   "execution_count": 7,
   "id": "bc1e35c6-f138-4b55-b808-88c626238e5b",
   "metadata": {
    "execution": {
     "iopub.execute_input": "2024-10-26T00:01:28.206380Z",
     "iopub.status.busy": "2024-10-26T00:01:28.206000Z",
     "iopub.status.idle": "2024-10-26T00:01:28.211306Z",
     "shell.execute_reply": "2024-10-26T00:01:28.209806Z"
    }
   },
   "outputs": [],
   "source": [
    "#aws_combined = old_scans + scans\n",
    "#ilen = len(scans)\n",
    "# Remove the old items\n",
    "#aws_files_filtered = aws_files[ilen:]\n",
    "#ds_all = ds_all.isel(time=slice(ilen, None))\n",
    "# output netcdf data and the list of files that have been downloaded and read\n",
    "#fname = output_path + 'NEXRAD_rain.nc'\n",
    "#ds_all.to_netcdf(fname)\n",
    "# Save the list of objects to a file using pickle\n",
    "#fname = output_path + 'NEXRAD_scans.pkl'\n",
    "#with open(fname, 'wb') as file:\n",
    "#    pickle.dump(aws_combined, file)\n"
   ]
  },
  {
   "cell_type": "code",
   "execution_count": 8,
   "id": "030eddb8-ee04-4c88-8bb2-a887b70a95fb",
   "metadata": {
    "execution": {
     "iopub.execute_input": "2024-10-26T00:01:28.214318Z",
     "iopub.status.busy": "2024-10-26T00:01:28.213965Z",
     "iopub.status.idle": "2024-10-26T00:01:28.256397Z",
     "shell.execute_reply": "2024-10-26T00:01:28.255680Z"
    }
   },
   "outputs": [],
   "source": [
    "# New grid with 7200 points\n",
    "start_time = pd.to_datetime(ds_all.time[0].data).strftime('%Y-%m-%dT%H:%M:%S')\n",
    "end_time = pd.to_datetime(ds_all.time[-1].data).strftime('%Y-%m-%dT%H:%M:%S')\n",
    "new_time = pd.date_range(start=start_time, end=end_time, periods=7200).to_numpy()\n",
    "ds_all_interpolated = ds_all.interp(time=new_time)\n",
    "ds = ds_all_interpolated\n",
    "# create rain binary on/off from reflectivity\n",
    "#ds['rain'] = xr.where(ds['clutter_filter_power_removed'] < 20, 0, xr.where(ds['clutter_filter_power_removed'] >= 20, 1, ds['reflectivity'))\n",
    "ds['rain_flag'] =ds['clutter_filter_power_removed']*0\n",
    "ds['rain_flag'] = xr.where(ds['clutter_filter_power_removed'] > 40, 1, 0)\n",
    "#normalize reflectivity\n",
    "ds['clutter_filter_power_removed'] = ds.clutter_filter_power_removed/ds.clutter_filter_power_removed.max()\n",
    "\n",
    "# Instead of having the rain history through the piece, have a binary rain/no rain\n",
    "# based on the last downloaded rain value, so if the latest value says is is raining set the \n",
    "# entire flag to rain or vice versa\n",
    "if ds.rain_flag[-1]==0:\n",
    "    ds.rain_flag==0\n",
    "else:\n",
    "    ds.rain_flag==1\n",
    "\n",
    "#fix up interp\n",
    "ds['clutter_filter_power_removed'][0]=ds['clutter_filter_power_removed'][2]\n",
    "ds['clutter_filter_power_removed'][1]=ds['clutter_filter_power_removed'][2]\n",
    "ds.height[0]=ds.height[2]\n",
    "ds.height[1]=ds.height[2]"
   ]
  },
  {
   "cell_type": "code",
   "execution_count": 9,
   "id": "bca862c0-c8da-4d05-913f-144adce93559",
   "metadata": {
    "execution": {
     "iopub.execute_input": "2024-10-26T00:01:28.263391Z",
     "iopub.status.busy": "2024-10-26T00:01:28.262585Z",
     "iopub.status.idle": "2024-10-26T00:01:28.316562Z",
     "shell.execute_reply": "2024-10-26T00:01:28.315794Z"
    }
   },
   "outputs": [],
   "source": [
    "#create dataframe with time, normalized reflectivity, rain binary on off\n",
    "is_rain_df = pd.DataFrame({'time':ds.time,'reflectivity_normalized':ds.clutter_filter_power_removed.data,'rain': ds.rain_flag.data})\n",
    "fname = output_path_nrt + 'nrt_raining.csv'\n",
    "is_rain_df.to_csv(fname,index=False)"
   ]
  },
  {
   "cell_type": "code",
   "execution_count": null,
   "id": "3994f1db-5ff2-479c-9c52-20f9b127b91b",
   "metadata": {},
   "outputs": [],
   "source": []
  }
 ],
 "metadata": {
  "kernelspec": {
   "display_name": "user-env:(heart)",
   "language": "python",
   "name": "heart"
  },
  "language_info": {
   "codemirror_mode": {
    "name": "ipython",
    "version": 3
   },
   "file_extension": ".py",
   "mimetype": "text/x-python",
   "name": "python",
   "nbconvert_exporter": "python",
   "pygments_lexer": "ipython3",
   "version": "3.12.7"
  }
 },
 "nbformat": 4,
 "nbformat_minor": 5
}
