{
 "cells": [
  {
   "cell_type": "markdown",
   "id": "f78cf289-6bc9-43ed-b225-3f7f1c7299eb",
   "metadata": {},
   "source": [
    "# Step 1 to create GOES data timeseries\n",
    "\n",
    "- Creates files with lists of all GOES files in 1 day\n",
    "\n",
    "- Run this before creating GOES timeseries data\n",
    "\n",
    "- Set start date\n",
    "\n",
    "- Set number of days to increment through (does 1 day at a time)\n",
    "\n",
    "This primarily supports creating the historical GOES data. This has to access 288 files per day, and with all those requests, there is risk of failure. Having a static list of filenames to go through was a quick solution to be able to make sure we started again at the same place we ended when the program died.\n"
   ]
  },
  {
   "cell_type": "code",
   "execution_count": 1,
   "id": "ba243286-f7eb-430f-9ca9-694bc9f8e805",
   "metadata": {},
   "outputs": [
    {
     "name": "stderr",
     "output_type": "stream",
     "text": [
      "/Library/Frameworks/Python.framework/Versions/3.12/lib/python3.12/site-packages/goes2go/data.py:665: FutureWarning: 'H' is deprecated and will be removed in a future version. Please use 'h' instead of 'H'.\n",
      "  within=pd.to_timedelta(config[\"nearesttime\"].get(\"within\", \"1h\")),\n",
      "/Library/Frameworks/Python.framework/Versions/3.12/lib/python3.12/site-packages/goes2go/NEW.py:188: FutureWarning: 'H' is deprecated and will be removed in a future version. Please use 'h' instead of 'H'.\n",
      "  within=pd.to_timedelta(config[\"nearesttime\"].get(\"within\", \"1h\")),\n"
     ]
    }
   ],
   "source": [
    "#create goes data\n",
    "from goes2go import GOES\n",
    "import xarray as xr\n",
    "import numpy as np\n",
    "import pandas as pd\n",
    "from datetime import datetime, timedelta\n",
    "import warnings\n",
    "warnings.filterwarnings('ignore')\n",
    "\n",
    "#################  SET THESE VALUES ######################\n",
    "\n",
    "start_year, start_month, start_day = 2023,12,6\n",
    "number_days_to_process = 9\n",
    "\n",
    "##########################################################\n",
    "\n",
    "\n",
    "def get_start_end_time(fname):\n",
    "    #goes filenames structure https://geonetcast.wordpress.com/2017/04/27/goes-16-file-naming-convention/\n",
    "    #use filename to find start/end times for data\n",
    "    tem = str(fname).split('/')\n",
    "    tem2,i = tem[5],25\n",
    "    dt_start = datetime.strptime(tem2[i:i+13], '%Y%j%H%M%S')\n",
    "    tem2,i = tem[5],41\n",
    "    dt_end = datetime.strptime(tem2[i:i+13], '%Y%j%H%M%S')\n",
    "    return dt_start,dt_end\n"
   ]
  },
  {
   "cell_type": "code",
   "execution_count": 3,
   "id": "52ee808b-da28-457c-bfd5-06806668ae39",
   "metadata": {},
   "outputs": [
    {
     "name": "stdout",
     "output_type": "stream",
     "text": [
      "20231206 20231207\n",
      "noaa-goes16/ABI-L2-MCMIPC/2023/340/00/OR_ABI-L2-MCMIPC-M6_G16_s20233400001173_e20233400003546_c20233400004056.nc\n",
      "20231207 20231208\n",
      "noaa-goes16/ABI-L2-MCMIPC/2023/341/00/OR_ABI-L2-MCMIPC-M6_G16_s20233410001174_e20233410003558_c20233410004065.nc\n",
      "20231208 20231209\n",
      "noaa-goes16/ABI-L2-MCMIPC/2023/342/00/OR_ABI-L2-MCMIPC-M6_G16_s20233420001174_e20233420003547_c20233420004068.nc\n",
      "20231209 20231210\n",
      "noaa-goes16/ABI-L2-MCMIPC/2023/343/00/OR_ABI-L2-MCMIPC-M6_G16_s20233430001175_e20233430003547_c20233430004064.nc\n",
      "20231210 20231211\n",
      "noaa-goes16/ABI-L2-MCMIPC/2023/344/00/OR_ABI-L2-MCMIPC-M6_G16_s20233440001175_e20233440003560_c20233440004066.nc\n",
      "20231211 20231212\n",
      "noaa-goes16/ABI-L2-MCMIPC/2023/345/00/OR_ABI-L2-MCMIPC-M6_G16_s20233450001176_e20233450003560_c20233450004075.nc\n",
      "20231212 20231213\n",
      "noaa-goes16/ABI-L2-MCMIPC/2023/346/00/OR_ABI-L2-MCMIPC-M6_G16_s20233460001170_e20233460003549_c20233460004061.nc\n",
      "20231213 20231214\n",
      "noaa-goes16/ABI-L2-MCMIPC/2023/347/00/OR_ABI-L2-MCMIPC-M6_G16_s20233470001171_e20233470003555_c20233470004076.nc\n",
      "20231214 20231215\n",
      "noaa-goes16/ABI-L2-MCMIPC/2023/348/00/OR_ABI-L2-MCMIPC-M6_G16_s20233480001171_e20233480003555_c20233480004079.nc\n"
     ]
    }
   ],
   "source": [
    "now = datetime.now()\n",
    "end_time = now.strftime(\"%Y-%m-%d %H:%M\")\n",
    "yesterday = now - timedelta(hours=24)\n",
    "start_time = yesterday.strftime(\"%Y-%m-%d %H:%M\")\n",
    "\n",
    "for incr in range(0,number_days_to_process):\n",
    "\n",
    "    date_start = datetime(start_year, start_month, start_day) + timedelta(days=incr)\n",
    "    date_end = date_start + timedelta(days=1)  \n",
    "    start_time = date_start.strftime(\"%Y%m%d\")\n",
    "    end_time = date_end.strftime(\"%Y%m%d\")\n",
    "    \n",
    "    print(start_time,end_time)\n",
    "    \n",
    "    # Open the GOES-R image\n",
    "    G = GOES(satellite=16, product=\"ABI-L2-MCMIPC\", domain='C')  #ABI-L2-DMWVC ABI-L2-DMWC not at all points #\n",
    "    # Produce a pandas DataFrame of the available files in a time range\n",
    "    df = G.df(start=start_time, end=end_time)\n",
    "    print(df.file[0])\n",
    "    # Save DataFrame to a CSV file\n",
    "    files_fname = './data/goes_filenames_test_'+start_time+'-'+end_time+'.csv'\n",
    "    df.to_csv(files_fname)\n"
   ]
  },
  {
   "cell_type": "code",
   "execution_count": null,
   "id": "76904a99-0c48-46c4-82c7-88756e74cd44",
   "metadata": {},
   "outputs": [],
   "source": []
  }
 ],
 "metadata": {
  "kernelspec": {
   "display_name": "Python 3 (ipykernel)",
   "language": "python",
   "name": "python3"
  },
  "language_info": {
   "codemirror_mode": {
    "name": "ipython",
    "version": 3
   },
   "file_extension": ".py",
   "mimetype": "text/x-python",
   "name": "python",
   "nbconvert_exporter": "python",
   "pygments_lexer": "ipython3",
   "version": "3.12.2"
  }
 },
 "nbformat": 4,
 "nbformat_minor": 5
}
