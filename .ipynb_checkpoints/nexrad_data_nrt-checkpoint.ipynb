{
 "cells": [
  {
   "cell_type": "markdown",
   "id": "ee054a92-0503-4821-8452-24167bf822c1",
   "metadata": {},
   "source": [
    "# NEXRAD data\n",
    "\n",
    "Is it raining in Miami?\n",
    "\n",
    "The Next Generation Weather Radar (NEXRAD) system is a network of 160 high-resolution S-band Doppler weather radars jointly operated by the National Weather Service (NWS), the Federal Aviation Administration (FAA), and the U.S. Air Force. The NEXRAD system detects precipitation and wind, and its data can be processed to map precipitation patterns and movement. NCEI provides access to archived NEXRAD Level-II data and Level-III products. [source](https://www.ncei.noaa.gov/products/radar/next-generation-weather-radar)\n",
    "\n",
    "The NEXRAD data is freely available on the Amazon cloud at [https://registry.opendata.aws/noaa-nexrad/](https://registry.opendata.aws/noaa-nexrad/).\n",
    "\n",
    "The data can be accessed using the Python ARM Radar Toolkit ([Py-ART](https://arm-doe.github.io/pyart/)), an open source library for working with weather radar data. Py-ART is partly supported by the U.S. Department of Energy as part of the Atmospheric Radiation Measurement (ARM) Climate Research Facility, an Office of Science user facility. Which was developed by JJ Helmus and SM Collis (JORS 2016, doi: 10.5334/jors.119)\n",
    "\n",
    "[PyArt examples](https://projectpythia.org/radar-cookbook/notebooks/foundations/pyart-basics.html)\n",
    "\n",
    "Here we use PyArt to find recent files from the Miami NEXRAD station and look at Miami to see if it is raining."
   ]
  },
  {
   "cell_type": "code",
   "execution_count": null,
   "id": "d34c014e-9336-4b3b-892b-d104d87102a4",
   "metadata": {},
   "outputs": [],
   "source": [
    "%matplotlib inline\n",
    "import matplotlib.pyplot as plt\n",
    "import tempfile\n",
    "import pytz\n",
    "from datetime import datetime\n",
    "import pyart\n",
    "import xarray as xr\n",
    "from datetime import datetime, timedelta\n",
    "import pandas as pd\n",
    "import nexradaws\n",
    "#import configuration location and filepath\n",
    "from myconfig import *\n",
    "\n",
    "templocation = tempfile.mkdtemp()"
   ]
  },
  {
   "cell_type": "code",
   "execution_count": null,
   "id": "dba12cd1-730f-4f75-8254-04a927e59d0e",
   "metadata": {},
   "outputs": [],
   "source": [
    "conn = nexradaws.NexradAwsInterface()"
   ]
  },
  {
   "cell_type": "code",
   "execution_count": null,
   "id": "4047e787-1839-4f6a-8cad-b73775800bd3",
   "metadata": {},
   "outputs": [],
   "source": [
    "from datetime import datetime, timedelta\n",
    "# Get today's date\n",
    "date_end = datetime.today()\n",
    "date_start = date_end - timedelta(hours=1)\n",
    "lyr_end,imon_end,idym_end,ihr_end = str(date_end.year), str(date_end.month), str(date_end.day),str(date_end.hour)"
   ]
  },
  {
   "cell_type": "code",
   "execution_count": null,
   "id": "991bccd3-18c8-4ac4-8681-6337ab1e051f",
   "metadata": {},
   "outputs": [],
   "source": [
    "west_timezone = pytz.timezone('America/Los_Angeles')\n",
    "start = west_timezone.localize(date_start) #datetime(2013,5,31,17,0))\n",
    "end = west_timezone.localize (date_end) #datetime(2013,5,31,19,0))\n",
    "scans = conn.get_avail_scans(lyr_end,imon_end,idym_end, radar_id)\n",
    "# Remove items containing '_MDM'\n",
    "scans = [item for item in scans if '_MDM' not in str(item)]\n",
    "#scans = conn.get_avail_scans_in_range(lyr_end,imon_end,idym_end, radar_id)\n",
    "print(\"There are {} scans available between {} and {}\\n\".format(len(scans), start, end))\n",
    "ilen = len(scans)\n",
    "if ilen>10:\n",
    "    scans = scans[-5:-1]"
   ]
  },
  {
   "cell_type": "code",
   "execution_count": null,
   "id": "6c13a9ad-5ee3-4e7c-bf56-fa97a4536609",
   "metadata": {},
   "outputs": [],
   "source": [
    "results = conn.download(scans, templocation)"
   ]
  },
  {
   "cell_type": "markdown",
   "id": "240582b6-75b1-4631-b24d-d6d38b067e68",
   "metadata": {},
   "source": [
    "# find rain\n",
    "Where the clutter_filter_power_removed is >20 set rain to 1, otherwise rain 0"
   ]
  },
  {
   "cell_type": "code",
   "execution_count": null,
   "id": "21011abc-2cd5-45ca-96c5-1195415e138e",
   "metadata": {},
   "outputs": [],
   "source": [
    "for i,scan in enumerate(results.iter_success(),start=1):\n",
    "    radar = scan.open_pyart()\n",
    "    ds = pyart.util.columnsect.get_field_location(radar, site_lat, site_lon)\n",
    "    # filter if below 20 then probably not raining (holly norton advice to remove ground clutter)\n",
    "    ds['rain']=ds.reflectivity\n",
    "    # Apply the conditional operation on var2 based on var1\n",
    "    ds['rain'] = xr.where(ds['clutter_filter_power_removed'] < 20, 0, xr.where(ds['clutter_filter_power_removed'] >= 20, 1, ds['reflectivity']))\n",
    "    if i==1:\n",
    "        ds_all = ds.isel(height=0)\n",
    "    else:\n",
    "        ds_all = xr.concat([ds_all, ds.isel(height=0)],dim = 'time')"
   ]
  },
  {
   "cell_type": "code",
   "execution_count": null,
   "id": "d0ad88f3-0e2e-4967-a6e5-74f15035b74f",
   "metadata": {},
   "outputs": [],
   "source": [
    "#import matplotlib.pyplot as plt\n",
    "#plt.plot(ds_all.base_time,ds_all.reflectivity)\n",
    "#plt.plot(ds_all.base_time,ds_all.clutter_filter_power_removed)"
   ]
  },
  {
   "cell_type": "code",
   "execution_count": null,
   "id": "bc260428-411a-4716-a142-928034f57436",
   "metadata": {},
   "outputs": [],
   "source": [
    "#plt.plot(ds_all.rain)"
   ]
  },
  {
   "cell_type": "code",
   "execution_count": null,
   "id": "bca862c0-c8da-4d05-913f-144adce93559",
   "metadata": {},
   "outputs": [],
   "source": [
    "is_rain_df = pd.DataFrame({'rain': ds_all.rain.data})\n",
    "is_rain_df.to_csv(\"./data/is_it_raining.csv\")"
   ]
  },
  {
   "cell_type": "code",
   "execution_count": null,
   "id": "2eeac252-98d9-452d-8662-2773bed402aa",
   "metadata": {},
   "outputs": [],
   "source": [
    "\n"
   ]
  },
  {
   "cell_type": "code",
   "execution_count": null,
   "id": "bd649136-4054-4e87-ae1a-e8d72166adf0",
   "metadata": {},
   "outputs": [],
   "source": []
  }
 ],
 "metadata": {
  "kernelspec": {
   "display_name": "Python 3 (ipykernel)",
   "language": "python",
   "name": "python3"
  },
  "language_info": {
   "codemirror_mode": {
    "name": "ipython",
    "version": 3
   },
   "file_extension": ".py",
   "mimetype": "text/x-python",
   "name": "python",
   "nbconvert_exporter": "python",
   "pygments_lexer": "ipython3",
   "version": "3.12.7"
  }
 },
 "nbformat": 4,
 "nbformat_minor": 5
}
