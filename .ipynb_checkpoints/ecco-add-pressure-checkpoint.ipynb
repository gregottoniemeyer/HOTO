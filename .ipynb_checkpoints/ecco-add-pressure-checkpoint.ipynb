{
 "cells": [
  {
   "cell_type": "code",
   "execution_count": 1,
   "id": "5afcf39f-a37f-4806-a4e4-68cfb4f9c7a0",
   "metadata": {},
   "outputs": [],
   "source": [
    "import numpy as np\n",
    "import xarray as xr\n",
    "import xmitgcm.llcreader as llcreader\n",
    "%matplotlib inline\n",
    "import matplotlib.pyplot as plt\n",
    "import warnings\n",
    "import pandas as pd\n",
    "warnings.filterwarnings('ignore')\n",
    "\n",
    "#3D plot\n",
    "from mpl_toolkits.mplot3d import Axes3D\n",
    "plt.rcParams['figure.figsize'] = (10,10)"
   ]
  },
  {
   "cell_type": "code",
   "execution_count": null,
   "id": "c9cc338a-7f22-45b9-a21d-a028647ae0e4",
   "metadata": {},
   "outputs": [],
   "source": [
    "## read in 3D data from public portal (you don't have to download!)\n",
    "model = llcreader.ECCOPortalLLC2160Model()\n",
    "ds = model.get_dataset(varnames=['PH'], type='latlon')\n",
    "subset2 = ds.isel(time=-1,j=slice(4645,4655),i=slice(7640,7650),k=slice(0,50))\n",
    "array2 = xr.DataArray(subset2.PH.data,dims=['depth','lat','lon'],coords={'depth':subset2.Z.data,'lat':subset2.YC[:,0].data,'lon':subset2.XC[0,:].data})\n",
    "#array2 = array2.load()"
   ]
  },
  {
   "cell_type": "code",
   "execution_count": null,
   "id": "91be97da-526a-41d4-b981-4dcff3afefb6",
   "metadata": {},
   "outputs": [],
   "source": [
    "down_data = array2.sel(lat=25.6,lon= -79.48,method='nearest').load()\n",
    "down_data[\"depth\"] = down_data[\"depth\"].astype(np.float32) #convert depth to float32\n",
    "up_data = array2.sel(lat=25.6,lon=-79.81,method='nearest').load()\n",
    "up_data[\"depth\"] = up_data[\"depth\"].astype(np.float32) #convert depth to float32\n",
    "\n",
    "i1=0; i2=48;\n",
    "tem = down_data[i1:i2]\n",
    "depth_new=np.linspace(tem.depth[0].data,tem.depth[-1].data,5400)\n",
    "down_data2 = tem.interp(depth=depth_new)\n",
    "down_lowest = down_data2[-1].data #save lowest value\n",
    "\n",
    "i1=0; i2=47;\n",
    "tem = up_data[i1:i2]\n",
    "depth_new=np.linspace(tem.depth[0].data,tem.depth[-1].data,1699)\n",
    "up_data2 = tem.interp(depth=depth_new)\n",
    "up_lowest = up_data2[-1].data #save lowest value\n",
    "\n",
    "i1=0; i2=101;\n",
    "tem = down_data2[i1:i2].copy()\n",
    "depth_new=np.linspace(down_data2.depth[-1].data,up_data2.depth[-1].data,101)\n",
    "#temp_new=np.linspace(down_lowest,up_lowest.data,101)\n",
    "temp_new=np.linspace(down_lowest,up_lowest,101)\n",
    "middle_data = tem\n",
    "middle_data['depth']=depth_new #set depth all to deepest point\n",
    "middle_data[:]=temp_new #set temp to lowest temp"
   ]
  },
  {
   "cell_type": "code",
   "execution_count": null,
   "id": "14cfd359-dac5-4d08-8976-815283fc49d2",
   "metadata": {},
   "outputs": [],
   "source": [
    "data_bottom_pause = xr.concat(\n",
    "    [down_data2,middle_data,up_data2.isel(depth=slice(None, None, -1))],\n",
    "    dim='depth')\n",
    "df = data_bottom_pause.to_dataframe()\n",
    "# Find columns that contain the string 'getitem'\n",
    "matching_columns = [col for col in df.columns if 'getitem' in col]\n",
    "df = df.rename(columns={matching_columns[0]:'Pressure'})\n",
    "df['depth']=df.index\n",
    "#df['timestep'] = np.arange(7200)\n",
    "df.index=np.arange(7200)\n",
    "df.index.name = 'timestep'\n",
    "#df = df[['timestep', 'depth','Theta', 'lat', 'lon']]\n",
    "df = df[['depth','Pressure', 'lat', 'lon']]\n",
    "#del df['lat']\n",
    "#del df['lon']\n",
    "#save data\n",
    "#save data\n",
    "df.to_csv(\"./data/data_bottom_pause_Pressure_nolatlon.csv\")\n",
    "df_save = df"
   ]
  },
  {
   "cell_type": "code",
   "execution_count": null,
   "id": "da4ec4b6-0c50-407b-ba95-200a610ad9e4",
   "metadata": {},
   "outputs": [],
   "source": []
  }
 ],
 "metadata": {
  "kernelspec": {
   "display_name": "Python 3 (ipykernel)",
   "language": "python",
   "name": "python3"
  },
  "language_info": {
   "codemirror_mode": {
    "name": "ipython",
    "version": 3
   },
   "file_extension": ".py",
   "mimetype": "text/x-python",
   "name": "python",
   "nbconvert_exporter": "python",
   "pygments_lexer": "ipython3",
   "version": "3.12.5"
  }
 },
 "nbformat": 4,
 "nbformat_minor": 5
}
