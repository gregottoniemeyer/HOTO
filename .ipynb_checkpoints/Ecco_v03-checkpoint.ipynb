{
 "cells": [
  {
   "cell_type": "markdown",
   "id": "e56cb11a-8308-418b-8a3e-4a57a16eb573",
   "metadata": {},
   "source": [
    "# NASA JPL ECCO Data\n",
    "\n",
    "Notebook credit:\n",
    "- Chelle Gentemann\n",
    "- Greg Niemeyer \n",
    "\n",
    "NASA’s Estimating the Circulation and Climate of the Ocean (ECCO) project supports climate research by providing the scientific community with the best possible multidecadal reconstructions of Earth’s time-evolving full-depth ocean, sea-ice, and atmospheric surface states and their associated fluxes.\n",
    "\n",
    "ECCO state estimate are multi-platform, multi-instrument, multi-variable synthesis products that integrate global satellite and in-situ ocean and ice observations with coupled ocean/sea-ice models. By construction, ECCO state estimates satisfy the laws of physics and thermodynamics and therefore conserve heat, salt, volume, and momentum. This strict adherence to conservation principles makes ECCO products particularly well-suited for investigations into the origins of observed ocean, sea-ice, and sea-level variability.\n",
    "\n",
    "The project brings together diverse data streams, including satellite observations (e.g., sea level from the Jason-series satellite altimeters and ocean bottom pressure from the GRACE and GRACE-Follow On missions) and in situ measurements (e.g., temperature and salinity profiles from Argo floats and CTDs) to obtain the best possible estimate of the time evolving ocean circulation and related uncertainties.\n",
    "\n",
    "- [https://science.jpl.nasa.gov/projects/ecco/](https://science.jpl.nasa.gov/projects/ecco/)\n",
    "- [https://podaac.jpl.nasa.gov/ECCO](https://podaac.jpl.nasa.gov/ECCO)\n",
    "\n",
    "ECCO data include:'Eta', 'KPPhbl', 'oceFWflx', 'oceQnet', 'oceQsw', 'oceSflux', 'oceTAUX','oceTAUY', 'PhiBot', 'Salt', 'SIarea', 'SIheff', 'SIhsalt', 'SIhsnow', 'SIuice','SIvice', 'Theta', 'U','V','W'\n",
    "\n",
    "Since the complete ECCO V4r4 product exceeds 3TB across more than 385,000 granules (!!!), in this notebook, we don't download the large ECCO files. Instead, we access them through the ECCO data portal, using Xarray and lazy loading to only get the data we need.\n",
    "\n",
    "Steps -\n",
    "- connect to model data in portal\n",
    "- get dataset name and read a small portion of the data\n",
    "- create the downward and upward profiles and link them together\n",
    "- print a figure of the profile and save the data as a dataframe\n"
   ]
  },
  {
   "cell_type": "code",
   "execution_count": 1,
   "id": "ca04664c-bf61-45ba-84d7-f404d2779a71",
   "metadata": {},
   "outputs": [],
   "source": [
    "import numpy as np\n",
    "import xarray as xr\n",
    "import xmitgcm.llcreader as llcreader\n",
    "%matplotlib inline\n",
    "import matplotlib.pyplot as plt\n",
    "import warnings\n",
    "import pandas as pd\n",
    "warnings.filterwarnings('ignore')"
   ]
  },
  {
   "cell_type": "code",
   "execution_count": 2,
   "id": "4933503f-e792-4e00-a2a1-823937f87f04",
   "metadata": {},
   "outputs": [],
   "source": [
    "model = llcreader.ECCOPortalLLC2160Model()\n",
    "ds = model.get_dataset(varnames=['Salt'], type='latlon')\n",
    "down_lat = 19.71361\n",
    "down_lon = -67.00\n",
    "down_ilat = abs(ds.YC[:,0] - down_lat).argmin()\n",
    "down_ilon = abs(ds.XC[0,:] - down_lon).argmin()\n",
    "up_lat =  19.71361\n",
    "up_lon = -68.00\n",
    "up_ilat = abs(ds.YC[:,0] - up_lat).argmin()\n",
    "up_ilon = abs(ds.XC[0,:] - up_lon).argmin()\n",
    "\n",
    "down_ilat, down_ilon = down_ilat.load(),down_ilon.load()\n",
    "up_ilat, up_ilon = up_ilat.load(),up_ilon.load()\n",
    "subset2 = ds.isel(time=-1,j=slice(down_ilat.data-2,down_ilat.data+2),i=slice(down_ilon.data-2,down_ilat.data+2))\n",
    "array2 = xr.DataArray(subset2.Salt.data,dims=['depth','lat','lon'],coords={'depth':subset2.Z.data,'lat':subset2.YC[:,0].data,'lon':subset2.XC[0,:].data})"
   ]
  },
  {
   "cell_type": "code",
   "execution_count": 18,
   "id": "3f62e17e-8883-4aab-a8fe-3f129b4719f7",
   "metadata": {},
   "outputs": [],
   "source": [
    "start_dive = 0\n",
    "windmix_dive = 47\n",
    "stop_dive = 82\n",
    "\n",
    "down_data = array2.sel(lat=down_lat,lon=down_lon,method='nearest') #Milwaukee Trench\n",
    "\n",
    "down_data[\"depth\"] = down_data[\"depth\"].astype(np.float32) #convert depth to float32\n",
    "up_data = array2.sel(lat=up_lat,lon=up_lon,method='nearest')\n",
    "up_data[\"depth\"] = up_data[\"depth\"].astype(np.float32) #convert depth to float32\n",
    "\n",
    "#here we scale the data to the required number of steps\n",
    "tem = down_data[start_dive:windmix_dive]\n",
    "depth_new=np.linspace(tem.depth[0].data,tem.depth[-1].data,1800)\n",
    "windmix_data2 = tem.interp(depth=depth_new)\n",
    "\n",
    "#here we scale the data to the required number of steps\n",
    "tem = down_data[windmix_dive-1:stop_dive]\n",
    "depth_new=np.linspace(tem.depth[0].data,tem.depth[-1].data,1800)\n",
    "down_data2 = tem.interp(depth=depth_new)\n",
    "down_lowest = down_data2[-1].data #save lowest value\n",
    "\n",
    "tem = up_data[stop_dive-1:stop_dive]\n",
    "depth_new=np.linspace(tem.depth[0].data,tem.depth[-1].data,101)\n",
    "chill_data2 = tem.interp(depth=depth_new)\n",
    "\n",
    "tem = up_data[start_dive:stop_dive]\n",
    "depth_new=np.linspace(tem.depth[0].data,tem.depth[-1].data,1699)\n",
    "up_data2 = tem.interp(depth=depth_new)\n",
    "up_lowest = up_data2[-1].data #save lowest value"
   ]
  },
  {
   "cell_type": "code",
   "execution_count": 6,
   "id": "746f18e0-7210-4cc9-bc09-53740ae23bca",
   "metadata": {},
   "outputs": [],
   "source": [
    "windmix_df = pd.DataFrame({'depth': windmix_data2.depth, 'salinity': windmix_data2})\n",
    "windmix_df.shape"
   ]
  },
  {
   "cell_type": "code",
   "execution_count": 19,
   "id": "beb7e2c3-c259-452e-86df-23446c644a5c",
   "metadata": {},
   "outputs": [
    {
     "data": {
      "text/plain": [
       "(1800, 2)"
      ]
     },
     "execution_count": 19,
     "metadata": {},
     "output_type": "execute_result"
    }
   ],
   "source": [
    "down_df = pd.DataFrame({'depth': down_data2.depth, 'salinity': down_data2})#down_data2\n",
    "down_df.shape"
   ]
  },
  {
   "cell_type": "code",
   "execution_count": 10,
   "id": "795aefa1-9173-4ae2-9bb0-5d0b32e16fd4",
   "metadata": {},
   "outputs": [
    {
     "data": {
      "text/plain": [
       "(101, 2)"
      ]
     },
     "execution_count": 10,
     "metadata": {},
     "output_type": "execute_result"
    }
   ],
   "source": [
    "chill_df = pd.DataFrame({'depth': chill_data2.depth, 'salinity': chill_data2})\n",
    "chill_df.shape"
   ]
  },
  {
   "cell_type": "code",
   "execution_count": 20,
   "id": "720dea34-b3b3-4053-9c00-c08d8fe18ba9",
   "metadata": {},
   "outputs": [
    {
     "data": {
      "text/plain": [
       "(1699, 2)"
      ]
     },
     "execution_count": 20,
     "metadata": {},
     "output_type": "execute_result"
    }
   ],
   "source": [
    "up_df = pd.DataFrame({'depth': up_data2.depth, 'salinity': up_data2})\n",
    "#reverse up data\n",
    "reversed_up_df = up_df.iloc[::-1].reset_index(drop=True)\n",
    "reversed_up_df.shape"
   ]
  },
  {
   "cell_type": "code",
   "execution_count": 23,
   "id": "a6bc268d-a2b2-42e5-93b1-ebf89f3d1726",
   "metadata": {},
   "outputs": [],
   "source": [
    "#concatenate\n",
    "salinity_df = pd.concat([windmix_df, down_df, chill_df, reversed_up_df], ignore_index=True)"
   ]
  },
  {
   "cell_type": "code",
   "execution_count": 24,
   "id": "f97d5c45-708d-45d0-877f-c5028e73db74",
   "metadata": {},
   "outputs": [
    {
     "data": {
      "text/plain": [
       "Text(0, 0.5, 'Salinity')"
      ]
     },
     "execution_count": 24,
     "metadata": {},
     "output_type": "execute_result"
    },
    {
     "data": {
      "image/png": "[encoded data removed]",
      "text/plain": [
       "<Figure size 500x300 with 1 Axes>"
      ]
     },
     "metadata": {},
     "output_type": "display_data"
    }
   ],
   "source": [
    "plt.figure(figsize=(5, 3))\n",
    "plt.plot(salinity_df.index,salinity_df.depth)\n",
    "plt.xlabel('Timestep')\n",
    "plt.ylabel('Salinity')"
   ]
  },
  {
   "cell_type": "code",
   "execution_count": 26,
   "id": "ee42b11b-de92-478c-aa34-6cbe8cf7a392",
   "metadata": {},
   "outputs": [],
   "source": [
    "salinity_df.to_csv(\"../data/trench_dive_salinity.csv\", index=True)"
   ]
  },
  {
   "cell_type": "markdown",
   "id": "f6aefa93-297b-443a-8a78-2c6f2e25b06d",
   "metadata": {},
   "source": [
    "# now do temperature (theta)\n",
    "-restart your kernel!"
   ]
  },
  {
   "cell_type": "code",
   "execution_count": 1,
   "id": "f8e89cd6-89b5-456e-bf63-751c7a3d473f",
   "metadata": {},
   "outputs": [],
   "source": [
    "import numpy as np\n",
    "import xarray as xr\n",
    "import xmitgcm.llcreader as llcreader\n",
    "%matplotlib inline\n",
    "import matplotlib.pyplot as plt\n",
    "import warnings\n",
    "import pandas as pd\n",
    "warnings.filterwarnings('ignore')"
   ]
  },
  {
   "cell_type": "code",
   "execution_count": 2,
   "id": "5c206057-b86a-4b1b-a27b-93f702f92ed0",
   "metadata": {},
   "outputs": [],
   "source": [
    "model = llcreader.ECCOPortalLLC2160Model()\n",
    "ds = model.get_dataset(varnames=['Theta'], type='latlon')\n",
    "down_lat = 19.71361\n",
    "down_lon = -67.00\n",
    "down_ilat = abs(ds.YC[:,0] - down_lat).argmin()\n",
    "down_ilon = abs(ds.XC[0,:] - down_lon).argmin()\n",
    "up_lat =  19.71361\n",
    "up_lon = -68.00\n",
    "up_ilat = abs(ds.YC[:,0] - up_lat).argmin()\n",
    "up_ilon = abs(ds.XC[0,:] - up_lon).argmin()\n",
    "\n",
    "down_ilat, down_ilon = down_ilat.load(),down_ilon.load()\n",
    "up_ilat, up_ilon = up_ilat.load(),up_ilon.load()\n",
    "subset2 = ds.isel(time=-1,j=slice(down_ilat.data-2,down_ilat.data+2),i=slice(down_ilon.data-2,down_ilat.data+2))\n",
    "array2 = xr.DataArray(subset2.Theta.data,dims=['depth','lat','lon'],coords={'depth':subset2.Z.data,'lat':subset2.YC[:,0].data,'lon':subset2.XC[0,:].data})"
   ]
  },
  {
   "cell_type": "code",
   "execution_count": 3,
   "id": "3990f0f5-5e3e-48ce-8e1e-c8272d0f1567",
   "metadata": {},
   "outputs": [],
   "source": [
    "start_dive = 0\n",
    "windmix_dive = 47\n",
    "stop_dive = 82\n",
    "\n",
    "down_data = array2.sel(lat=down_lat,lon=down_lon,method='nearest') #Milwaukee Trench\n",
    "\n",
    "down_data[\"depth\"] = down_data[\"depth\"].astype(np.float32) #convert depth to float32\n",
    "up_data = array2.sel(lat=up_lat,lon=up_lon,method='nearest')\n",
    "up_data[\"depth\"] = up_data[\"depth\"].astype(np.float32) #convert depth to float32\n",
    "\n",
    "#here we scale the data to the required number of steps\n",
    "tem = down_data[start_dive:windmix_dive]\n",
    "depth_new=np.linspace(tem.depth[0].data,tem.depth[-1].data,1800)\n",
    "windmix_data2 = tem.interp(depth=depth_new)\n",
    "\n",
    "#here we scale the data to the required number of steps\n",
    "tem = down_data[windmix_dive-1:stop_dive]\n",
    "depth_new=np.linspace(tem.depth[0].data,tem.depth[-1].data,1800)\n",
    "down_data2 = tem.interp(depth=depth_new)\n",
    "down_lowest = down_data2[-1].data #save lowest value\n",
    "\n",
    "tem = up_data[stop_dive-1:stop_dive]\n",
    "depth_new=np.linspace(tem.depth[0].data,tem.depth[-1].data,101)\n",
    "chill_data2 = tem.interp(depth=depth_new)\n",
    "\n",
    "tem = up_data[start_dive:stop_dive]\n",
    "depth_new=np.linspace(tem.depth[0].data,tem.depth[-1].data,1699)\n",
    "up_data2 = tem.interp(depth=depth_new)\n",
    "up_lowest = up_data2[-1].data #save lowest value"
   ]
  },
  {
   "cell_type": "code",
   "execution_count": 4,
   "id": "28999e32-bc94-4e7a-846f-c1a74f16b845",
   "metadata": {},
   "outputs": [
    {
     "data": {
      "text/plain": [
       "(1800, 2)"
      ]
     },
     "execution_count": 4,
     "metadata": {},
     "output_type": "execute_result"
    }
   ],
   "source": [
    "windmix_df = pd.DataFrame({'depth': windmix_data2.depth, 'temperature': windmix_data2})\n",
    "windmix_df.shape"
   ]
  },
  {
   "cell_type": "code",
   "execution_count": 5,
   "id": "b7942812-5f54-456c-b57e-fe8381cbe3b6",
   "metadata": {},
   "outputs": [
    {
     "data": {
      "text/plain": [
       "(1800, 2)"
      ]
     },
     "execution_count": 5,
     "metadata": {},
     "output_type": "execute_result"
    }
   ],
   "source": [
    "down_df = pd.DataFrame({'depth': down_data2.depth, 'temperature': down_data2})#down_data2\n",
    "down_df.shape"
   ]
  },
  {
   "cell_type": "code",
   "execution_count": 6,
   "id": "ecbb2e3e-0747-49c2-9c25-0b08aaa7ab33",
   "metadata": {},
   "outputs": [
    {
     "data": {
      "text/plain": [
       "(101, 2)"
      ]
     },
     "execution_count": 6,
     "metadata": {},
     "output_type": "execute_result"
    }
   ],
   "source": [
    "chill_df = pd.DataFrame({'depth': chill_data2.depth, 'temperature': chill_data2})\n",
    "chill_df.shape"
   ]
  },
  {
   "cell_type": "code",
   "execution_count": 7,
   "id": "d1d886cd-fce6-45bb-8da2-f71da833df37",
   "metadata": {},
   "outputs": [
    {
     "data": {
      "text/plain": [
       "(1699, 2)"
      ]
     },
     "execution_count": 7,
     "metadata": {},
     "output_type": "execute_result"
    }
   ],
   "source": [
    "up_df = pd.DataFrame({'depth': up_data2.depth, 'temperature': up_data2})\n",
    "#reverse up data\n",
    "reversed_up_df = up_df.iloc[::-1].reset_index(drop=True)\n",
    "reversed_up_df.shape"
   ]
  },
  {
   "cell_type": "code",
   "execution_count": 8,
   "id": "8e00f533-5f9e-4e80-a32f-9b3f7516c9b3",
   "metadata": {},
   "outputs": [],
   "source": [
    "#concatenate\n",
    "temperature_df = pd.concat([windmix_df, down_df, chill_df, reversed_up_df], ignore_index=True)"
   ]
  },
  {
   "cell_type": "code",
   "execution_count": 9,
   "id": "c11f3299-beea-4283-9270-e408ddd9f93d",
   "metadata": {},
   "outputs": [
    {
     "data": {
      "text/plain": [
       "Text(0, 0.5, 'depth')"
      ]
     },
     "execution_count": 9,
     "metadata": {},
     "output_type": "execute_result"
    },
    {
     "data": {
      "image/png": "[encoded data removed]",
      "text/plain": [
       "<Figure size 500x300 with 1 Axes>"
      ]
     },
     "metadata": {},
     "output_type": "display_data"
    }
   ],
   "source": [
    "plt.figure(figsize=(5, 3))\n",
    "plt.plot(temperature_df.index,temperature_df.depth)\n",
    "plt.xlabel('Timestep')\n",
    "plt.ylabel('depth')"
   ]
  },
  {
   "cell_type": "code",
   "execution_count": 10,
   "id": "5bedb8d0-a17a-4f68-b982-69c9b9f9fc8e",
   "metadata": {},
   "outputs": [],
   "source": [
    "temperature_df.to_csv(\"../data/trench_dive_temperature.csv\", index=True)"
   ]
  },
  {
   "cell_type": "markdown",
   "id": "251320ec-d27f-4359-ae53-1627c77b962a",
   "metadata": {},
   "source": [
    "# now do velocities\n",
    "- restart your kernel"
   ]
  },
  {
   "cell_type": "code",
   "execution_count": 1,
   "id": "ed8ec974-cc20-4b8a-9eea-f9c32ebfe8bf",
   "metadata": {},
   "outputs": [],
   "source": [
    "import numpy as np\n",
    "import xarray as xr\n",
    "import xmitgcm.llcreader as llcreader\n",
    "%matplotlib inline\n",
    "import matplotlib.pyplot as plt\n",
    "import warnings\n",
    "import pandas as pd\n",
    "warnings.filterwarnings('ignore')"
   ]
  },
  {
   "cell_type": "code",
   "execution_count": 2,
   "id": "4aa4b294-ece3-4315-bab1-32ac23d532fa",
   "metadata": {},
   "outputs": [],
   "source": [
    "model = llcreader.ECCOPortalLLC2160Model()\n",
    "ds = model.get_dataset(varnames=['U', 'V'], type='latlon')\n",
    "\n",
    "# Define down and up coordinates\n",
    "down_lat = 19.71361\n",
    "down_lon = -67.00\n",
    "down_ilat = abs(ds.YC[:, 0] - down_lat).argmin()\n",
    "down_ilon = abs(ds.XC[0, :] - down_lon).argmin()\n",
    "\n",
    "up_lat = 19.71361\n",
    "up_lon = -68.00\n",
    "up_ilat = abs(ds.YC[:, 0] - up_lat).argmin()\n",
    "up_ilon = abs(ds.XC[0, :] - up_lon).argmin()\n",
    "\n",
    "# Load the index values\n",
    "down_ilat, down_ilon = down_ilat.load(), down_ilon.load()\n",
    "up_ilat, up_ilon = up_ilat.load(), up_ilon.load()\n",
    "\n",
    "# Correct the subset to ensure the slices are correctly applied\n",
    "subset2 = ds.isel(\n",
    "    time=-1,\n",
    "    j=slice(down_ilat.data - 2, down_ilat.data + 2),\n",
    "    i=slice(down_ilon.data - 2, down_ilon.data + 2),\n",
    "    j_g=slice(down_ilat.data - 2, down_ilat.data + 2),\n",
    "    i_g=slice(down_ilon.data - 2, down_ilon.data + 2),\n",
    "    k=slice(0, 82)\n",
    ")\n",
    "\n",
    "# Use the correct coordinate lengths from subset2 for U\n",
    "array2 = xr.DataArray(\n",
    "    subset2.U.data,\n",
    "    dims=['depth', 'lat', 'lon'],\n",
    "    coords={\n",
    "        'depth': subset2.Z.data,\n",
    "        'lat': subset2.YC.data[:, 0],  # Ensure it uses the correct slice\n",
    "        'lon': subset2.XC.data[0, :]   # Ensure it uses the correct slice\n",
    "    }\n",
    ")"
   ]
  },
  {
   "cell_type": "code",
   "execution_count": 3,
   "id": "cf88da3d-d827-4eda-9ffb-a2922956d1c1",
   "metadata": {},
   "outputs": [],
   "source": [
    "start_dive = 0\n",
    "windmix_dive = 47\n",
    "stop_dive = 82\n",
    "\n",
    "down_data = array2.sel(lat=down_lat,lon=down_lon,method='nearest') #Milwaukee Trench\n",
    "\n",
    "down_data[\"depth\"] = down_data[\"depth\"].astype(np.float32) #convert depth to float32\n",
    "up_data = array2.sel(lat=up_lat,lon=up_lon,method='nearest')\n",
    "up_data[\"depth\"] = up_data[\"depth\"].astype(np.float32) #convert depth to float32\n",
    "\n",
    "#here we scale the data to the required number of steps\n",
    "tem = down_data[start_dive:windmix_dive]\n",
    "depth_new=np.linspace(tem.depth[0].data,tem.depth[-1].data,1800)\n",
    "windmix_data2 = tem.interp(depth=depth_new)\n",
    "\n",
    "#here we scale the data to the required number of steps\n",
    "tem = down_data[windmix_dive-1:stop_dive]\n",
    "depth_new=np.linspace(tem.depth[0].data,tem.depth[-1].data,1800)\n",
    "down_data2 = tem.interp(depth=depth_new)\n",
    "down_lowest = down_data2[-1].data #save lowest value\n",
    "\n",
    "tem = up_data[stop_dive-1:stop_dive]\n",
    "depth_new=np.linspace(tem.depth[0].data,tem.depth[-1].data,101)\n",
    "chill_data2 = tem.interp(depth=depth_new)\n",
    "\n",
    "tem = up_data[start_dive:stop_dive]\n",
    "depth_new=np.linspace(tem.depth[0].data,tem.depth[-1].data,1699)\n",
    "up_data2 = tem.interp(depth=depth_new)\n",
    "up_lowest = up_data2[-1].data #save lowest value"
   ]
  },
  {
   "cell_type": "code",
   "execution_count": 9,
   "id": "c07aff7d-0e57-47dd-a22a-53bd3ae18c99",
   "metadata": {},
   "outputs": [
    {
     "data": {
      "text/plain": [
       "(1800, 2)"
      ]
     },
     "execution_count": 9,
     "metadata": {},
     "output_type": "execute_result"
    }
   ],
   "source": [
    "windmix_df = pd.DataFrame({'depth': windmix_data2.depth, 'U': windmix_data2})\n",
    "windmix_df.shape"
   ]
  },
  {
   "cell_type": "code",
   "execution_count": 10,
   "id": "a9508249-e13c-4615-abaa-5d906c06a5a9",
   "metadata": {},
   "outputs": [
    {
     "data": {
      "text/plain": [
       "(1800, 2)"
      ]
     },
     "execution_count": 10,
     "metadata": {},
     "output_type": "execute_result"
    }
   ],
   "source": [
    "down_df = pd.DataFrame({'depth': down_data2.depth, 'U': down_data2})#down_data2\n",
    "down_df.shape"
   ]
  },
  {
   "cell_type": "code",
   "execution_count": 11,
   "id": "aa3b7fb4-4def-4677-ba3d-a59d62066dab",
   "metadata": {},
   "outputs": [
    {
     "data": {
      "text/plain": [
       "(101, 2)"
      ]
     },
     "execution_count": 11,
     "metadata": {},
     "output_type": "execute_result"
    }
   ],
   "source": [
    "chill_df = pd.DataFrame({'depth': chill_data2.depth, 'U': chill_data2})\n",
    "chill_df.shape"
   ]
  },
  {
   "cell_type": "code",
   "execution_count": 12,
   "id": "3624971a-6a59-41c2-8f91-0400a3a62cea",
   "metadata": {},
   "outputs": [
    {
     "data": {
      "text/plain": [
       "(1699, 2)"
      ]
     },
     "execution_count": 12,
     "metadata": {},
     "output_type": "execute_result"
    }
   ],
   "source": [
    "up_df = pd.DataFrame({'depth': up_data2.depth, 'U': up_data2})\n",
    "#reverse up data\n",
    "reversed_up_df = up_df.iloc[::-1].reset_index(drop=True)\n",
    "reversed_up_df.shape"
   ]
  },
  {
   "cell_type": "code",
   "execution_count": 13,
   "id": "92e02d67-a32f-4076-9f12-ec5ff4cb52fb",
   "metadata": {},
   "outputs": [],
   "source": [
    "#concatenate\n",
    "U_df = pd.concat([windmix_df, down_df, chill_df, reversed_up_df], ignore_index=True)"
   ]
  },
  {
   "cell_type": "code",
   "execution_count": 15,
   "id": "1e19aefd-5092-4ca8-b434-c87aa50f4adb",
   "metadata": {},
   "outputs": [
    {
     "data": {
      "text/plain": [
       "Text(0, 0.5, 'depth')"
      ]
     },
     "execution_count": 15,
     "metadata": {},
     "output_type": "execute_result"
    },
    {
     "data": {
      "image/png": "[encoded data removed]",
      "text/plain": [
       "<Figure size 500x300 with 1 Axes>"
      ]
     },
     "metadata": {},
     "output_type": "display_data"
    }
   ],
   "source": [
    "plt.figure(figsize=(5, 3))\n",
    "plt.plot(U_df.index,U_df[\"U\"])\n",
    "plt.xlabel('Timestep')\n",
    "plt.ylabel('depth')"
   ]
  },
  {
   "cell_type": "code",
   "execution_count": 16,
   "id": "41fa4d96-6c55-4ca6-98f3-24b406b98ffa",
   "metadata": {},
   "outputs": [],
   "source": [
    "U_df.to_csv(\"../data/trench_dive_current_U.csv\", index=True)"
   ]
  },
  {
   "cell_type": "code",
   "execution_count": 17,
   "id": "9d5610cc-a520-4fc6-b869-cffa2b680472",
   "metadata": {},
   "outputs": [],
   "source": [
    "#now V\n",
    "# Use the correct coordinate lengths from subset2\n",
    "array2 = xr.DataArray(\n",
    "    subset2.V.data,\n",
    "    dims=['depth', 'lat', 'lon'],\n",
    "    coords={\n",
    "        'depth': subset2.Z.data,\n",
    "        'lat': subset2.YC.data[:, 0],  # Ensure it uses the correct slice\n",
    "        'lon': subset2.XC.data[0, :]   # Ensure it uses the correct slice\n",
    "    }\n",
    ")"
   ]
  },
  {
   "cell_type": "code",
   "execution_count": 3,
   "id": "a9175145-8dca-4dd4-9bea-5a3789de2094",
   "metadata": {},
   "outputs": [],
   "source": [
    "start_dive = 0\n",
    "windmix_dive = 47\n",
    "stop_dive = 82\n",
    "\n",
    "down_data = array2.sel(lat=down_lat,lon=down_lon,method='nearest') #Milwaukee Trench\n",
    "\n",
    "down_data[\"depth\"] = down_data[\"depth\"].astype(np.float32) #convert depth to float32\n",
    "up_data = array2.sel(lat=up_lat,lon=up_lon,method='nearest')\n",
    "up_data[\"depth\"] = up_data[\"depth\"].astype(np.float32) #convert depth to float32\n",
    "\n",
    "#here we scale the data to the required number of steps\n",
    "tem = down_data[start_dive:windmix_dive]\n",
    "depth_new=np.linspace(tem.depth[0].data,tem.depth[-1].data,1800)\n",
    "windmix_data2 = tem.interp(depth=depth_new)\n",
    "\n",
    "#here we scale the data to the required number of steps\n",
    "tem = down_data[windmix_dive-1:stop_dive]\n",
    "depth_new=np.linspace(tem.depth[0].data,tem.depth[-1].data,1800)\n",
    "down_data2 = tem.interp(depth=depth_new)\n",
    "down_lowest = down_data2[-1].data #save lowest value\n",
    "\n",
    "tem = up_data[stop_dive-1:stop_dive]\n",
    "depth_new=np.linspace(tem.depth[0].data,tem.depth[-1].data,101)\n",
    "chill_data2 = tem.interp(depth=depth_new)\n",
    "\n",
    "tem = up_data[start_dive:stop_dive]\n",
    "depth_new=np.linspace(tem.depth[0].data,tem.depth[-1].data,1699)\n",
    "up_data2 = tem.interp(depth=depth_new)\n",
    "up_lowest = up_data2[-1].data #save lowest value"
   ]
  },
  {
   "cell_type": "code",
   "execution_count": 18,
   "id": "03960096-95cf-47c1-8354-ec8c5cd57051",
   "metadata": {},
   "outputs": [
    {
     "data": {
      "text/plain": [
       "(1800, 2)"
      ]
     },
     "execution_count": 18,
     "metadata": {},
     "output_type": "execute_result"
    }
   ],
   "source": [
    "windmix_df = pd.DataFrame({'depth': windmix_data2.depth, 'V': windmix_data2})\n",
    "windmix_df.shape"
   ]
  },
  {
   "cell_type": "code",
   "execution_count": 19,
   "id": "d4919d4d-b4f6-4bf5-b3b8-37e8df61af16",
   "metadata": {},
   "outputs": [
    {
     "data": {
      "text/plain": [
       "(1800, 2)"
      ]
     },
     "execution_count": 19,
     "metadata": {},
     "output_type": "execute_result"
    }
   ],
   "source": [
    "down_df = pd.DataFrame({'depth': down_data2.depth, 'V': down_data2})#down_data2\n",
    "down_df.shape"
   ]
  },
  {
   "cell_type": "code",
   "execution_count": 20,
   "id": "19a842f3-3afe-465c-bbab-d4c7b407ab24",
   "metadata": {},
   "outputs": [
    {
     "data": {
      "text/plain": [
       "(101, 2)"
      ]
     },
     "execution_count": 20,
     "metadata": {},
     "output_type": "execute_result"
    }
   ],
   "source": [
    "chill_df = pd.DataFrame({'depth': chill_data2.depth, 'V': chill_data2})\n",
    "chill_df.shape"
   ]
  },
  {
   "cell_type": "code",
   "execution_count": 21,
   "id": "60b3c973-4cef-4fb3-9e1c-c58b81157d89",
   "metadata": {},
   "outputs": [
    {
     "data": {
      "text/plain": [
       "(1699, 2)"
      ]
     },
     "execution_count": 21,
     "metadata": {},
     "output_type": "execute_result"
    }
   ],
   "source": [
    "up_df = pd.DataFrame({'depth': up_data2.depth, 'V': up_data2})\n",
    "#reverse up data\n",
    "reversed_up_df = up_df.iloc[::-1].reset_index(drop=True)\n",
    "reversed_up_df.shape"
   ]
  },
  {
   "cell_type": "code",
   "execution_count": 22,
   "id": "72cae8ae-2466-470a-bb17-03d3acea4063",
   "metadata": {},
   "outputs": [],
   "source": [
    "#concatenate\n",
    "V_df = pd.concat([windmix_df, down_df, chill_df, reversed_up_df], ignore_index=True)"
   ]
  },
  {
   "cell_type": "code",
   "execution_count": 23,
   "id": "5e973832-65c4-45f2-b000-d59e5a91904e",
   "metadata": {},
   "outputs": [
    {
     "data": {
      "text/plain": [
       "Text(0, 0.5, 'depth')"
      ]
     },
     "execution_count": 23,
     "metadata": {},
     "output_type": "execute_result"
    },
    {
     "data": {
      "image/png": "[encoded data removed]",
      "text/plain": [
       "<Figure size 500x300 with 1 Axes>"
      ]
     },
     "metadata": {},
     "output_type": "display_data"
    }
   ],
   "source": [
    "plt.figure(figsize=(5, 3))\n",
    "plt.plot(V_df.index,V_df[\"V\"])\n",
    "plt.xlabel('Timestep')\n",
    "plt.ylabel('depth')"
   ]
  },
  {
   "cell_type": "code",
   "execution_count": 15,
   "id": "2f7abb63-af85-482e-b436-9a2ade544eff",
   "metadata": {},
   "outputs": [],
   "source": [
    "V_df.to_csv(\"../data/trench_dive_current_V.csv\")"
   ]
  },
  {
   "cell_type": "markdown",
   "id": "cc4efd91-bb7c-46d0-933e-ce7750648406",
   "metadata": {},
   "source": [
    "# now do W?"
   ]
  },
  {
   "cell_type": "code",
   "execution_count": 1,
   "id": "aacd4567-c117-46a0-9d2b-59651eaf793d",
   "metadata": {},
   "outputs": [],
   "source": [
    "import numpy as np\n",
    "import xarray as xr\n",
    "import xmitgcm.llcreader as llcreader\n",
    "%matplotlib inline\n",
    "import matplotlib.pyplot as plt\n",
    "import warnings\n",
    "import pandas as pd\n",
    "warnings.filterwarnings('ignore')"
   ]
  },
  {
   "cell_type": "code",
   "execution_count": 2,
   "id": "adca52f1-b6a1-4b20-a5cd-bfa9bfadcbf4",
   "metadata": {},
   "outputs": [],
   "source": [
    "model = llcreader.ECCOPortalLLC2160Model()\n",
    "ds = model.get_dataset(varnames=['W'], type='latlon')\n",
    "\n",
    "# Define down and up coordinates\n",
    "down_lat = 19.71361\n",
    "down_lon = -67.00\n",
    "down_ilat = abs(ds.YC[:, 0] - down_lat).argmin()\n",
    "down_ilon = abs(ds.XC[0, :] - down_lon).argmin()\n",
    "\n",
    "up_lat = 19.71361\n",
    "up_lon = -68.00\n",
    "up_ilat = abs(ds.YC[:, 0] - up_lat).argmin()\n",
    "up_ilon = abs(ds.XC[0, :] - up_lon).argmin()\n",
    "\n",
    "# Load the index values\n",
    "down_ilat, down_ilon = down_ilat.load(), down_ilon.load()\n",
    "up_ilat, up_ilon = up_ilat.load(), up_ilon.load()\n",
    "\n",
    "# Correct the subset to ensure the slices are correctly applied\n",
    "#ds.isel(time=-1,j=slice(4645,4655),j_g=slice(4645,4655),i=slice(7640,7650),i_g=slice(7640,7650),k=slice(0,50),k_u=slice(0,50),k_l=slice(0,50),k_p1=slice(0,50))\n",
    "subset2 = ds.isel(\n",
    "    time=-1,\n",
    "    j=slice(down_ilat.data - 2, down_ilat.data + 2),\n",
    "    i=slice(down_ilon.data - 2, down_ilon.data + 2),\n",
    "    j_g=slice(down_ilat.data - 2, down_ilat.data + 2),\n",
    "    i_g=slice(down_ilon.data - 2, down_ilon.data + 2),\n",
    "    k=slice(0, 82),\n",
    "    k_u=slice(0,82),\n",
    "    k_l=slice(0,82),\n",
    "    k_p1=slice(0,82)\n",
    ")"
   ]
  },
  {
   "cell_type": "code",
   "execution_count": 4,
   "id": "1b8925e1-f861-47e2-8427-0b9fab753200",
   "metadata": {},
   "outputs": [],
   "source": [
    "# Use the correct coordinate lengths from subset2\n",
    "array2 = xr.DataArray(\n",
    "    subset2.W.data,\n",
    "    dims=['depth', 'lat', 'lon'],\n",
    "    coords={\n",
    "        'depth': subset2.Z.data,\n",
    "        'lat': subset2.YC.data[:, 0],  # Ensure it uses the correct slice\n",
    "        'lon': subset2.XC.data[0, :]   # Ensure it uses the correct slice\n",
    "    }\n",
    ")"
   ]
  },
  {
   "cell_type": "code",
   "execution_count": 6,
   "id": "5e13d3d4-270c-404c-bcde-a9d401b95925",
   "metadata": {},
   "outputs": [],
   "source": [
    "start_dive = 0\n",
    "windmix_dive = 47\n",
    "stop_dive = 82\n",
    "\n",
    "down_data = array2.sel(lat=down_lat,lon=down_lon,method='nearest') #Milwaukee Trench\n",
    "\n",
    "down_data[\"depth\"] = down_data[\"depth\"].astype(np.float32) #convert depth to float32\n",
    "up_data = array2.sel(lat=up_lat,lon=up_lon,method='nearest')\n",
    "up_data[\"depth\"] = up_data[\"depth\"].astype(np.float32) #convert depth to float32\n",
    "\n",
    "#here we scale the data to the required number of steps\n",
    "tem = down_data[start_dive:windmix_dive]\n",
    "depth_new=np.linspace(tem.depth[0].data,tem.depth[-1].data,1800)\n",
    "windmix_data2 = tem.interp(depth=depth_new)\n",
    "\n",
    "#here we scale the data to the required number of steps\n",
    "tem = down_data[windmix_dive-1:stop_dive]\n",
    "depth_new=np.linspace(tem.depth[0].data,tem.depth[-1].data,1800)\n",
    "down_data2 = tem.interp(depth=depth_new)\n",
    "down_lowest = down_data2[-1].data #save lowest value\n",
    "\n",
    "tem = up_data[stop_dive-1:stop_dive]\n",
    "depth_new=np.linspace(tem.depth[0].data,tem.depth[-1].data,101)\n",
    "chill_data2 = tem.interp(depth=depth_new)\n",
    "\n",
    "tem = up_data[start_dive:stop_dive]\n",
    "depth_new=np.linspace(tem.depth[0].data,tem.depth[-1].data,1699)\n",
    "up_data2 = tem.interp(depth=depth_new)\n",
    "up_lowest = up_data2[-1].data #save lowest value"
   ]
  },
  {
   "cell_type": "code",
   "execution_count": 7,
   "id": "8578cecf-1913-4776-8f83-65cf1a9ad0af",
   "metadata": {},
   "outputs": [
    {
     "data": {
      "text/plain": [
       "(1800, 2)"
      ]
     },
     "execution_count": 7,
     "metadata": {},
     "output_type": "execute_result"
    }
   ],
   "source": [
    "windmix_df = pd.DataFrame({'depth': windmix_data2.depth, 'W': windmix_data2})\n",
    "windmix_df.shape"
   ]
  },
  {
   "cell_type": "code",
   "execution_count": 15,
   "id": "7f49497e-0910-49a4-8511-d7c07f72b323",
   "metadata": {},
   "outputs": [
    {
     "data": {
      "text/plain": [
       "(1800, 2)"
      ]
     },
     "execution_count": 15,
     "metadata": {},
     "output_type": "execute_result"
    }
   ],
   "source": [
    "down_df = pd.DataFrame({'depth': down_data2.depth, 'W': down_data2})#down_data2\n",
    "down_df.shape"
   ]
  },
  {
   "cell_type": "code",
   "execution_count": 18,
   "id": "32edbbea-2133-4fa2-a8ce-c0e8ddcce055",
   "metadata": {},
   "outputs": [
    {
     "data": {
      "text/html": [
       "<div>\n",
       "<style scoped>\n",
       "    .dataframe tbody tr th:only-of-type {\n",
       "        vertical-align: middle;\n",
       "    }\n",
       "\n",
       "    .dataframe tbody tr th {\n",
       "        vertical-align: top;\n",
       "    }\n",
       "\n",
       "    .dataframe thead th {\n",
       "        text-align: right;\n",
       "    }\n",
       "</style>\n",
       "<table border=\"1\" class=\"dataframe\">\n",
       "  <thead>\n",
       "    <tr style=\"text-align: right;\">\n",
       "      <th></th>\n",
       "      <th>depth</th>\n",
       "      <th>W</th>\n",
       "    </tr>\n",
       "  </thead>\n",
       "  <tbody>\n",
       "    <tr>\n",
       "      <th>0</th>\n",
       "      <td>-770.585022</td>\n",
       "      <td>-0.004163</td>\n",
       "    </tr>\n",
       "    <tr>\n",
       "      <th>1</th>\n",
       "      <td>-772.390758</td>\n",
       "      <td>-0.004154</td>\n",
       "    </tr>\n",
       "    <tr>\n",
       "      <th>2</th>\n",
       "      <td>-774.196495</td>\n",
       "      <td>-0.004144</td>\n",
       "    </tr>\n",
       "    <tr>\n",
       "      <th>3</th>\n",
       "      <td>-776.002231</td>\n",
       "      <td>-0.004134</td>\n",
       "    </tr>\n",
       "    <tr>\n",
       "      <th>4</th>\n",
       "      <td>-777.807968</td>\n",
       "      <td>-0.004124</td>\n",
       "    </tr>\n",
       "  </tbody>\n",
       "</table>\n",
       "</div>"
      ],
      "text/plain": [
       "        depth         W\n",
       "0 -770.585022 -0.004163\n",
       "1 -772.390758 -0.004154\n",
       "2 -774.196495 -0.004144\n",
       "3 -776.002231 -0.004134\n",
       "4 -777.807968 -0.004124"
      ]
     },
     "execution_count": 18,
     "metadata": {},
     "output_type": "execute_result"
    }
   ],
   "source": [
    "down_df.head()"
   ]
  },
  {
   "cell_type": "code",
   "execution_count": 9,
   "id": "03b09119-73a2-4dae-a060-d945b18826dc",
   "metadata": {},
   "outputs": [
    {
     "data": {
      "text/plain": [
       "(101, 2)"
      ]
     },
     "execution_count": 9,
     "metadata": {},
     "output_type": "execute_result"
    }
   ],
   "source": [
    "chill_df = pd.DataFrame({'depth': chill_data2.depth, 'W': chill_data2})\n",
    "chill_df.shape"
   ]
  },
  {
   "cell_type": "code",
   "execution_count": 21,
   "id": "3343cd82-4125-4062-81a9-ba7b3c6b35de",
   "metadata": {},
   "outputs": [
    {
     "data": {
      "text/html": [
       "<div>\n",
       "<style scoped>\n",
       "    .dataframe tbody tr th:only-of-type {\n",
       "        vertical-align: middle;\n",
       "    }\n",
       "\n",
       "    .dataframe tbody tr th {\n",
       "        vertical-align: top;\n",
       "    }\n",
       "\n",
       "    .dataframe thead th {\n",
       "        text-align: right;\n",
       "    }\n",
       "</style>\n",
       "<table border=\"1\" class=\"dataframe\">\n",
       "  <thead>\n",
       "    <tr style=\"text-align: right;\">\n",
       "      <th></th>\n",
       "      <th>depth</th>\n",
       "      <th>W</th>\n",
       "    </tr>\n",
       "  </thead>\n",
       "  <tbody>\n",
       "    <tr>\n",
       "      <th>0</th>\n",
       "      <td>-4019.10498</td>\n",
       "      <td>NaN</td>\n",
       "    </tr>\n",
       "    <tr>\n",
       "      <th>1</th>\n",
       "      <td>-4019.10498</td>\n",
       "      <td>NaN</td>\n",
       "    </tr>\n",
       "    <tr>\n",
       "      <th>2</th>\n",
       "      <td>-4019.10498</td>\n",
       "      <td>NaN</td>\n",
       "    </tr>\n",
       "    <tr>\n",
       "      <th>3</th>\n",
       "      <td>-4019.10498</td>\n",
       "      <td>NaN</td>\n",
       "    </tr>\n",
       "    <tr>\n",
       "      <th>4</th>\n",
       "      <td>-4019.10498</td>\n",
       "      <td>NaN</td>\n",
       "    </tr>\n",
       "  </tbody>\n",
       "</table>\n",
       "</div>"
      ],
      "text/plain": [
       "        depth   W\n",
       "0 -4019.10498 NaN\n",
       "1 -4019.10498 NaN\n",
       "2 -4019.10498 NaN\n",
       "3 -4019.10498 NaN\n",
       "4 -4019.10498 NaN"
      ]
     },
     "execution_count": 21,
     "metadata": {},
     "output_type": "execute_result"
    }
   ],
   "source": [
    "chill_df.head()"
   ]
  },
  {
   "cell_type": "code",
   "execution_count": 10,
   "id": "b242d5ab-281a-460a-8453-3dde08291a50",
   "metadata": {},
   "outputs": [
    {
     "data": {
      "text/plain": [
       "(1699, 2)"
      ]
     },
     "execution_count": 10,
     "metadata": {},
     "output_type": "execute_result"
    }
   ],
   "source": [
    "up_df = pd.DataFrame({'depth': up_data2.depth, 'W': up_data2})\n",
    "#reverse up data\n",
    "reversed_up_df = up_df.iloc[::-1].reset_index(drop=True)\n",
    "reversed_up_df.shape"
   ]
  },
  {
   "cell_type": "code",
   "execution_count": 28,
   "id": "cf489829-0d3b-4c1a-80aa-0bbb5d703cde",
   "metadata": {},
   "outputs": [],
   "source": [
    "#concatenate\n",
    "W_df = pd.concat([windmix_df, down_df, chill_df, reversed_up_df], ignore_index=True)\n",
    "#remove NaN\n",
    "W_df_filled = W_df.fillna(method='ffill')"
   ]
  },
  {
   "cell_type": "code",
   "execution_count": 29,
   "id": "1a8c0550-9d99-4788-b6b9-ba13eb938692",
   "metadata": {},
   "outputs": [
    {
     "data": {
      "text/plain": [
       "Text(0, 0.5, 'depth')"
      ]
     },
     "execution_count": 29,
     "metadata": {},
     "output_type": "execute_result"
    },
    {
     "data": {
      "image/png": "[encoded data removed]",
      "text/plain": [
       "<Figure size 500x300 with 1 Axes>"
      ]
     },
     "metadata": {},
     "output_type": "display_data"
    }
   ],
   "source": [
    "plt.figure(figsize=(5, 3))\n",
    "plt.plot(W_df_filled.index,W_df_filled[\"W\"])\n",
    "plt.xlabel('Timestep')\n",
    "plt.ylabel('depth')"
   ]
  },
  {
   "cell_type": "code",
   "execution_count": 30,
   "id": "ad307c51-3d1e-4259-a152-9bf012fc525b",
   "metadata": {},
   "outputs": [],
   "source": [
    "W_df_filled.to_csv(\"../data/trench_dive_current_W.csv\")"
   ]
  },
  {
   "cell_type": "markdown",
   "id": "721ada18-3d1d-478d-8261-38c6c249751a",
   "metadata": {},
   "source": [
    "# Pressure"
   ]
  },
  {
   "cell_type": "code",
   "execution_count": 3,
   "id": "d0e34c6e-a32b-4fc4-894f-d3f991c55090",
   "metadata": {},
   "outputs": [],
   "source": [
    "import numpy as np\n",
    "import xarray as xr\n",
    "import xmitgcm.llcreader as llcreader\n",
    "%matplotlib inline\n",
    "import matplotlib.pyplot as plt\n",
    "import warnings\n",
    "import pandas as pd\n",
    "warnings.filterwarnings('ignore')"
   ]
  },
  {
   "cell_type": "code",
   "execution_count": 4,
   "id": "bd739dc8-2f72-4d1f-8cd0-146976a8f874",
   "metadata": {},
   "outputs": [],
   "source": [
    "model = llcreader.ECCOPortalLLC2160Model()\n",
    "ds = model.get_dataset(varnames=['PH'], type='latlon')\n",
    "\n",
    "# Define down and up coordinates\n",
    "down_lat = 19.71361\n",
    "down_lon = -67.00\n",
    "down_ilat = abs(ds.YC[:, 0] - down_lat).argmin()\n",
    "down_ilon = abs(ds.XC[0, :] - down_lon).argmin()\n",
    "\n",
    "up_lat = 19.71361\n",
    "up_lon = -68.00\n",
    "up_ilat = abs(ds.YC[:, 0] - up_lat).argmin()\n",
    "up_ilon = abs(ds.XC[0, :] - up_lon).argmin()\n",
    "\n",
    "# Load the index values\n",
    "down_ilat, down_ilon = down_ilat.load(), down_ilon.load()\n",
    "up_ilat, up_ilon = up_ilat.load(), up_ilon.load()\n",
    "\n",
    "# Correct the subset to ensure the slices are correctly applied\n",
    "#ds.isel(time=-1,j=slice(4645,4655),j_g=slice(4645,4655),i=slice(7640,7650),i_g=slice(7640,7650),k=slice(0,50),k_u=slice(0,50),k_l=slice(0,50),k_p1=slice(0,50))\n",
    "\n",
    "\n",
    "subset2 = ds.isel(\n",
    "    time=-1,\n",
    "    j=slice(down_ilat.data - 2, down_ilat.data + 2),\n",
    "    i=slice(down_ilon.data - 2, down_ilon.data + 2),\n",
    "    j_g=slice(down_ilat.data - 2, down_ilat.data + 2),\n",
    "    i_g=slice(down_ilon.data - 2, down_ilon.data + 2),\n",
    "    k=slice(0, 82),\n",
    "    k_u=slice(0,82),\n",
    "    k_l=slice(0,82),\n",
    "    k_p1=slice(0,82)\n",
    ")"
   ]
  },
  {
   "cell_type": "code",
   "execution_count": 5,
   "id": "00531c35-442e-45df-bdf9-dfb9c9db276c",
   "metadata": {},
   "outputs": [],
   "source": [
    "# Use the correct coordinate lengths from subset2\n",
    "array2 = xr.DataArray(\n",
    "    subset2.PH.data,\n",
    "    dims=['depth', 'lat', 'lon'],\n",
    "    coords={\n",
    "        'depth': subset2.Z.data,\n",
    "        'lat': subset2.YC.data[:, 0],  # Ensure it uses the correct slice\n",
    "        'lon': subset2.XC.data[0, :]   # Ensure it uses the correct slice\n",
    "    }\n",
    ")"
   ]
  },
  {
   "cell_type": "code",
   "execution_count": 6,
   "id": "166bfe40-bc9a-4d32-95aa-609c6d6b9cb4",
   "metadata": {},
   "outputs": [],
   "source": [
    "start_dive = 0\n",
    "windmix_dive = 47\n",
    "stop_dive = 82\n",
    "\n",
    "down_data = array2.sel(lat=down_lat,lon=down_lon,method='nearest') #Milwaukee Trench\n",
    "\n",
    "down_data[\"depth\"] = down_data[\"depth\"].astype(np.float32) #convert depth to float32\n",
    "up_data = array2.sel(lat=up_lat,lon=up_lon,method='nearest')\n",
    "up_data[\"depth\"] = up_data[\"depth\"].astype(np.float32) #convert depth to float32\n",
    "\n",
    "#here we scale the data to the required number of steps\n",
    "tem = down_data[start_dive:windmix_dive]\n",
    "depth_new=np.linspace(tem.depth[0].data,tem.depth[-1].data,1800)\n",
    "windmix_data2 = tem.interp(depth=depth_new)\n",
    "\n",
    "#here we scale the data to the required number of steps\n",
    "tem = down_data[windmix_dive-1:stop_dive]\n",
    "depth_new=np.linspace(tem.depth[0].data,tem.depth[-1].data,1800)\n",
    "down_data2 = tem.interp(depth=depth_new)\n",
    "down_lowest = down_data2[-1].data #save lowest value\n",
    "\n",
    "tem = up_data[stop_dive-1:stop_dive]\n",
    "depth_new=np.linspace(tem.depth[0].data,tem.depth[-1].data,101)\n",
    "chill_data2 = tem.interp(depth=depth_new)\n",
    "\n",
    "tem = up_data[start_dive:stop_dive]\n",
    "depth_new=np.linspace(tem.depth[0].data,tem.depth[-1].data,1699)\n",
    "up_data2 = tem.interp(depth=depth_new)\n",
    "up_lowest = up_data2[-1].data #save lowest value"
   ]
  },
  {
   "cell_type": "code",
   "execution_count": 7,
   "id": "984e80ae-25be-4e7b-9e97-876fef80d6f9",
   "metadata": {},
   "outputs": [
    {
     "ename": "FileNotFoundError",
     "evalue": "https://data.nas.nasa.gov/ecco/download_data.php?file=/eccodata/llc_2160/compressed/0001586400/PH.0001586400.data.shrunk",
     "output_type": "error",
     "traceback": [
      "\u001b[0;31m---------------------------------------------------------------------------\u001b[0m",
      "\u001b[0;31mClientResponseError\u001b[0m                       Traceback (most recent call last)",
      "File \u001b[0;32m/Library/Frameworks/Python.framework/Versions/3.12/lib/python3.12/site-packages/fsspec/implementations/http.py:422\u001b[0m, in \u001b[0;36mHTTPFileSystem._info\u001b[0;34m(self, url, **kwargs)\u001b[0m\n\u001b[1;32m    420\u001b[0m \u001b[38;5;28;01mtry\u001b[39;00m:\n\u001b[1;32m    421\u001b[0m     info\u001b[38;5;241m.\u001b[39mupdate(\n\u001b[0;32m--> 422\u001b[0m         \u001b[38;5;28;01mawait\u001b[39;00m _file_info(\n\u001b[1;32m    423\u001b[0m             \u001b[38;5;28mself\u001b[39m\u001b[38;5;241m.\u001b[39mencode_url(url),\n\u001b[1;32m    424\u001b[0m             size_policy\u001b[38;5;241m=\u001b[39mpolicy,\n\u001b[1;32m    425\u001b[0m             session\u001b[38;5;241m=\u001b[39msession,\n\u001b[1;32m    426\u001b[0m             \u001b[38;5;241m*\u001b[39m\u001b[38;5;241m*\u001b[39m\u001b[38;5;28mself\u001b[39m\u001b[38;5;241m.\u001b[39mkwargs,\n\u001b[1;32m    427\u001b[0m             \u001b[38;5;241m*\u001b[39m\u001b[38;5;241m*\u001b[39mkwargs,\n\u001b[1;32m    428\u001b[0m         )\n\u001b[1;32m    429\u001b[0m     )\n\u001b[1;32m    430\u001b[0m     \u001b[38;5;28;01mif\u001b[39;00m info\u001b[38;5;241m.\u001b[39mget(\u001b[38;5;124m\"\u001b[39m\u001b[38;5;124msize\u001b[39m\u001b[38;5;124m\"\u001b[39m) \u001b[38;5;129;01mis\u001b[39;00m \u001b[38;5;129;01mnot\u001b[39;00m \u001b[38;5;28;01mNone\u001b[39;00m:\n",
      "File \u001b[0;32m/Library/Frameworks/Python.framework/Versions/3.12/lib/python3.12/site-packages/fsspec/implementations/http.py:836\u001b[0m, in \u001b[0;36m_file_info\u001b[0;34m(url, session, size_policy, **kwargs)\u001b[0m\n\u001b[1;32m    835\u001b[0m \u001b[38;5;28;01masync\u001b[39;00m \u001b[38;5;28;01mwith\u001b[39;00m r:\n\u001b[0;32m--> 836\u001b[0m     \u001b[43mr\u001b[49m\u001b[38;5;241;43m.\u001b[39;49m\u001b[43mraise_for_status\u001b[49m\u001b[43m(\u001b[49m\u001b[43m)\u001b[49m\n\u001b[1;32m    838\u001b[0m     \u001b[38;5;66;03m# TODO:\u001b[39;00m\n\u001b[1;32m    839\u001b[0m     \u001b[38;5;66;03m#  recognise lack of 'Accept-Ranges',\u001b[39;00m\n\u001b[1;32m    840\u001b[0m     \u001b[38;5;66;03m#                 or 'Accept-Ranges': 'none' (not 'bytes')\u001b[39;00m\n\u001b[1;32m    841\u001b[0m     \u001b[38;5;66;03m#  to mean streaming only, no random access => return None\u001b[39;00m\n",
      "File \u001b[0;32m/Library/Frameworks/Python.framework/Versions/3.12/lib/python3.12/site-packages/aiohttp/client_reqrep.py:1093\u001b[0m, in \u001b[0;36mClientResponse.raise_for_status\u001b[0;34m(self)\u001b[0m\n\u001b[1;32m   1092\u001b[0m \u001b[38;5;28mself\u001b[39m\u001b[38;5;241m.\u001b[39mrelease()\n\u001b[0;32m-> 1093\u001b[0m \u001b[38;5;28;01mraise\u001b[39;00m ClientResponseError(\n\u001b[1;32m   1094\u001b[0m     \u001b[38;5;28mself\u001b[39m\u001b[38;5;241m.\u001b[39mrequest_info,\n\u001b[1;32m   1095\u001b[0m     \u001b[38;5;28mself\u001b[39m\u001b[38;5;241m.\u001b[39mhistory,\n\u001b[1;32m   1096\u001b[0m     status\u001b[38;5;241m=\u001b[39m\u001b[38;5;28mself\u001b[39m\u001b[38;5;241m.\u001b[39mstatus,\n\u001b[1;32m   1097\u001b[0m     message\u001b[38;5;241m=\u001b[39m\u001b[38;5;28mself\u001b[39m\u001b[38;5;241m.\u001b[39mreason,\n\u001b[1;32m   1098\u001b[0m     headers\u001b[38;5;241m=\u001b[39m\u001b[38;5;28mself\u001b[39m\u001b[38;5;241m.\u001b[39mheaders,\n\u001b[1;32m   1099\u001b[0m )\n",
      "\u001b[0;31mClientResponseError\u001b[0m: 404, message='Not Found', url='https://data.nas.nasa.gov/ecco/download_data.php?file=/eccodata/llc_2160/compressed/0001586400/PH.0001586400.data.shrunk'",
      "\nThe above exception was the direct cause of the following exception:\n",
      "\u001b[0;31mFileNotFoundError\u001b[0m                         Traceback (most recent call last)",
      "Cell \u001b[0;32mIn[7], line 1\u001b[0m\n\u001b[0;32m----> 1\u001b[0m windmix_df \u001b[38;5;241m=\u001b[39m \u001b[43mpd\u001b[49m\u001b[38;5;241;43m.\u001b[39;49m\u001b[43mDataFrame\u001b[49m\u001b[43m(\u001b[49m\u001b[43m{\u001b[49m\u001b[38;5;124;43m'\u001b[39;49m\u001b[38;5;124;43mdepth\u001b[39;49m\u001b[38;5;124;43m'\u001b[39;49m\u001b[43m:\u001b[49m\u001b[43m \u001b[49m\u001b[43mwindmix_data2\u001b[49m\u001b[38;5;241;43m.\u001b[39;49m\u001b[43mdepth\u001b[49m\u001b[43m,\u001b[49m\u001b[43m \u001b[49m\u001b[38;5;124;43m'\u001b[39;49m\u001b[38;5;124;43mPH\u001b[39;49m\u001b[38;5;124;43m'\u001b[39;49m\u001b[43m:\u001b[49m\u001b[43m \u001b[49m\u001b[43mwindmix_data2\u001b[49m\u001b[43m}\u001b[49m\u001b[43m)\u001b[49m\n\u001b[1;32m      2\u001b[0m windmix_df\u001b[38;5;241m.\u001b[39mshape\n",
      "File \u001b[0;32m/Library/Frameworks/Python.framework/Versions/3.12/lib/python3.12/site-packages/pandas/core/frame.py:767\u001b[0m, in \u001b[0;36mDataFrame.__init__\u001b[0;34m(self, data, index, columns, dtype, copy)\u001b[0m\n\u001b[1;32m    761\u001b[0m     mgr \u001b[38;5;241m=\u001b[39m \u001b[38;5;28mself\u001b[39m\u001b[38;5;241m.\u001b[39m_init_mgr(\n\u001b[1;32m    762\u001b[0m         data, axes\u001b[38;5;241m=\u001b[39m{\u001b[38;5;124m\"\u001b[39m\u001b[38;5;124mindex\u001b[39m\u001b[38;5;124m\"\u001b[39m: index, \u001b[38;5;124m\"\u001b[39m\u001b[38;5;124mcolumns\u001b[39m\u001b[38;5;124m\"\u001b[39m: columns}, dtype\u001b[38;5;241m=\u001b[39mdtype, copy\u001b[38;5;241m=\u001b[39mcopy\n\u001b[1;32m    763\u001b[0m     )\n\u001b[1;32m    765\u001b[0m \u001b[38;5;28;01melif\u001b[39;00m \u001b[38;5;28misinstance\u001b[39m(data, \u001b[38;5;28mdict\u001b[39m):\n\u001b[1;32m    766\u001b[0m     \u001b[38;5;66;03m# GH#38939 de facto copy defaults to False only in non-dict cases\u001b[39;00m\n\u001b[0;32m--> 767\u001b[0m     mgr \u001b[38;5;241m=\u001b[39m \u001b[43mdict_to_mgr\u001b[49m\u001b[43m(\u001b[49m\u001b[43mdata\u001b[49m\u001b[43m,\u001b[49m\u001b[43m \u001b[49m\u001b[43mindex\u001b[49m\u001b[43m,\u001b[49m\u001b[43m \u001b[49m\u001b[43mcolumns\u001b[49m\u001b[43m,\u001b[49m\u001b[43m \u001b[49m\u001b[43mdtype\u001b[49m\u001b[38;5;241;43m=\u001b[39;49m\u001b[43mdtype\u001b[49m\u001b[43m,\u001b[49m\u001b[43m \u001b[49m\u001b[43mcopy\u001b[49m\u001b[38;5;241;43m=\u001b[39;49m\u001b[43mcopy\u001b[49m\u001b[43m,\u001b[49m\u001b[43m \u001b[49m\u001b[43mtyp\u001b[49m\u001b[38;5;241;43m=\u001b[39;49m\u001b[43mmanager\u001b[49m\u001b[43m)\u001b[49m\n\u001b[1;32m    768\u001b[0m \u001b[38;5;28;01melif\u001b[39;00m \u001b[38;5;28misinstance\u001b[39m(data, ma\u001b[38;5;241m.\u001b[39mMaskedArray):\n\u001b[1;32m    769\u001b[0m     \u001b[38;5;28;01mfrom\u001b[39;00m \u001b[38;5;21;01mnumpy\u001b[39;00m\u001b[38;5;21;01m.\u001b[39;00m\u001b[38;5;21;01mma\u001b[39;00m \u001b[38;5;28;01mimport\u001b[39;00m mrecords\n",
      "File \u001b[0;32m/Library/Frameworks/Python.framework/Versions/3.12/lib/python3.12/site-packages/pandas/core/internals/construction.py:503\u001b[0m, in \u001b[0;36mdict_to_mgr\u001b[0;34m(data, index, columns, dtype, typ, copy)\u001b[0m\n\u001b[1;32m    499\u001b[0m     \u001b[38;5;28;01melse\u001b[39;00m:\n\u001b[1;32m    500\u001b[0m         \u001b[38;5;66;03m# dtype check to exclude e.g. range objects, scalars\u001b[39;00m\n\u001b[1;32m    501\u001b[0m         arrays \u001b[38;5;241m=\u001b[39m [x\u001b[38;5;241m.\u001b[39mcopy() \u001b[38;5;28;01mif\u001b[39;00m \u001b[38;5;28mhasattr\u001b[39m(x, \u001b[38;5;124m\"\u001b[39m\u001b[38;5;124mdtype\u001b[39m\u001b[38;5;124m\"\u001b[39m) \u001b[38;5;28;01melse\u001b[39;00m x \u001b[38;5;28;01mfor\u001b[39;00m x \u001b[38;5;129;01min\u001b[39;00m arrays]\n\u001b[0;32m--> 503\u001b[0m \u001b[38;5;28;01mreturn\u001b[39;00m \u001b[43marrays_to_mgr\u001b[49m\u001b[43m(\u001b[49m\u001b[43marrays\u001b[49m\u001b[43m,\u001b[49m\u001b[43m \u001b[49m\u001b[43mcolumns\u001b[49m\u001b[43m,\u001b[49m\u001b[43m \u001b[49m\u001b[43mindex\u001b[49m\u001b[43m,\u001b[49m\u001b[43m \u001b[49m\u001b[43mdtype\u001b[49m\u001b[38;5;241;43m=\u001b[39;49m\u001b[43mdtype\u001b[49m\u001b[43m,\u001b[49m\u001b[43m \u001b[49m\u001b[43mtyp\u001b[49m\u001b[38;5;241;43m=\u001b[39;49m\u001b[43mtyp\u001b[49m\u001b[43m,\u001b[49m\u001b[43m \u001b[49m\u001b[43mconsolidate\u001b[49m\u001b[38;5;241;43m=\u001b[39;49m\u001b[43mcopy\u001b[49m\u001b[43m)\u001b[49m\n",
      "File \u001b[0;32m/Library/Frameworks/Python.framework/Versions/3.12/lib/python3.12/site-packages/pandas/core/internals/construction.py:119\u001b[0m, in \u001b[0;36marrays_to_mgr\u001b[0;34m(arrays, columns, index, dtype, verify_integrity, typ, consolidate)\u001b[0m\n\u001b[1;32m    116\u001b[0m         index \u001b[38;5;241m=\u001b[39m ensure_index(index)\n\u001b[1;32m    118\u001b[0m     \u001b[38;5;66;03m# don't force copy because getting jammed in an ndarray anyway\u001b[39;00m\n\u001b[0;32m--> 119\u001b[0m     arrays, refs \u001b[38;5;241m=\u001b[39m \u001b[43m_homogenize\u001b[49m\u001b[43m(\u001b[49m\u001b[43marrays\u001b[49m\u001b[43m,\u001b[49m\u001b[43m \u001b[49m\u001b[43mindex\u001b[49m\u001b[43m,\u001b[49m\u001b[43m \u001b[49m\u001b[43mdtype\u001b[49m\u001b[43m)\u001b[49m\n\u001b[1;32m    120\u001b[0m     \u001b[38;5;66;03m# _homogenize ensures\u001b[39;00m\n\u001b[1;32m    121\u001b[0m     \u001b[38;5;66;03m#  - all(len(x) == len(index) for x in arrays)\u001b[39;00m\n\u001b[1;32m    122\u001b[0m     \u001b[38;5;66;03m#  - all(x.ndim == 1 for x in arrays)\u001b[39;00m\n\u001b[0;32m   (...)\u001b[0m\n\u001b[1;32m    125\u001b[0m \n\u001b[1;32m    126\u001b[0m \u001b[38;5;28;01melse\u001b[39;00m:\n\u001b[1;32m    127\u001b[0m     index \u001b[38;5;241m=\u001b[39m ensure_index(index)\n",
      "File \u001b[0;32m/Library/Frameworks/Python.framework/Versions/3.12/lib/python3.12/site-packages/pandas/core/internals/construction.py:629\u001b[0m, in \u001b[0;36m_homogenize\u001b[0;34m(data, index, dtype)\u001b[0m\n\u001b[1;32m    626\u001b[0m         val \u001b[38;5;241m=\u001b[39m \u001b[38;5;28mdict\u001b[39m(val)\n\u001b[1;32m    627\u001b[0m     val \u001b[38;5;241m=\u001b[39m lib\u001b[38;5;241m.\u001b[39mfast_multiget(val, oindex\u001b[38;5;241m.\u001b[39m_values, default\u001b[38;5;241m=\u001b[39mnp\u001b[38;5;241m.\u001b[39mnan)\n\u001b[0;32m--> 629\u001b[0m val \u001b[38;5;241m=\u001b[39m \u001b[43msanitize_array\u001b[49m\u001b[43m(\u001b[49m\u001b[43mval\u001b[49m\u001b[43m,\u001b[49m\u001b[43m \u001b[49m\u001b[43mindex\u001b[49m\u001b[43m,\u001b[49m\u001b[43m \u001b[49m\u001b[43mdtype\u001b[49m\u001b[38;5;241;43m=\u001b[39;49m\u001b[43mdtype\u001b[49m\u001b[43m,\u001b[49m\u001b[43m \u001b[49m\u001b[43mcopy\u001b[49m\u001b[38;5;241;43m=\u001b[39;49m\u001b[38;5;28;43;01mFalse\u001b[39;49;00m\u001b[43m)\u001b[49m\n\u001b[1;32m    630\u001b[0m com\u001b[38;5;241m.\u001b[39mrequire_length_match(val, index)\n\u001b[1;32m    631\u001b[0m refs\u001b[38;5;241m.\u001b[39mappend(\u001b[38;5;28;01mNone\u001b[39;00m)\n",
      "File \u001b[0;32m/Library/Frameworks/Python.framework/Versions/3.12/lib/python3.12/site-packages/pandas/core/construction.py:629\u001b[0m, in \u001b[0;36msanitize_array\u001b[0;34m(data, index, dtype, copy, allow_2d)\u001b[0m\n\u001b[1;32m    625\u001b[0m         subarr \u001b[38;5;241m=\u001b[39m _try_cast(data, dtype, copy)\n\u001b[1;32m    627\u001b[0m \u001b[38;5;28;01melif\u001b[39;00m \u001b[38;5;28mhasattr\u001b[39m(data, \u001b[38;5;124m\"\u001b[39m\u001b[38;5;124m__array__\u001b[39m\u001b[38;5;124m\"\u001b[39m):\n\u001b[1;32m    628\u001b[0m     \u001b[38;5;66;03m# e.g. dask array GH#38645\u001b[39;00m\n\u001b[0;32m--> 629\u001b[0m     data \u001b[38;5;241m=\u001b[39m \u001b[43mnp\u001b[49m\u001b[38;5;241;43m.\u001b[39;49m\u001b[43marray\u001b[49m\u001b[43m(\u001b[49m\u001b[43mdata\u001b[49m\u001b[43m,\u001b[49m\u001b[43m \u001b[49m\u001b[43mcopy\u001b[49m\u001b[38;5;241;43m=\u001b[39;49m\u001b[43mcopy\u001b[49m\u001b[43m)\u001b[49m\n\u001b[1;32m    630\u001b[0m     \u001b[38;5;28;01mreturn\u001b[39;00m sanitize_array(\n\u001b[1;32m    631\u001b[0m         data,\n\u001b[1;32m    632\u001b[0m         index\u001b[38;5;241m=\u001b[39mindex,\n\u001b[0;32m   (...)\u001b[0m\n\u001b[1;32m    635\u001b[0m         allow_2d\u001b[38;5;241m=\u001b[39mallow_2d,\n\u001b[1;32m    636\u001b[0m     )\n\u001b[1;32m    638\u001b[0m \u001b[38;5;28;01melse\u001b[39;00m:\n",
      "File \u001b[0;32m/Library/Frameworks/Python.framework/Versions/3.12/lib/python3.12/site-packages/xarray/core/common.py:165\u001b[0m, in \u001b[0;36mAbstractArray.__array__\u001b[0;34m(self, dtype)\u001b[0m\n\u001b[1;32m    164\u001b[0m \u001b[38;5;28;01mdef\u001b[39;00m \u001b[38;5;21m__array__\u001b[39m(\u001b[38;5;28mself\u001b[39m: Any, dtype: DTypeLike \u001b[38;5;241m|\u001b[39m \u001b[38;5;28;01mNone\u001b[39;00m \u001b[38;5;241m=\u001b[39m \u001b[38;5;28;01mNone\u001b[39;00m) \u001b[38;5;241m-\u001b[39m\u001b[38;5;241m>\u001b[39m np\u001b[38;5;241m.\u001b[39mndarray:\n\u001b[0;32m--> 165\u001b[0m     \u001b[38;5;28;01mreturn\u001b[39;00m np\u001b[38;5;241m.\u001b[39masarray(\u001b[38;5;28;43mself\u001b[39;49m\u001b[38;5;241;43m.\u001b[39;49m\u001b[43mvalues\u001b[49m, dtype\u001b[38;5;241m=\u001b[39mdtype)\n",
      "File \u001b[0;32m/Library/Frameworks/Python.framework/Versions/3.12/lib/python3.12/site-packages/xarray/core/dataarray.py:785\u001b[0m, in \u001b[0;36mDataArray.values\u001b[0;34m(self)\u001b[0m\n\u001b[1;32m    772\u001b[0m \u001b[38;5;129m@property\u001b[39m\n\u001b[1;32m    773\u001b[0m \u001b[38;5;28;01mdef\u001b[39;00m \u001b[38;5;21mvalues\u001b[39m(\u001b[38;5;28mself\u001b[39m) \u001b[38;5;241m-\u001b[39m\u001b[38;5;241m>\u001b[39m np\u001b[38;5;241m.\u001b[39mndarray:\n\u001b[1;32m    774\u001b[0m \u001b[38;5;250m    \u001b[39m\u001b[38;5;124;03m\"\"\"\u001b[39;00m\n\u001b[1;32m    775\u001b[0m \u001b[38;5;124;03m    The array's data converted to numpy.ndarray.\u001b[39;00m\n\u001b[1;32m    776\u001b[0m \n\u001b[0;32m   (...)\u001b[0m\n\u001b[1;32m    783\u001b[0m \u001b[38;5;124;03m    to this array may be reflected in the DataArray as well.\u001b[39;00m\n\u001b[1;32m    784\u001b[0m \u001b[38;5;124;03m    \"\"\"\u001b[39;00m\n\u001b[0;32m--> 785\u001b[0m     \u001b[38;5;28;01mreturn\u001b[39;00m \u001b[38;5;28;43mself\u001b[39;49m\u001b[38;5;241;43m.\u001b[39;49m\u001b[43mvariable\u001b[49m\u001b[38;5;241;43m.\u001b[39;49m\u001b[43mvalues\u001b[49m\n",
      "File \u001b[0;32m/Library/Frameworks/Python.framework/Versions/3.12/lib/python3.12/site-packages/xarray/core/variable.py:540\u001b[0m, in \u001b[0;36mVariable.values\u001b[0;34m(self)\u001b[0m\n\u001b[1;32m    537\u001b[0m \u001b[38;5;129m@property\u001b[39m\n\u001b[1;32m    538\u001b[0m \u001b[38;5;28;01mdef\u001b[39;00m \u001b[38;5;21mvalues\u001b[39m(\u001b[38;5;28mself\u001b[39m):\n\u001b[1;32m    539\u001b[0m \u001b[38;5;250m    \u001b[39m\u001b[38;5;124;03m\"\"\"The variable's data as a numpy.ndarray\"\"\"\u001b[39;00m\n\u001b[0;32m--> 540\u001b[0m     \u001b[38;5;28;01mreturn\u001b[39;00m \u001b[43m_as_array_or_item\u001b[49m\u001b[43m(\u001b[49m\u001b[38;5;28;43mself\u001b[39;49m\u001b[38;5;241;43m.\u001b[39;49m\u001b[43m_data\u001b[49m\u001b[43m)\u001b[49m\n",
      "File \u001b[0;32m/Library/Frameworks/Python.framework/Versions/3.12/lib/python3.12/site-packages/xarray/core/variable.py:338\u001b[0m, in \u001b[0;36m_as_array_or_item\u001b[0;34m(data)\u001b[0m\n\u001b[1;32m    324\u001b[0m \u001b[38;5;28;01mdef\u001b[39;00m \u001b[38;5;21m_as_array_or_item\u001b[39m(data):\n\u001b[1;32m    325\u001b[0m \u001b[38;5;250m    \u001b[39m\u001b[38;5;124;03m\"\"\"Return the given values as a numpy array, or as an individual item if\u001b[39;00m\n\u001b[1;32m    326\u001b[0m \u001b[38;5;124;03m    it's a 0d datetime64 or timedelta64 array.\u001b[39;00m\n\u001b[1;32m    327\u001b[0m \n\u001b[0;32m   (...)\u001b[0m\n\u001b[1;32m    336\u001b[0m \u001b[38;5;124;03m    TODO: remove this (replace with np.asarray) once these issues are fixed\u001b[39;00m\n\u001b[1;32m    337\u001b[0m \u001b[38;5;124;03m    \"\"\"\u001b[39;00m\n\u001b[0;32m--> 338\u001b[0m     data \u001b[38;5;241m=\u001b[39m \u001b[43mnp\u001b[49m\u001b[38;5;241;43m.\u001b[39;49m\u001b[43masarray\u001b[49m\u001b[43m(\u001b[49m\u001b[43mdata\u001b[49m\u001b[43m)\u001b[49m\n\u001b[1;32m    339\u001b[0m     \u001b[38;5;28;01mif\u001b[39;00m data\u001b[38;5;241m.\u001b[39mndim \u001b[38;5;241m==\u001b[39m \u001b[38;5;241m0\u001b[39m:\n\u001b[1;32m    340\u001b[0m         \u001b[38;5;28;01mif\u001b[39;00m data\u001b[38;5;241m.\u001b[39mdtype\u001b[38;5;241m.\u001b[39mkind \u001b[38;5;241m==\u001b[39m \u001b[38;5;124m\"\u001b[39m\u001b[38;5;124mM\u001b[39m\u001b[38;5;124m\"\u001b[39m:\n",
      "File \u001b[0;32m/Library/Frameworks/Python.framework/Versions/3.12/lib/python3.12/site-packages/dask/array/core.py:1693\u001b[0m, in \u001b[0;36mArray.__array__\u001b[0;34m(self, dtype, **kwargs)\u001b[0m\n\u001b[1;32m   1692\u001b[0m \u001b[38;5;28;01mdef\u001b[39;00m \u001b[38;5;21m__array__\u001b[39m(\u001b[38;5;28mself\u001b[39m, dtype\u001b[38;5;241m=\u001b[39m\u001b[38;5;28;01mNone\u001b[39;00m, \u001b[38;5;241m*\u001b[39m\u001b[38;5;241m*\u001b[39mkwargs):\n\u001b[0;32m-> 1693\u001b[0m     x \u001b[38;5;241m=\u001b[39m \u001b[38;5;28;43mself\u001b[39;49m\u001b[38;5;241;43m.\u001b[39;49m\u001b[43mcompute\u001b[49m\u001b[43m(\u001b[49m\u001b[43m)\u001b[49m\n\u001b[1;32m   1694\u001b[0m     \u001b[38;5;28;01mif\u001b[39;00m dtype \u001b[38;5;129;01mand\u001b[39;00m x\u001b[38;5;241m.\u001b[39mdtype \u001b[38;5;241m!=\u001b[39m dtype:\n\u001b[1;32m   1695\u001b[0m         x \u001b[38;5;241m=\u001b[39m x\u001b[38;5;241m.\u001b[39mastype(dtype)\n",
      "File \u001b[0;32m/Library/Frameworks/Python.framework/Versions/3.12/lib/python3.12/site-packages/dask/base.py:376\u001b[0m, in \u001b[0;36mDaskMethodsMixin.compute\u001b[0;34m(self, **kwargs)\u001b[0m\n\u001b[1;32m    352\u001b[0m \u001b[38;5;28;01mdef\u001b[39;00m \u001b[38;5;21mcompute\u001b[39m(\u001b[38;5;28mself\u001b[39m, \u001b[38;5;241m*\u001b[39m\u001b[38;5;241m*\u001b[39mkwargs):\n\u001b[1;32m    353\u001b[0m \u001b[38;5;250m    \u001b[39m\u001b[38;5;124;03m\"\"\"Compute this dask collection\u001b[39;00m\n\u001b[1;32m    354\u001b[0m \n\u001b[1;32m    355\u001b[0m \u001b[38;5;124;03m    This turns a lazy Dask collection into its in-memory equivalent.\u001b[39;00m\n\u001b[0;32m   (...)\u001b[0m\n\u001b[1;32m    374\u001b[0m \u001b[38;5;124;03m    dask.compute\u001b[39;00m\n\u001b[1;32m    375\u001b[0m \u001b[38;5;124;03m    \"\"\"\u001b[39;00m\n\u001b[0;32m--> 376\u001b[0m     (result,) \u001b[38;5;241m=\u001b[39m \u001b[43mcompute\u001b[49m\u001b[43m(\u001b[49m\u001b[38;5;28;43mself\u001b[39;49m\u001b[43m,\u001b[49m\u001b[43m \u001b[49m\u001b[43mtraverse\u001b[49m\u001b[38;5;241;43m=\u001b[39;49m\u001b[38;5;28;43;01mFalse\u001b[39;49;00m\u001b[43m,\u001b[49m\u001b[43m \u001b[49m\u001b[38;5;241;43m*\u001b[39;49m\u001b[38;5;241;43m*\u001b[39;49m\u001b[43mkwargs\u001b[49m\u001b[43m)\u001b[49m\n\u001b[1;32m    377\u001b[0m     \u001b[38;5;28;01mreturn\u001b[39;00m result\n",
      "File \u001b[0;32m/Library/Frameworks/Python.framework/Versions/3.12/lib/python3.12/site-packages/dask/base.py:662\u001b[0m, in \u001b[0;36mcompute\u001b[0;34m(traverse, optimize_graph, scheduler, get, *args, **kwargs)\u001b[0m\n\u001b[1;32m    659\u001b[0m     postcomputes\u001b[38;5;241m.\u001b[39mappend(x\u001b[38;5;241m.\u001b[39m__dask_postcompute__())\n\u001b[1;32m    661\u001b[0m \u001b[38;5;28;01mwith\u001b[39;00m shorten_traceback():\n\u001b[0;32m--> 662\u001b[0m     results \u001b[38;5;241m=\u001b[39m \u001b[43mschedule\u001b[49m\u001b[43m(\u001b[49m\u001b[43mdsk\u001b[49m\u001b[43m,\u001b[49m\u001b[43m \u001b[49m\u001b[43mkeys\u001b[49m\u001b[43m,\u001b[49m\u001b[43m \u001b[49m\u001b[38;5;241;43m*\u001b[39;49m\u001b[38;5;241;43m*\u001b[39;49m\u001b[43mkwargs\u001b[49m\u001b[43m)\u001b[49m\n\u001b[1;32m    664\u001b[0m \u001b[38;5;28;01mreturn\u001b[39;00m repack([f(r, \u001b[38;5;241m*\u001b[39ma) \u001b[38;5;28;01mfor\u001b[39;00m r, (f, a) \u001b[38;5;129;01min\u001b[39;00m \u001b[38;5;28mzip\u001b[39m(results, postcomputes)])\n",
      "File \u001b[0;32m/Library/Frameworks/Python.framework/Versions/3.12/lib/python3.12/site-packages/xmitgcm/llcreader/llcmodel.py:459\u001b[0m, in \u001b[0;36m_get_facet_chunk\u001b[0;34m(store, varname, iternum, nfacet, klevels, nx, nz, nfaces, dtype, mask_override, domain, pad_before, pad_after)\u001b[0m\n\u001b[1;32m    455\u001b[0m fs, path \u001b[38;5;241m=\u001b[39m store\u001b[38;5;241m.\u001b[39mget_fs_and_full_path(varname, iternum)\n\u001b[1;32m    457\u001b[0m \u001b[38;5;28;01massert\u001b[39;00m (nfacet \u001b[38;5;241m>\u001b[39m\u001b[38;5;241m=\u001b[39m \u001b[38;5;241m0\u001b[39m) \u001b[38;5;241m&\u001b[39m (nfacet \u001b[38;5;241m<\u001b[39m _nfacets)\n\u001b[0;32m--> 459\u001b[0m file \u001b[38;5;241m=\u001b[39m \u001b[43mfs\u001b[49m\u001b[38;5;241;43m.\u001b[39;49m\u001b[43mopen\u001b[49m\u001b[43m(\u001b[49m\u001b[43mpath\u001b[49m\u001b[43m)\u001b[49m\n\u001b[1;32m    461\u001b[0m \u001b[38;5;66;03m# insert singleton axis for time (if not grid var) and k level\u001b[39;00m\n\u001b[1;32m    462\u001b[0m facet_shape \u001b[38;5;241m=\u001b[39m (\u001b[38;5;241m1\u001b[39m,) \u001b[38;5;241m+\u001b[39m _facet_shape(nfacet, nx, nfaces)\n",
      "File \u001b[0;32m/Library/Frameworks/Python.framework/Versions/3.12/lib/python3.12/site-packages/fsspec/spec.py:1303\u001b[0m, in \u001b[0;36mAbstractFileSystem.open\u001b[0;34m(self, path, mode, block_size, cache_options, compression, **kwargs)\u001b[0m\n\u001b[1;32m   1301\u001b[0m \u001b[38;5;28;01melse\u001b[39;00m:\n\u001b[1;32m   1302\u001b[0m     ac \u001b[38;5;241m=\u001b[39m kwargs\u001b[38;5;241m.\u001b[39mpop(\u001b[38;5;124m\"\u001b[39m\u001b[38;5;124mautocommit\u001b[39m\u001b[38;5;124m\"\u001b[39m, \u001b[38;5;129;01mnot\u001b[39;00m \u001b[38;5;28mself\u001b[39m\u001b[38;5;241m.\u001b[39m_intrans)\n\u001b[0;32m-> 1303\u001b[0m     f \u001b[38;5;241m=\u001b[39m \u001b[38;5;28;43mself\u001b[39;49m\u001b[38;5;241;43m.\u001b[39;49m\u001b[43m_open\u001b[49m\u001b[43m(\u001b[49m\n\u001b[1;32m   1304\u001b[0m \u001b[43m        \u001b[49m\u001b[43mpath\u001b[49m\u001b[43m,\u001b[49m\n\u001b[1;32m   1305\u001b[0m \u001b[43m        \u001b[49m\u001b[43mmode\u001b[49m\u001b[38;5;241;43m=\u001b[39;49m\u001b[43mmode\u001b[49m\u001b[43m,\u001b[49m\n\u001b[1;32m   1306\u001b[0m \u001b[43m        \u001b[49m\u001b[43mblock_size\u001b[49m\u001b[38;5;241;43m=\u001b[39;49m\u001b[43mblock_size\u001b[49m\u001b[43m,\u001b[49m\n\u001b[1;32m   1307\u001b[0m \u001b[43m        \u001b[49m\u001b[43mautocommit\u001b[49m\u001b[38;5;241;43m=\u001b[39;49m\u001b[43mac\u001b[49m\u001b[43m,\u001b[49m\n\u001b[1;32m   1308\u001b[0m \u001b[43m        \u001b[49m\u001b[43mcache_options\u001b[49m\u001b[38;5;241;43m=\u001b[39;49m\u001b[43mcache_options\u001b[49m\u001b[43m,\u001b[49m\n\u001b[1;32m   1309\u001b[0m \u001b[43m        \u001b[49m\u001b[38;5;241;43m*\u001b[39;49m\u001b[38;5;241;43m*\u001b[39;49m\u001b[43mkwargs\u001b[49m\u001b[43m,\u001b[49m\n\u001b[1;32m   1310\u001b[0m \u001b[43m    \u001b[49m\u001b[43m)\u001b[49m\n\u001b[1;32m   1311\u001b[0m     \u001b[38;5;28;01mif\u001b[39;00m compression \u001b[38;5;129;01mis\u001b[39;00m \u001b[38;5;129;01mnot\u001b[39;00m \u001b[38;5;28;01mNone\u001b[39;00m:\n\u001b[1;32m   1312\u001b[0m         \u001b[38;5;28;01mfrom\u001b[39;00m \u001b[38;5;21;01mfsspec\u001b[39;00m\u001b[38;5;21;01m.\u001b[39;00m\u001b[38;5;21;01mcompression\u001b[39;00m \u001b[38;5;28;01mimport\u001b[39;00m compr\n",
      "File \u001b[0;32m/Library/Frameworks/Python.framework/Versions/3.12/lib/python3.12/site-packages/fsspec/implementations/http.py:361\u001b[0m, in \u001b[0;36mHTTPFileSystem._open\u001b[0;34m(self, path, mode, block_size, autocommit, cache_type, cache_options, size, **kwargs)\u001b[0m\n\u001b[1;32m    359\u001b[0m kw[\u001b[38;5;124m\"\u001b[39m\u001b[38;5;124masynchronous\u001b[39m\u001b[38;5;124m\"\u001b[39m] \u001b[38;5;241m=\u001b[39m \u001b[38;5;28mself\u001b[39m\u001b[38;5;241m.\u001b[39masynchronous\n\u001b[1;32m    360\u001b[0m kw\u001b[38;5;241m.\u001b[39mupdate(kwargs)\n\u001b[0;32m--> 361\u001b[0m size \u001b[38;5;241m=\u001b[39m size \u001b[38;5;129;01mor\u001b[39;00m \u001b[38;5;28;43mself\u001b[39;49m\u001b[38;5;241;43m.\u001b[39;49m\u001b[43minfo\u001b[49m\u001b[43m(\u001b[49m\u001b[43mpath\u001b[49m\u001b[43m,\u001b[49m\u001b[43m \u001b[49m\u001b[38;5;241;43m*\u001b[39;49m\u001b[38;5;241;43m*\u001b[39;49m\u001b[43mkwargs\u001b[49m\u001b[43m)\u001b[49m[\u001b[38;5;124m\"\u001b[39m\u001b[38;5;124msize\u001b[39m\u001b[38;5;124m\"\u001b[39m]\n\u001b[1;32m    362\u001b[0m session \u001b[38;5;241m=\u001b[39m sync(\u001b[38;5;28mself\u001b[39m\u001b[38;5;241m.\u001b[39mloop, \u001b[38;5;28mself\u001b[39m\u001b[38;5;241m.\u001b[39mset_session)\n\u001b[1;32m    363\u001b[0m \u001b[38;5;28;01mif\u001b[39;00m block_size \u001b[38;5;129;01mand\u001b[39;00m size:\n",
      "File \u001b[0;32m/Library/Frameworks/Python.framework/Versions/3.12/lib/python3.12/site-packages/fsspec/asyn.py:118\u001b[0m, in \u001b[0;36msync_wrapper.<locals>.wrapper\u001b[0;34m(*args, **kwargs)\u001b[0m\n\u001b[1;32m    115\u001b[0m \u001b[38;5;129m@functools\u001b[39m\u001b[38;5;241m.\u001b[39mwraps(func)\n\u001b[1;32m    116\u001b[0m \u001b[38;5;28;01mdef\u001b[39;00m \u001b[38;5;21mwrapper\u001b[39m(\u001b[38;5;241m*\u001b[39margs, \u001b[38;5;241m*\u001b[39m\u001b[38;5;241m*\u001b[39mkwargs):\n\u001b[1;32m    117\u001b[0m     \u001b[38;5;28mself\u001b[39m \u001b[38;5;241m=\u001b[39m obj \u001b[38;5;129;01mor\u001b[39;00m args[\u001b[38;5;241m0\u001b[39m]\n\u001b[0;32m--> 118\u001b[0m     \u001b[38;5;28;01mreturn\u001b[39;00m \u001b[43msync\u001b[49m\u001b[43m(\u001b[49m\u001b[38;5;28;43mself\u001b[39;49m\u001b[38;5;241;43m.\u001b[39;49m\u001b[43mloop\u001b[49m\u001b[43m,\u001b[49m\u001b[43m \u001b[49m\u001b[43mfunc\u001b[49m\u001b[43m,\u001b[49m\u001b[43m \u001b[49m\u001b[38;5;241;43m*\u001b[39;49m\u001b[43margs\u001b[49m\u001b[43m,\u001b[49m\u001b[43m \u001b[49m\u001b[38;5;241;43m*\u001b[39;49m\u001b[38;5;241;43m*\u001b[39;49m\u001b[43mkwargs\u001b[49m\u001b[43m)\u001b[49m\n",
      "File \u001b[0;32m/Library/Frameworks/Python.framework/Versions/3.12/lib/python3.12/site-packages/fsspec/asyn.py:103\u001b[0m, in \u001b[0;36msync\u001b[0;34m(loop, func, timeout, *args, **kwargs)\u001b[0m\n\u001b[1;32m    101\u001b[0m     \u001b[38;5;28;01mraise\u001b[39;00m FSTimeoutError \u001b[38;5;28;01mfrom\u001b[39;00m \u001b[38;5;21;01mreturn_result\u001b[39;00m\n\u001b[1;32m    102\u001b[0m \u001b[38;5;28;01melif\u001b[39;00m \u001b[38;5;28misinstance\u001b[39m(return_result, \u001b[38;5;167;01mBaseException\u001b[39;00m):\n\u001b[0;32m--> 103\u001b[0m     \u001b[38;5;28;01mraise\u001b[39;00m return_result\n\u001b[1;32m    104\u001b[0m \u001b[38;5;28;01melse\u001b[39;00m:\n\u001b[1;32m    105\u001b[0m     \u001b[38;5;28;01mreturn\u001b[39;00m return_result\n",
      "File \u001b[0;32m/Library/Frameworks/Python.framework/Versions/3.12/lib/python3.12/site-packages/fsspec/asyn.py:56\u001b[0m, in \u001b[0;36m_runner\u001b[0;34m(event, coro, result, timeout)\u001b[0m\n\u001b[1;32m     54\u001b[0m     coro \u001b[38;5;241m=\u001b[39m asyncio\u001b[38;5;241m.\u001b[39mwait_for(coro, timeout\u001b[38;5;241m=\u001b[39mtimeout)\n\u001b[1;32m     55\u001b[0m \u001b[38;5;28;01mtry\u001b[39;00m:\n\u001b[0;32m---> 56\u001b[0m     result[\u001b[38;5;241m0\u001b[39m] \u001b[38;5;241m=\u001b[39m \u001b[38;5;28;01mawait\u001b[39;00m coro\n\u001b[1;32m     57\u001b[0m \u001b[38;5;28;01mexcept\u001b[39;00m \u001b[38;5;167;01mException\u001b[39;00m \u001b[38;5;28;01mas\u001b[39;00m ex:\n\u001b[1;32m     58\u001b[0m     result[\u001b[38;5;241m0\u001b[39m] \u001b[38;5;241m=\u001b[39m ex\n",
      "File \u001b[0;32m/Library/Frameworks/Python.framework/Versions/3.12/lib/python3.12/site-packages/fsspec/implementations/http.py:435\u001b[0m, in \u001b[0;36mHTTPFileSystem._info\u001b[0;34m(self, url, **kwargs)\u001b[0m\n\u001b[1;32m    432\u001b[0m     \u001b[38;5;28;01mexcept\u001b[39;00m \u001b[38;5;167;01mException\u001b[39;00m \u001b[38;5;28;01mas\u001b[39;00m exc:\n\u001b[1;32m    433\u001b[0m         \u001b[38;5;28;01mif\u001b[39;00m policy \u001b[38;5;241m==\u001b[39m \u001b[38;5;124m\"\u001b[39m\u001b[38;5;124mget\u001b[39m\u001b[38;5;124m\"\u001b[39m:\n\u001b[1;32m    434\u001b[0m             \u001b[38;5;66;03m# If get failed, then raise a FileNotFoundError\u001b[39;00m\n\u001b[0;32m--> 435\u001b[0m             \u001b[38;5;28;01mraise\u001b[39;00m \u001b[38;5;167;01mFileNotFoundError\u001b[39;00m(url) \u001b[38;5;28;01mfrom\u001b[39;00m \u001b[38;5;21;01mexc\u001b[39;00m\n\u001b[1;32m    436\u001b[0m         logger\u001b[38;5;241m.\u001b[39mdebug(\u001b[38;5;124m\"\u001b[39m\u001b[38;5;124m\"\u001b[39m, exc_info\u001b[38;5;241m=\u001b[39mexc)\n\u001b[1;32m    438\u001b[0m \u001b[38;5;28;01mreturn\u001b[39;00m {\u001b[38;5;124m\"\u001b[39m\u001b[38;5;124mname\u001b[39m\u001b[38;5;124m\"\u001b[39m: url, \u001b[38;5;124m\"\u001b[39m\u001b[38;5;124msize\u001b[39m\u001b[38;5;124m\"\u001b[39m: \u001b[38;5;28;01mNone\u001b[39;00m, \u001b[38;5;241m*\u001b[39m\u001b[38;5;241m*\u001b[39minfo, \u001b[38;5;124m\"\u001b[39m\u001b[38;5;124mtype\u001b[39m\u001b[38;5;124m\"\u001b[39m: \u001b[38;5;124m\"\u001b[39m\u001b[38;5;124mfile\u001b[39m\u001b[38;5;124m\"\u001b[39m}\n",
      "\u001b[0;31mFileNotFoundError\u001b[0m: https://data.nas.nasa.gov/ecco/download_data.php?file=/eccodata/llc_2160/compressed/0001586400/PH.0001586400.data.shrunk"
     ]
    }
   ],
   "source": [
    "windmix_df = pd.DataFrame({'depth': windmix_data2.depth, 'PH': windmix_data2})\n",
    "windmix_df.shape"
   ]
  },
  {
   "cell_type": "code",
   "execution_count": 15,
   "id": "f99f37de-21bb-4ae5-8f64-fcda237974d5",
   "metadata": {},
   "outputs": [
    {
     "data": {
      "text/plain": [
       "(1800, 2)"
      ]
     },
     "execution_count": 15,
     "metadata": {},
     "output_type": "execute_result"
    }
   ],
   "source": [
    "down_df = pd.DataFrame({'depth': down_data2.depth, 'PH': down_data2})#down_data2\n",
    "down_df.shape"
   ]
  },
  {
   "cell_type": "code",
   "execution_count": 18,
   "id": "30d3da15-ea98-4a20-be9f-ea5e41d884f8",
   "metadata": {},
   "outputs": [
    {
     "data": {
      "text/html": [
       "<div>\n",
       "<style scoped>\n",
       "    .dataframe tbody tr th:only-of-type {\n",
       "        vertical-align: middle;\n",
       "    }\n",
       "\n",
       "    .dataframe tbody tr th {\n",
       "        vertical-align: top;\n",
       "    }\n",
       "\n",
       "    .dataframe thead th {\n",
       "        text-align: right;\n",
       "    }\n",
       "</style>\n",
       "<table border=\"1\" class=\"dataframe\">\n",
       "  <thead>\n",
       "    <tr style=\"text-align: right;\">\n",
       "      <th></th>\n",
       "      <th>depth</th>\n",
       "      <th>W</th>\n",
       "    </tr>\n",
       "  </thead>\n",
       "  <tbody>\n",
       "    <tr>\n",
       "      <th>0</th>\n",
       "      <td>-770.585022</td>\n",
       "      <td>-0.004163</td>\n",
       "    </tr>\n",
       "    <tr>\n",
       "      <th>1</th>\n",
       "      <td>-772.390758</td>\n",
       "      <td>-0.004154</td>\n",
       "    </tr>\n",
       "    <tr>\n",
       "      <th>2</th>\n",
       "      <td>-774.196495</td>\n",
       "      <td>-0.004144</td>\n",
       "    </tr>\n",
       "    <tr>\n",
       "      <th>3</th>\n",
       "      <td>-776.002231</td>\n",
       "      <td>-0.004134</td>\n",
       "    </tr>\n",
       "    <tr>\n",
       "      <th>4</th>\n",
       "      <td>-777.807968</td>\n",
       "      <td>-0.004124</td>\n",
       "    </tr>\n",
       "  </tbody>\n",
       "</table>\n",
       "</div>"
      ],
      "text/plain": [
       "        depth         W\n",
       "0 -770.585022 -0.004163\n",
       "1 -772.390758 -0.004154\n",
       "2 -774.196495 -0.004144\n",
       "3 -776.002231 -0.004134\n",
       "4 -777.807968 -0.004124"
      ]
     },
     "execution_count": 18,
     "metadata": {},
     "output_type": "execute_result"
    }
   ],
   "source": [
    "down_df.head()"
   ]
  },
  {
   "cell_type": "code",
   "execution_count": 9,
   "id": "404b9624-4610-47b5-94f9-56426339851e",
   "metadata": {},
   "outputs": [
    {
     "data": {
      "text/plain": [
       "(101, 2)"
      ]
     },
     "execution_count": 9,
     "metadata": {},
     "output_type": "execute_result"
    }
   ],
   "source": [
    "chill_df = pd.DataFrame({'depth': chill_data2.depth, 'PH': chill_data2})\n",
    "chill_df.shape"
   ]
  },
  {
   "cell_type": "code",
   "execution_count": 21,
   "id": "e14dbac2-3a05-491e-ae1d-0d97a7568764",
   "metadata": {},
   "outputs": [
    {
     "data": {
      "text/html": [
       "<div>\n",
       "<style scoped>\n",
       "    .dataframe tbody tr th:only-of-type {\n",
       "        vertical-align: middle;\n",
       "    }\n",
       "\n",
       "    .dataframe tbody tr th {\n",
       "        vertical-align: top;\n",
       "    }\n",
       "\n",
       "    .dataframe thead th {\n",
       "        text-align: right;\n",
       "    }\n",
       "</style>\n",
       "<table border=\"1\" class=\"dataframe\">\n",
       "  <thead>\n",
       "    <tr style=\"text-align: right;\">\n",
       "      <th></th>\n",
       "      <th>depth</th>\n",
       "      <th>W</th>\n",
       "    </tr>\n",
       "  </thead>\n",
       "  <tbody>\n",
       "    <tr>\n",
       "      <th>0</th>\n",
       "      <td>-4019.10498</td>\n",
       "      <td>NaN</td>\n",
       "    </tr>\n",
       "    <tr>\n",
       "      <th>1</th>\n",
       "      <td>-4019.10498</td>\n",
       "      <td>NaN</td>\n",
       "    </tr>\n",
       "    <tr>\n",
       "      <th>2</th>\n",
       "      <td>-4019.10498</td>\n",
       "      <td>NaN</td>\n",
       "    </tr>\n",
       "    <tr>\n",
       "      <th>3</th>\n",
       "      <td>-4019.10498</td>\n",
       "      <td>NaN</td>\n",
       "    </tr>\n",
       "    <tr>\n",
       "      <th>4</th>\n",
       "      <td>-4019.10498</td>\n",
       "      <td>NaN</td>\n",
       "    </tr>\n",
       "  </tbody>\n",
       "</table>\n",
       "</div>"
      ],
      "text/plain": [
       "        depth   W\n",
       "0 -4019.10498 NaN\n",
       "1 -4019.10498 NaN\n",
       "2 -4019.10498 NaN\n",
       "3 -4019.10498 NaN\n",
       "4 -4019.10498 NaN"
      ]
     },
     "execution_count": 21,
     "metadata": {},
     "output_type": "execute_result"
    }
   ],
   "source": [
    "chill_df.head()"
   ]
  },
  {
   "cell_type": "code",
   "execution_count": 10,
   "id": "0dd862e7-336a-4796-b73c-28202955e3a9",
   "metadata": {},
   "outputs": [
    {
     "data": {
      "text/plain": [
       "(1699, 2)"
      ]
     },
     "execution_count": 10,
     "metadata": {},
     "output_type": "execute_result"
    }
   ],
   "source": [
    "up_df = pd.DataFrame({'depth': up_data2.depth, 'PH': up_data2})\n",
    "#reverse up data\n",
    "reversed_up_df = up_df.iloc[::-1].reset_index(drop=True)\n",
    "reversed_up_df.shape"
   ]
  },
  {
   "cell_type": "code",
   "execution_count": 28,
   "id": "9e3f974d-e445-4462-b2ed-2566d0607006",
   "metadata": {},
   "outputs": [],
   "source": [
    "#concatenate\n",
    "W_df = pd.concat([windmix_df, down_df, chill_df, reversed_up_df], ignore_index=True)\n",
    "#remove NaN\n",
    "W_df_filled = W_df.fillna(method='ffill')"
   ]
  },
  {
   "cell_type": "code",
   "execution_count": 29,
   "id": "71c70a08-bc3e-430e-83a6-1abe797921bd",
   "metadata": {},
   "outputs": [
    {
     "data": {
      "text/plain": [
       "Text(0, 0.5, 'depth')"
      ]
     },
     "execution_count": 29,
     "metadata": {},
     "output_type": "execute_result"
    },
    {
     "data": {
      "image/png": "[encoded data removed]",
      "text/plain": [
       "<Figure size 500x300 with 1 Axes>"
      ]
     },
     "metadata": {},
     "output_type": "display_data"
    }
   ],
   "source": [
    "plt.figure(figsize=(5, 3))\n",
    "plt.plot(W_df_filled.index,W_df_filled[\"PH\"])\n",
    "plt.xlabel('Timestep')\n",
    "plt.ylabel('depth')"
   ]
  },
  {
   "cell_type": "code",
   "execution_count": 30,
   "id": "41e273b1-6a81-48f2-b2dd-eb063b7bad0d",
   "metadata": {},
   "outputs": [],
   "source": [
    "W_df_filled.to_csv(\"../data/trench_dive_pressure.csv\")"
   ]
  },
  {
   "cell_type": "code",
   "execution_count": null,
   "id": "72aabbf9-577f-40a5-a9f5-b523af6239cd",
   "metadata": {},
   "outputs": [],
   "source": [
    "## read in 3D data from public portal (you don't have to download!)\n",
    "model = llcreader.ECCOPortalLLC2160Model()\n",
    "ds = model.get_dataset(varnames=['PH'], type='latlon')\n",
    "subset2 = ds.isel(time=-1,j=slice(4645,4655),i=slice(7640,7650),k=slice(0,50))\n",
    "array2 = xr.DataArray(subset2.PH.data,dims=['depth','lat','lon'],coords={'depth':subset2.Z.data,'lat':subset2.YC[:,0].data,'lon':subset2.XC[0,:].data})\n",
    "#array2 = array2.load()"
   ]
  }
 ],
 "metadata": {
  "kernelspec": {
   "display_name": "Python 3 (ipykernel)",
   "language": "python",
   "name": "python3"
  },
  "language_info": {
   "codemirror_mode": {
    "name": "ipython",
    "version": 3
   },
   "file_extension": ".py",
   "mimetype": "text/x-python",
   "name": "python",
   "nbconvert_exporter": "python",
   "pygments_lexer": "ipython3",
   "version": "3.12.2"
  }
 },
 "nbformat": 4,
 "nbformat_minor": 5
}
